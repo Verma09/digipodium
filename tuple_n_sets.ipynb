{
 "cells": [
  {
   "cell_type": "markdown",
   "id": "eab82358-0a17-44f1-9c57-7f44c651d30e",
   "metadata": {},
   "source": [
    "# tuple"
   ]
  },
  {
   "cell_type": "code",
   "execution_count": null,
   "id": "eb7d2653-9e15-4885-90a0-02765b77f8ff",
   "metadata": {},
   "outputs": [],
   "source": [
    "a= (1,2,3,4,5)\n",
    "print (a)\n",
    "print(type(a))"
   ]
  },
  {
   "cell_type": "code",
   "execution_count": null,
   "id": "7fb6aa10-aa98-40d1-b6ea-5702c6a2fa31",
   "metadata": {},
   "outputs": [],
   "source": [
    "b = 1, 2, 3, 4\n",
    "print(b)\n",
    "print(type(b))"
   ]
  },
  {
   "cell_type": "code",
   "execution_count": 15,
   "id": "18acf39b-8bca-4b9b-ba81-f96e2e121358",
   "metadata": {},
   "outputs": [
    {
     "name": "stdout",
     "output_type": "stream",
     "text": [
      "1\n",
      "2\n",
      "3\n",
      "4\n",
      "5\n"
     ]
    }
   ],
   "source": [
    "for val in a:\n",
    "    print(val)"
   ]
  },
  {
   "cell_type": "code",
   "execution_count": 16,
   "id": "2fcf9731-af21-4935-82dc-04bbd2035979",
   "metadata": {},
   "outputs": [
    {
     "name": "stdout",
     "output_type": "stream",
     "text": [
      "(1, 2, 3, 4, 5, 6)\n"
     ]
    }
   ],
   "source": [
    "# concatenation\n",
    "print((1 ,2 , 3) + (4, 5, 6))"
   ]
  },
  {
   "cell_type": "code",
   "execution_count": 17,
   "id": "32a4f7f4-aa55-46e5-8ad5-671bd1ab6804",
   "metadata": {},
   "outputs": [
    {
     "name": "stdout",
     "output_type": "stream",
     "text": [
      "('Repeat', 'Repeat', 'Repeat')\n"
     ]
    }
   ],
   "source": [
    "# repeat\n",
    "print((\"Repeat\",) * 3)"
   ]
  },
  {
   "cell_type": "code",
   "execution_count": 18,
   "id": "a5c60f79-19b1-4731-8ae6-766ad5cb5e62",
   "metadata": {},
   "outputs": [
    {
     "name": "stdout",
     "output_type": "stream",
     "text": [
      "1\n",
      "0\n"
     ]
    }
   ],
   "source": [
    "my_tuple = ('a', 'p', 'p,' 'l', 'e',)\n",
    "print(my_tuple.count('p'))\n",
    "print(my_tuple.count('l'))"
   ]
  },
  {
   "cell_type": "code",
   "execution_count": 19,
   "id": "9ae89586-5814-47c5-a8f7-ad79dab23a9f",
   "metadata": {},
   "outputs": [
    {
     "name": "stdout",
     "output_type": "stream",
     "text": [
      "[1, 2, 3, 4, 5]\n"
     ]
    }
   ],
   "source": [
    "a1 = list(a)\n",
    "print(a1)"
   ]
  },
  {
   "cell_type": "code",
   "execution_count": 20,
   "id": "a2457f73-1245-4782-8b7f-545fd4b83b63",
   "metadata": {},
   "outputs": [
    {
     "name": "stdout",
     "output_type": "stream",
     "text": [
      "[2, 3, 12, 342, 23, 44, 12]\n",
      "(2, 3, 12, 342, 23, 44, 12)\n"
     ]
    }
   ],
   "source": [
    "val = [2,3,12,342,23,44,12]\n",
    "print(val)\n",
    "valt = tuple(val)\n",
    "print (valt)"
   ]
  },
  {
   "cell_type": "markdown",
   "id": "be73fd72-138d-48ac-b328-6dbade21ecc3",
   "metadata": {},
   "source": [
    "# sets"
   ]
  },
  {
   "cell_type": "code",
   "execution_count": 2,
   "id": "bace80ea-d5d6-44fe-8f36-6a62fde55818",
   "metadata": {},
   "outputs": [
    {
     "name": "stdout",
     "output_type": "stream",
     "text": [
      "{1, 2, 3, 4, 5, 6, 7, 8, 9, 10}\n",
      "<class 'set'>\n"
     ]
    }
   ],
   "source": [
    "s1 = {1,2,3,4,5,6,7,8,9,10,1,1}\n",
    "print(s1)\n",
    "print(type(s1))"
   ]
  },
  {
   "cell_type": "code",
   "execution_count": 23,
   "id": "c7bae665-05ee-476f-9c5e-b0eddc4ee351",
   "metadata": {},
   "outputs": [
    {
     "name": "stdout",
     "output_type": "stream",
     "text": [
      "{1, 2, 3, 4}\n"
     ]
    }
   ],
   "source": [
    "# set of integers\n",
    "my_set = {1,2,3,4}\n",
    "print(my_set)"
   ]
  },
  {
   "cell_type": "code",
   "execution_count": 25,
   "id": "51689474-5963-44ab-b09a-e9a8d6aa9d0d",
   "metadata": {},
   "outputs": [
    {
     "name": "stdout",
     "output_type": "stream",
     "text": [
      "set[1, 2, 3, 4, 5, 6]\n"
     ]
    }
   ],
   "source": [
    "#\n",
    "my_set = set [(1,2,3,4,5,6)]\n",
    "print(my_set)"
   ]
  },
  {
   "cell_type": "code",
   "execution_count": null,
   "id": "a72f6ed2-2db2-4f80-9f4b-13417ab7ca6f",
   "metadata": {},
   "outputs": [],
   "source": [
    "my_set = {1, 2, [3, 4]}  # error"
   ]
  },
  {
   "cell_type": "code",
   "execution_count": 28,
   "id": "1fe2cadc-dfed-4b67-a2e6-09a8ea52e8f5",
   "metadata": {},
   "outputs": [
    {
     "name": "stdout",
     "output_type": "stream",
     "text": [
      "<class 'set'>\n"
     ]
    }
   ],
   "source": [
    "# initialize a with set()\n",
    "a = set()\n",
    "# check data type of a\n",
    "print(type(a))"
   ]
  },
  {
   "cell_type": "code",
   "execution_count": 29,
   "id": "d29ec7b1-4001-4400-b4cc-eb70242fcd34",
   "metadata": {},
   "outputs": [
    {
     "name": "stdout",
     "output_type": "stream",
     "text": [
      "{1, 3}\n"
     ]
    }
   ],
   "source": [
    "my_set = {1, 3}\n",
    "print(my_set)\n"
   ]
  },
  {
   "cell_type": "code",
   "execution_count": 30,
   "id": "d540a1f8-7e8f-4397-8ceb-47d574051422",
   "metadata": {},
   "outputs": [
    {
     "name": "stdout",
     "output_type": "stream",
     "text": [
      "{1, 2, 3}\n"
     ]
    }
   ],
   "source": [
    "my_set.add(2)\n",
    "print(my_set )"
   ]
  },
  {
   "cell_type": "code",
   "execution_count": 31,
   "id": "b1da3060-58fa-4e8d-a235-593b80492f82",
   "metadata": {},
   "outputs": [
    {
     "name": "stdout",
     "output_type": "stream",
     "text": [
      "{1, 2, 3, 4}\n"
     ]
    }
   ],
   "source": [
    "my_set.update([2, 3, 4])\n",
    "print(my_set)"
   ]
  },
  {
   "cell_type": "code",
   "execution_count": 32,
   "id": "2217df32-0ddd-4b1e-b5d0-c0861417dd47",
   "metadata": {},
   "outputs": [
    {
     "name": "stdout",
     "output_type": "stream",
     "text": [
      "{1, 2, 3, 4, 5, 6, 8}\n"
     ]
    }
   ],
   "source": [
    "# add list and set\n",
    "my_set.update([4, 5], {1, 6, 8})\n",
    "print(my_set)"
   ]
  },
  {
   "cell_type": "code",
   "execution_count": 33,
   "id": "0c62b5f6-b4bb-4e3c-a7d8-110228c18b17",
   "metadata": {},
   "outputs": [
    {
     "name": "stdout",
     "output_type": "stream",
     "text": [
      "{1, 3, 4, 5, 6}\n"
     ]
    }
   ],
   "source": [
    "my_set = {1, 3, 4, 5, 6}\n",
    "print(my_set)\n"
   ]
  },
  {
   "cell_type": "code",
   "execution_count": 34,
   "id": "d6896f39-5c5b-4bbe-b7a8-05cd2e9a07f1",
   "metadata": {},
   "outputs": [
    {
     "name": "stdout",
     "output_type": "stream",
     "text": [
      "{1, 3, 5, 6}\n"
     ]
    }
   ],
   "source": [
    "# discard an item\n",
    "my_set.discard(4)\n",
    "print(my_set)"
   ]
  },
  {
   "cell_type": "code",
   "execution_count": 36,
   "id": "e6b05453-87a0-4cdb-a31b-fcd94d67fac0",
   "metadata": {},
   "outputs": [
    {
     "name": "stdout",
     "output_type": "stream",
     "text": [
      "{1, 3, 5}\n"
     ]
    }
   ],
   "source": [
    "# remove an item\n",
    "my_set.remove(6)\n",
    "print(my_set)"
   ]
  },
  {
   "cell_type": "code",
   "execution_count": 37,
   "id": "3db0d2dd-2417-4d6e-9449-803a37f1caaa",
   "metadata": {},
   "outputs": [
    {
     "name": "stdout",
     "output_type": "stream",
     "text": [
      "{3, 5}\n"
     ]
    }
   ],
   "source": [
    "# pops a random item\n",
    "my_set.pop()\n",
    "print(my_set)"
   ]
  },
  {
   "cell_type": "code",
   "execution_count": 38,
   "id": "94d4cd7b-13b6-4901-8593-4c10840543ef",
   "metadata": {},
   "outputs": [
    {
     "name": "stdout",
     "output_type": "stream",
     "text": [
      "set()\n"
     ]
    }
   ],
   "source": [
    "# clear my set\n",
    "my_set.clear()\n",
    "print(my_set)"
   ]
  },
  {
   "cell_type": "markdown",
   "id": "790bc906-62eb-44d2-9ee0-82f2f09f1cfd",
   "metadata": {},
   "source": [
    "# Set Union"
   ]
  },
  {
   "cell_type": "raw",
   "id": "d9079e55-034e-4353-ac4a-cf2dbd465294",
   "metadata": {},
   "source": [
    "A = {1, 2, 3, 4, 5}\n",
    "B = {4, 5, 6, 7, 8}"
   ]
  },
  {
   "cell_type": "code",
   "execution_count": 41,
   "id": "05626abc-7ae6-4569-b024-b216794f81df",
   "metadata": {},
   "outputs": [
    {
     "name": "stdout",
     "output_type": "stream",
     "text": [
      "{1, 2, 3, 4, 5, 6, 7, 8}\n"
     ]
    }
   ],
   "source": [
    "# use / operator\n",
    "print(A | B)"
   ]
  },
  {
   "cell_type": "code",
   "execution_count": 42,
   "id": "ad4d1ef6-2410-42f7-b39c-1818d9ae17d4",
   "metadata": {},
   "outputs": [
    {
     "data": {
      "text/plain": [
       "{1, 2, 3, 4, 5, 6, 7, 8}"
      ]
     },
     "execution_count": 42,
     "metadata": {},
     "output_type": "execute_result"
    }
   ],
   "source": [
    "A.union(B)"
   ]
  },
  {
   "cell_type": "code",
   "execution_count": 43,
   "id": "d0c3d87b-f03c-48b7-8b9a-d121353209b3",
   "metadata": {},
   "outputs": [
    {
     "data": {
      "text/plain": [
       "{1, 2, 3, 4, 5, 6, 7, 8}"
      ]
     },
     "execution_count": 43,
     "metadata": {},
     "output_type": "execute_result"
    }
   ],
   "source": [
    "B.union(A)"
   ]
  },
  {
   "cell_type": "markdown",
   "id": "fbda2a49-8731-4f67-afb8-990514bd8aef",
   "metadata": {},
   "source": [
    "# Set Intersection"
   ]
  },
  {
   "cell_type": "code",
   "execution_count": 44,
   "id": "b473045e-2689-4228-acfb-26a1a4cef03a",
   "metadata": {},
   "outputs": [
    {
     "name": "stdout",
     "output_type": "stream",
     "text": [
      "{4, 5}\n"
     ]
    }
   ],
   "source": [
    "print(A & B)"
   ]
  },
  {
   "cell_type": "code",
   "execution_count": 46,
   "id": "435361fc-c9c4-4852-b20c-50ee3ebe7821",
   "metadata": {},
   "outputs": [
    {
     "data": {
      "text/plain": [
       "{4, 5}"
      ]
     },
     "execution_count": 46,
     "metadata": {},
     "output_type": "execute_result"
    }
   ],
   "source": [
    "A.intersection(B)"
   ]
  },
  {
   "cell_type": "markdown",
   "id": "4b9a80ac-d9e7-4a5c-a617-6793ce17c0ad",
   "metadata": {},
   "source": [
    "# Set Difference"
   ]
  },
  {
   "cell_type": "code",
   "execution_count": 49,
   "id": "5fd12eca-9f4a-485e-8e7c-7c288a5ae4c1",
   "metadata": {},
   "outputs": [
    {
     "name": "stdout",
     "output_type": "stream",
     "text": [
      "{1, 2, 3}\n"
     ]
    }
   ],
   "source": [
    "print(A - B)"
   ]
  },
  {
   "cell_type": "code",
   "execution_count": 50,
   "id": "8485dd5f-d2da-48f6-a659-5cb863fc9a13",
   "metadata": {},
   "outputs": [
    {
     "data": {
      "text/plain": [
       "{1, 2, 3}"
      ]
     },
     "execution_count": 50,
     "metadata": {},
     "output_type": "execute_result"
    }
   ],
   "source": [
    "A.difference(B)\n",
    "{1, 2, 3}"
   ]
  },
  {
   "cell_type": "markdown",
   "id": "48697ef0-8357-49f0-ad8e-63a8bad7f68c",
   "metadata": {},
   "source": [
    "# Set Symmetric difference"
   ]
  },
  {
   "cell_type": "code",
   "execution_count": 51,
   "id": "7bed6bbf-f1db-4182-9558-df9bcd9c2095",
   "metadata": {},
   "outputs": [
    {
     "name": "stdout",
     "output_type": "stream",
     "text": [
      "{1, 2, 3, 6, 7, 8}\n"
     ]
    }
   ],
   "source": [
    "print(A ^ B)"
   ]
  },
  {
   "cell_type": "code",
   "execution_count": 52,
   "id": "59dfcbcc-fc64-401a-b2ed-67bf7fded466",
   "metadata": {},
   "outputs": [
    {
     "data": {
      "text/plain": [
       "{1, 2, 3, 4, 5, 6}"
      ]
     },
     "execution_count": 52,
     "metadata": {},
     "output_type": "execute_result"
    }
   ],
   "source": [
    "# use semmetric function\n",
    "A.symmetric_difference(B)\n",
    "{1, 2, 3, 4, 5, 6}"
   ]
  },
  {
   "cell_type": "code",
   "execution_count": 60,
   "id": "610c2a51-119e-45ca-96ed-c4be752f256b",
   "metadata": {},
   "outputs": [
    {
     "name": "stdout",
     "output_type": "stream",
     "text": [
      "{7}\n"
     ]
    }
   ],
   "source": [
    "E1 = {2, 3, 4, 5, 6, 7}\n",
    "E2 = {1, 2, 3, 4, 5, 6,}\n",
    "print(E1 - E2)"
   ]
  },
  {
   "cell_type": "code",
   "execution_count": 61,
   "id": "7667fd9e-a4f4-4633-9670-f4f188105b69",
   "metadata": {},
   "outputs": [
    {
     "name": "stdout",
     "output_type": "stream",
     "text": [
      "{1, 2, 3, 4, 5, 6, 7}\n"
     ]
    }
   ],
   "source": [
    "E1 = {2, 3, 4, 5, 6, 7}\n",
    "E2 = {1, 2, 3, 4, 5, 6,}\n",
    "print(E1 | E2)"
   ]
  },
  {
   "cell_type": "code",
   "execution_count": 62,
   "id": "8893c67b-83f9-44ae-9d35-ac571b452f9b",
   "metadata": {},
   "outputs": [
    {
     "name": "stdout",
     "output_type": "stream",
     "text": [
      "{1, 7}\n"
     ]
    }
   ],
   "source": [
    "E1 = {2, 3, 4, 5, 6, 7}\n",
    "E2 = {1, 2, 3, 4, 5, 6,}\n",
    "print(E1 ^ E2)"
   ]
  },
  {
   "cell_type": "code",
   "execution_count": 63,
   "id": "2600f725-9a0a-45a2-80a2-4581681e7f67",
   "metadata": {},
   "outputs": [
    {
     "name": "stdout",
     "output_type": "stream",
     "text": [
      "{2, 3, 4, 5, 6}\n"
     ]
    }
   ],
   "source": [
    "E1 = {2, 3, 4, 5, 6, 7}\n",
    "E2 = {1, 2, 3, 4, 5, 6,}\n",
    "print(E1 & E2)"
   ]
  },
  {
   "cell_type": "markdown",
   "id": "2165f922-7198-4205-b8d2-2d9c18b32353",
   "metadata": {},
   "source": [
    "# dictionary"
   ]
  },
  {
   "cell_type": "code",
   "execution_count": 68,
   "id": "54b6f867-5f1e-4ce3-8273-fae376e7efc5",
   "metadata": {},
   "outputs": [],
   "source": [
    "# for vs [] for reteieving elements\n",
    "my_dict = {'Name': 'Sandhya', 'Age': 19}"
   ]
  },
  {
   "cell_type": "code",
   "execution_count": 65,
   "id": "212f9896-27dc-488f-8643-507035a89264",
   "metadata": {},
   "outputs": [
    {
     "name": "stdout",
     "output_type": "stream",
     "text": [
      "Sandhya\n"
     ]
    }
   ],
   "source": [
    "print(my_dict['Name'])"
   ]
  },
  {
   "cell_type": "code",
   "execution_count": 66,
   "id": "58d66364-59da-4a72-ae42-43ae3f701d0a",
   "metadata": {},
   "outputs": [
    {
     "name": "stdout",
     "output_type": "stream",
     "text": [
      "19\n"
     ]
    }
   ],
   "source": [
    "print(my_dict.get('Age'))"
   ]
  },
  {
   "cell_type": "code",
   "execution_count": 72,
   "id": "67955daf-cd81-4567-93cc-68262e81601b",
   "metadata": {},
   "outputs": [
    {
     "name": "stdout",
     "output_type": "stream",
     "text": [
      "Kanpur\n"
     ]
    }
   ],
   "source": [
    "print(my_dict.get('Address'))"
   ]
  },
  {
   "cell_type": "code",
   "execution_count": 74,
   "id": "c84be389-4c2d-4746-9555-335fabc7af44",
   "metadata": {},
   "outputs": [],
   "source": [
    "my_dict['Age'] = 19"
   ]
  },
  {
   "cell_type": "code",
   "execution_count": 73,
   "id": "b85b259d-f04b-4104-b922-47c4f627e17f",
   "metadata": {},
   "outputs": [],
   "source": [
    "my_dict['Address'] = 'Downtown'"
   ]
  },
  {
   "cell_type": "code",
   "execution_count": 76,
   "id": "62d89ada-83fd-419a-97ed-11766f899408",
   "metadata": {},
   "outputs": [
    {
     "name": "stdout",
     "output_type": "stream",
     "text": [
      "{'Name': 'Sandhya', 'Age': 19, 'Address': 'Downtown'}\n"
     ]
    }
   ],
   "source": [
    "print(my_dict)"
   ]
  },
  {
   "cell_type": "markdown",
   "id": "f55520e3-f55e-4bcb-85e5-3018d6c40e86",
   "metadata": {},
   "source": [
    "# Removing elements from dictonary"
   ]
  },
  {
   "cell_type": "code",
   "execution_count": 77,
   "id": "3bad55c6-87f4-42ba-b752-ef40e902bad2",
   "metadata": {},
   "outputs": [],
   "source": [
    "squares = {1: 1, 2: 4, 3: 9 , 4: 16, 5: 25}"
   ]
  },
  {
   "cell_type": "code",
   "execution_count": 78,
   "id": "ef49f157-4371-4b08-948d-e7b7c63e0c43",
   "metadata": {},
   "outputs": [
    {
     "name": "stdout",
     "output_type": "stream",
     "text": [
      "16\n"
     ]
    }
   ],
   "source": [
    "print(squares.pop(4))"
   ]
  },
  {
   "cell_type": "code",
   "execution_count": 79,
   "id": "d89f077c-d4de-43f4-a257-defb7e31ac6e",
   "metadata": {},
   "outputs": [
    {
     "name": "stdout",
     "output_type": "stream",
     "text": [
      "{1, 2, 3, 4, 5, 6, 7, 8, 9, 10}\n",
      "[1, 2, 3, 4, 5, 6, 7, 8, 9, 10]\n",
      "(1, 2, 3, 4, 5, 6, 7, 8, 9, 10)\n",
      "{1, 2, 3}\n",
      "{2, 3, 4, 5, 6}\n"
     ]
    }
   ],
   "source": [
    "print(s1)\n",
    "s1 = list(s1)\n",
    "print(s1)\n",
    "st = tuple(s1)\n",
    "print(st)\n",
    "a = set([1, 2, 3, 3, 3, 3, 1, 1])\n",
    "print(a)\n",
    "b = set([2, 2, 3, 3, 4, 5, 5, 5, 6])\n",
    "print(b)"
   ]
  },
  {
   "cell_type": "code",
   "execution_count": 3,
   "id": "a2d25f0b-a7ac-4da5-a254-476e96d33319",
   "metadata": {},
   "outputs": [],
   "source": [
    "report = {\n",
    "    'student 1': {\n",
    "        'name': 'sandhya',\n",
    "        'marks': {\n",
    "            'math': 70,\n",
    "            'science': 80,\n",
    "            'history': 68,\n",
    "            'english': 70,\n",
    "            'evs': 90\n",
    "        }\n",
    "    },\n",
    "\n",
    "'student 2': {\n",
    "        'name': 'shilpa',\n",
    "        'marks': {\n",
    "            'math': 80,\n",
    "            'science': 70,\n",
    "            'history': 66,\n",
    "            'english': 74,\n",
    "            'evs': 93\n",
    "        }\n",
    "    },\n",
    "}\n",
    "    \n",
    "        "
   ]
  },
  {
   "cell_type": "code",
   "execution_count": 4,
   "id": "4e54cb0c-0c1c-4535-a806-9de17f7675bf",
   "metadata": {},
   "outputs": [
    {
     "data": {
      "text/plain": [
       "{'student 1': {'name': 'sandhya',\n",
       "  'marks': {'math': 70,\n",
       "   'science': 80,\n",
       "   'history': 68,\n",
       "   'english': 70,\n",
       "   'evs': 90}},\n",
       " 'student 2': {'name': 'shilpa',\n",
       "  'marks': {'math': 80,\n",
       "   'science': 70,\n",
       "   'history': 66,\n",
       "   'english': 74,\n",
       "   'evs': 93}}}"
      ]
     },
     "execution_count": 4,
     "metadata": {},
     "output_type": "execute_result"
    }
   ],
   "source": [
    "report"
   ]
  },
  {
   "cell_type": "code",
   "execution_count": 5,
   "id": "eb63a78f-b7c7-4b85-920b-77d709d00ef4",
   "metadata": {},
   "outputs": [
    {
     "name": "stdout",
     "output_type": "stream",
     "text": [
      "{'name': 'sandhya', 'marks': {'math': 70, 'science': 80, 'history': 68, 'english': 70, 'evs': 90}}\n"
     ]
    }
   ],
   "source": [
    "print(report['student 1'])"
   ]
  },
  {
   "cell_type": "code",
   "execution_count": 7,
   "id": "afdd5a76-156a-422b-b53c-85662f832e2f",
   "metadata": {},
   "outputs": [
    {
     "name": "stdout",
     "output_type": "stream",
     "text": [
      "sandhya\n",
      "{'math': 70, 'science': 80, 'history': 68, 'english': 70, 'evs': 90}\n",
      "68\n"
     ]
    }
   ],
   "source": [
    "print(report['student 1'] ['name'])\n",
    "print(report['student 1'] ['marks'])\n",
    "print(report['student 1'] ['marks'] ['history'])"
   ]
  },
  {
   "cell_type": "code",
   "execution_count": null,
   "id": "b136965d-26f7-4b7b-81ca-b979bd86ec4a",
   "metadata": {},
   "outputs": [],
   "source": []
  },
  {
   "cell_type": "markdown",
   "id": "6e74f655-8fb4-4ada-986c-aec2750cf25b",
   "metadata": {},
   "source": [
    "# loop for dictonary"
   ]
  },
  {
   "cell_type": "code",
   "execution_count": 8,
   "id": "3b09675d-6e71-466c-b1d1-a6e08e549f66",
   "metadata": {},
   "outputs": [
    {
     "name": "stdout",
     "output_type": "stream",
     "text": [
      "('student 1', {'name': 'sandhya', 'marks': {'math': 70, 'science': 80, 'history': 68, 'english': 70, 'evs': 90}})\n",
      "('student 2', {'name': 'shilpa', 'marks': {'math': 80, 'science': 70, 'history': 66, 'english': 74, 'evs': 93}})\n"
     ]
    }
   ],
   "source": [
    "for i in report.items():\n",
    "    print(i)"
   ]
  },
  {
   "cell_type": "code",
   "execution_count": 10,
   "id": "b0349436-1abe-487a-bbd8-498712f5728c",
   "metadata": {},
   "outputs": [
    {
     "name": "stdout",
     "output_type": "stream",
     "text": [
      "student: student 1\n",
      "name name\n",
      "sandhya\n",
      "name marks\n",
      "math 70\n",
      "science 80\n",
      "history 68\n",
      "english 70\n",
      "evs 90\n",
      "student: student 2\n",
      "name name\n",
      "shilpa\n",
      "name marks\n",
      "math 80\n",
      "science 70\n",
      "history 66\n",
      "english 74\n",
      "evs 93\n"
     ]
    }
   ],
   "source": [
    "for k,v in report.items():\n",
    "    print(\"student:\",k)\n",
    "    if isinstance(v,dict):\n",
    "         for k1,v1 in v.items():\n",
    "                print(\"name\",k1)\n",
    "                if isinstance(v1,dict):\n",
    "                    for sub,marks in v1.items():\n",
    "                        print(sub,marks)\n",
    "                else:\n",
    "                    print(v1)\n",
    "    else:\n",
    "        print(v)\n",
    "                    \n",
    "                \n",
    "        "
   ]
  },
  {
   "cell_type": "code",
   "execution_count": null,
   "id": "39db6c70-de4c-4871-8e59-23ae11581ec4",
   "metadata": {},
   "outputs": [],
   "source": []
  }
 ],
 "metadata": {
  "kernelspec": {
   "display_name": "Python 3 (ipykernel)",
   "language": "python",
   "name": "python3"
  },
  "language_info": {
   "codemirror_mode": {
    "name": "ipython",
    "version": 3
   },
   "file_extension": ".py",
   "mimetype": "text/x-python",
   "name": "python",
   "nbconvert_exporter": "python",
   "pygments_lexer": "ipython3",
   "version": "3.9.12"
  }
 },
 "nbformat": 4,
 "nbformat_minor": 5
}
