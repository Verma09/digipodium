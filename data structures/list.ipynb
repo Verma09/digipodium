{
 "cells": [
  {
   "cell_type": "markdown",
   "id": "99340058-7f3e-46ce-9e37-1a7dcc551a4e",
   "metadata": {},
   "source": [
    "<h4>List<h4>\n",
    "list are used to store multiple item in a single variable.\n",
    "list item are ordered, changeable and allow duplicate values.\n",
    "list can be created by the uses of [] brackets with \n"
   ]
  },
  {
   "cell_type": "code",
   "execution_count": 48,
   "id": "79be060f-4ed2-4e66-aeec-006ebfb5a64a",
   "metadata": {},
   "outputs": [],
   "source": [
    "# define list in python\n",
    "#list of strings\n",
    "list1 = [\"Nikhlest\",\"Aman\",\"suresh\",\"Rahul\",\"Raman\"]\n",
    "\n",
    "#list of numbers\n",
    "list2 = [1, 2, 3, 4, 5, 25, 100]\n",
    "\n",
    "#mixed data list\n",
    "list3 = ['Ravi' ,90,102,93,29,44,\"B\",False,5.786]\n",
    "\n",
    "#nested list\n",
    "list4 = [[1,2,3],[3,4,5,7],[2,1]]"
   ]
  },
  {
   "cell_type": "code",
   "execution_count": 49,
   "id": "478a85ce-6a71-40f4-9600-2670f3938dfc",
   "metadata": {},
   "outputs": [
    {
     "name": "stdout",
     "output_type": "stream",
     "text": [
      "list1 =  <class 'list'>\n",
      "list1[0]= 2\n",
      "list1[2]= list[2]\n",
      "list1[-1] list[-1]\n",
      "list1[-3] 16\n"
     ]
    }
   ],
   "source": [
    "# Accessing list item in Python \n",
    "list1 = [2,4,6,'A',10,'B',16,'C',20]\n",
    "print('list1 = ',list)\n",
    "#first item\n",
    "print('list1[0]=',list1[0])\n",
    "#third item\n",
    "print('list1[2]=',list[2])\n",
    "#last item     \n",
    "print('list1[-1]',list[-1])\n",
    "#last third item\n",
    "print('list1[-3]',list1[-3])"
   ]
  },
  {
   "cell_type": "code",
   "execution_count": 50,
   "id": "9e5fdedc-835a-44a8-978d-4010fd726674",
   "metadata": {},
   "outputs": [
    {
     "name": "stdout",
     "output_type": "stream",
     "text": [
      "[40, 50, 60, 70]\n"
     ]
    }
   ],
   "source": [
    "# Getting a list slice\n",
    "#  0 1 2 3 4 5  6 7 8 9\n",
    "l =[10,20,30,40,50,60,70,90,100]\n",
    "slice1 = l[3:-2]\n",
    "print(slice1)"
   ]
  },
  {
   "cell_type": "code",
   "execution_count": 64,
   "id": "24bbdd81-eaf8-4c41-97c2-e0d0254dc93a",
   "metadata": {},
   "outputs": [],
   "source": [
    "books = [\n",
    "    'Legion',\n",
    "    'Legion: Skin Deep',\n",
    "    'Steelheart',\n",
    "    'Calamity',\n",
    "    'The Finel Empire',\n",
    "    'The well of Ascension',\n",
    "    'Way of the Kings',\n",
    "    'Oathbringer',\n",
    "    'Word of Radiance',\n",
    "    'Warbreaker',\n",
    "]"
   ]
  },
  {
   "cell_type": "code",
   "execution_count": 65,
   "id": "9e3fc699-f1d7-4aa7-b9f9-0b6f9be4c361",
   "metadata": {},
   "outputs": [
    {
     "name": "stdout",
     "output_type": "stream",
     "text": [
      "['Legion', 'Legion: Skin Deep', 'Steelheart', 'Calamity', 'The Finel Empire', 'The well of Ascension', 'Way of the Kings', 'Oathbringer', 'Word of Radiance', 'Warbreaker']\n"
     ]
    }
   ],
   "source": [
    "print(books)\n",
    "        "
   ]
  },
  {
   "cell_type": "code",
   "execution_count": null,
   "id": "77cf3b93-2273-47f1-95c8-907f8a817d0f",
   "metadata": {},
   "outputs": [],
   "source": [
    "\n",
    "        "
   ]
  },
  {
   "cell_type": "code",
   "execution_count": 66,
   "id": "0f65a41f-1c99-4aa7-bc55-87c1dfd6e13f",
   "metadata": {},
   "outputs": [
    {
     "name": "stdout",
     "output_type": "stream",
     "text": [
      "['Legion', 'Legion: Skin Deep', 'Steelheart', 'Calamity', 'The Finel Empire', 'The well of Ascension', 'The Hero of Ages', 'Way of the Kings', 'Oathbringer', 'Word of Radiance', 'Warbreaker']\n"
     ]
    }
   ],
   "source": [
    "books.insert(6,'The Hero of Ages')\n",
    "print(books)\n",
    "        "
   ]
  },
  {
   "cell_type": "code",
   "execution_count": 67,
   "id": "1f233aae-aa8e-49bd-825d-92dc2b8a0349",
   "metadata": {},
   "outputs": [
    {
     "data": {
      "text/plain": [
       "['Legion', 'Legion: Skin Deep', 'Steelheart']"
      ]
     },
     "execution_count": 67,
     "metadata": {},
     "output_type": "execute_result"
    }
   ],
   "source": [
    "books[:3]\n",
    "        "
   ]
  },
  {
   "cell_type": "code",
   "execution_count": 68,
   "id": "7b1480f2-0e66-4023-83b2-28c95e363612",
   "metadata": {},
   "outputs": [
    {
     "data": {
      "text/plain": [
       "['Calamity',\n",
       " 'The Finel Empire',\n",
       " 'The well of Ascension',\n",
       " 'The Hero of Ages',\n",
       " 'Way of the Kings']"
      ]
     },
     "execution_count": 68,
     "metadata": {},
     "output_type": "execute_result"
    }
   ],
   "source": [
    "books[3:-3] \n",
    "        "
   ]
  },
  {
   "cell_type": "code",
   "execution_count": null,
   "id": "b9add0db-d47f-4503-b798-38feb2ed84f5",
   "metadata": {},
   "outputs": [],
   "source": [
    "\n",
    "        "
   ]
  },
  {
   "cell_type": "markdown",
   "id": "a2c3b336-7739-447a-b7c1-0dcf0204944e",
   "metadata": {},
   "source": [
    "#  There are 11 functions in the list."
   ]
  },
  {
   "cell_type": "code",
   "execution_count": 69,
   "id": "2d121b15-7deb-408c-a164-d5da385fb435",
   "metadata": {},
   "outputs": [
    {
     "data": {
      "text/plain": [
       "['Apple', 'Banana', 'Mango', 'Guava', 'Grapes', 'Pine apple']"
      ]
     },
     "execution_count": 69,
     "metadata": {},
     "output_type": "execute_result"
    }
   ],
   "source": [
    "# Append Function\n",
    "fruits = []\n",
    "fruits.append(\"Apple\")\n",
    "fruits.append(\"Banana\")\n",
    "fruits.append(\"Mango\")\n",
    "fruits.append(\"Guava\")\n",
    "fruits.append(\"Grapes\")\n",
    "fruits.append(\"Pine apple\")\n",
    "fruits"
   ]
  },
  {
   "cell_type": "code",
   "execution_count": 70,
   "id": "48589ee5-095f-48d8-be23-d886591d086c",
   "metadata": {},
   "outputs": [],
   "source": [
    "# books append()"
   ]
  },
  {
   "cell_type": "code",
   "execution_count": 71,
   "id": "d4fe5aa4-b01a-4976-9011-160e58478712",
   "metadata": {},
   "outputs": [
    {
     "name": "stdout",
     "output_type": "stream",
     "text": [
      "['apple', 'cherry', 'banana', 'orange']\n"
     ]
    }
   ],
   "source": [
    "# Insert Function\n",
    "fruits = ['apple','banana','orange']\n",
    "fruits.insert(1, \"cherry\")\n",
    "print(fruits)"
   ]
  },
  {
   "cell_type": "code",
   "execution_count": 72,
   "id": "0d324aeb-d5d5-4024-a9b5-76abd2d57081",
   "metadata": {},
   "outputs": [
    {
     "data": {
      "text/plain": [
       "['Apple', 'Banana', 'cherry', 'Mango', 'Almond', 'cashew', 'walnut']"
      ]
     },
     "execution_count": 72,
     "metadata": {},
     "output_type": "execute_result"
    }
   ],
   "source": [
    "# Extends Function\n",
    "fruits = ['Apple','Banana','cherry','Mango']\n",
    "dry_fruits = ['Almond','cashew','walnut']\n",
    "fruits.extend(dry_fruits)\n",
    "fruits"
   ]
  },
  {
   "cell_type": "code",
   "execution_count": 73,
   "id": "e289f963-8fac-421b-8c42-6ddab31641ba",
   "metadata": {},
   "outputs": [
    {
     "data": {
      "text/plain": [
       "['Apple', 'Cherry', 'Mango', 'Pine apple']"
      ]
     },
     "execution_count": 73,
     "metadata": {},
     "output_type": "execute_result"
    }
   ],
   "source": [
    "# Sort Function\n",
    "fruits = ['Cherry','Mango','Apple','Pine apple']\n",
    "fruits.sort()\n",
    "fruits"
   ]
  },
  {
   "cell_type": "code",
   "execution_count": 74,
   "id": "e03e7ffa-b44b-4467-a9a3-f28702ef7046",
   "metadata": {},
   "outputs": [
    {
     "name": "stdout",
     "output_type": "stream",
     "text": [
      "['Word of Radiance', 'Way of the Kings', 'Warbreaker', 'The well of Ascension', 'The Hero of Ages', 'The Finel Empire', 'Steelheart', 'Oathbringer', 'Legion: Skin Deep', 'Legion', 'Calamity']\n"
     ]
    }
   ],
   "source": [
    "# Sort Function\n",
    "\n",
    "books.sort(reverse=True)\n",
    "print(books)"
   ]
  },
  {
   "cell_type": "code",
   "execution_count": 1,
   "id": "9c537c69-9096-44e0-aad7-0cb398efab08",
   "metadata": {},
   "outputs": [
    {
     "data": {
      "text/plain": [
       "['Pine apple', 'Mango', 'Lichi', 'Grapes', 'Cherry', 'Apple']"
      ]
     },
     "execution_count": 1,
     "metadata": {},
     "output_type": "execute_result"
    }
   ],
   "source": [
    "# Reverse Function\n",
    "fruits = ['Cherry','Mango','Apple','Pine apple','Lichi','Grapes']\n",
    "fruits.sort(reverse=True)\n",
    "fruits"
   ]
  },
  {
   "cell_type": "code",
   "execution_count": 76,
   "id": "7680b43b-aac2-4426-b82c-f5e0f0e1bacb",
   "metadata": {},
   "outputs": [
    {
     "data": {
      "text/plain": [
       "['Cherry', 'Mango', 'Pine apple']"
      ]
     },
     "execution_count": 76,
     "metadata": {},
     "output_type": "execute_result"
    }
   ],
   "source": [
    "\n",
    "fruits = ['Cherry','Mango','Apple','Pine apple']\n",
    "fruits.remove('Apple')\n",
    "fruits"
   ]
  },
  {
   "cell_type": "code",
   "execution_count": 77,
   "id": "0ec5408e-be88-4763-87db-102f088b38f2",
   "metadata": {},
   "outputs": [
    {
     "name": "stdout",
     "output_type": "stream",
     "text": [
      "[1, 2, 2, 3, 3, 4, 3, 3, 3, 2, 2, 1, 1, 1]\n"
     ]
    }
   ],
   "source": [
    "x = [1,2,2,3,3,4,3,3,3,2,2,1,1,1]\n",
    "x.sort\n",
    "print(x)\n"
   ]
  },
  {
   "cell_type": "code",
   "execution_count": 78,
   "id": "f3261339-cc72-424a-b14e-3ce08f330863",
   "metadata": {},
   "outputs": [
    {
     "name": "stdout",
     "output_type": "stream",
     "text": [
      "[2, 2, 3, 3, 4, 3, 3, 3, 2, 2, 1, 1, 1]\n",
      "[2, 2, 3, 3, 3, 3, 3, 2, 2, 1, 1, 1]\n"
     ]
    }
   ],
   "source": [
    "if 1 in x:\n",
    "    x.remove(1)\n",
    "    print(x)\n",
    "    if 4 in x:\n",
    "        x.remove(4)\n",
    "        print(x)\n"
   ]
  },
  {
   "cell_type": "code",
   "execution_count": 79,
   "id": "899c003b-2bc3-439b-834c-c550d83278ae",
   "metadata": {},
   "outputs": [
    {
     "name": "stdout",
     "output_type": "stream",
     "text": [
      "[2, 2, 3, 3, 3, 3, 3, 2, 2, 1, 1, 1]\n"
     ]
    }
   ],
   "source": [
    "print(x)"
   ]
  },
  {
   "cell_type": "code",
   "execution_count": 80,
   "id": "bdaa5acc-0a1d-41c8-a280-658f9d425194",
   "metadata": {},
   "outputs": [],
   "source": [
    "x.remove(3) if 3 in x else print('not found')"
   ]
  },
  {
   "cell_type": "code",
   "execution_count": 81,
   "id": "24e3fbfa-4935-41c7-9f66-90b7bb9c8849",
   "metadata": {},
   "outputs": [
    {
     "name": "stdout",
     "output_type": "stream",
     "text": [
      "['Word of Radiance', 'Way of the Kings', 'Warbreaker', 'The well of Ascension', 'The Hero of Ages', 'The Finel Empire', 'Steelheart', 'Oathbringer', 'Legion: Skin Deep', 'Legion', 'Calamity']\n"
     ]
    }
   ],
   "source": [
    "books.reverse\n",
    "print(books)"
   ]
  },
  {
   "cell_type": "code",
   "execution_count": 82,
   "id": "3935f5f3-84cd-4438-9e2a-e278bf25264e",
   "metadata": {},
   "outputs": [
    {
     "data": {
      "text/plain": [
       "['Calamity',\n",
       " 'Legion',\n",
       " 'Legion: Skin Deep',\n",
       " 'Oathbringer',\n",
       " 'Steelheart',\n",
       " 'The Finel Empire',\n",
       " 'The Hero of Ages',\n",
       " 'The well of Ascension',\n",
       " 'Warbreaker',\n",
       " 'Way of the Kings',\n",
       " 'Word of Radiance']"
      ]
     },
     "execution_count": 82,
     "metadata": {},
     "output_type": "execute_result"
    }
   ],
   "source": [
    "books[::-1] # Reverse the list"
   ]
  },
  {
   "cell_type": "code",
   "execution_count": 83,
   "id": "430b6ff3-325d-40e6-a486-41af3254e12e",
   "metadata": {},
   "outputs": [
    {
     "data": {
      "text/plain": [
       "5"
      ]
     },
     "execution_count": 83,
     "metadata": {},
     "output_type": "execute_result"
    }
   ],
   "source": [
    "# Count Function\n",
    "X = [1,2,3,4,5,6,7,8,2,2,4,2,2,2,1,1,1,1]\n",
    "X.count(1)"
   ]
  },
  {
   "cell_type": "code",
   "execution_count": 86,
   "id": "1ea8f490-1556-471c-a97c-1a661b2bf5ae",
   "metadata": {},
   "outputs": [
    {
     "data": {
      "text/plain": [
       "0"
      ]
     },
     "execution_count": 86,
     "metadata": {},
     "output_type": "execute_result"
    }
   ],
   "source": [
    "# Index Function\n",
    "movies = [\n",
    "    'Finel Destination',\n",
    "    'Spider Man: No way home',\n",
    "    'shang-chi',\n",
    "    'The last duel',\n",
    "    'Venum: Let there be carange']\n",
    "movies.index('Finel Destination')"
   ]
  },
  {
   "cell_type": "code",
   "execution_count": 87,
   "id": "62a80d50-3014-4a1a-8508-85c00e528092",
   "metadata": {},
   "outputs": [
    {
     "data": {
      "text/plain": [
       "11"
      ]
     },
     "execution_count": 87,
     "metadata": {},
     "output_type": "execute_result"
    }
   ],
   "source": [
    "len(books)"
   ]
  },
  {
   "cell_type": "code",
   "execution_count": 90,
   "id": "3f22befb-7a3d-4664-8f76-55f35d41a4a3",
   "metadata": {},
   "outputs": [
    {
     "name": "stdout",
     "output_type": "stream",
     "text": [
      "7\n"
     ]
    },
    {
     "data": {
      "text/plain": [
       "['Oathbringer', 'Legion: Skin Deep', 'Legion', 'Calamity']"
      ]
     },
     "execution_count": 90,
     "metadata": {},
     "output_type": "execute_result"
    }
   ],
   "source": [
    "oathidx = books.index('Oathbringer')\n",
    "print(oathidx)\n",
    "books[oathidx:]"
   ]
  },
  {
   "cell_type": "code",
   "execution_count": 89,
   "id": "630d3a56-91fd-43e0-aecc-f88b02bc2c1e",
   "metadata": {},
   "outputs": [
    {
     "data": {
      "text/plain": [
       "['Oathbringer', 'Legion: Skin Deep', 'Legion', 'Calamity']"
      ]
     },
     "execution_count": 89,
     "metadata": {},
     "output_type": "execute_result"
    }
   ],
   "source": [
    "books[books.index('Oathbringer') : ]"
   ]
  },
  {
   "cell_type": "code",
   "execution_count": 91,
   "id": "04045684-8667-4301-96bc-7e4d2ddd0174",
   "metadata": {},
   "outputs": [
    {
     "name": "stdout",
     "output_type": "stream",
     "text": [
      "['Apple', 'Cherry', 'Mango', 'Grapes']\n"
     ]
    }
   ],
   "source": [
    "# Copy Function\n",
    "fruits = ['Apple','Cherry','Mango','Grapes']\n",
    "dup_fruits = fruits.copy()\n",
    "print(dup_fruits)"
   ]
  },
  {
   "cell_type": "code",
   "execution_count": 92,
   "id": "2ee5de19-2b74-46d0-a7a4-40b6c52a12d7",
   "metadata": {},
   "outputs": [
    {
     "data": {
      "text/plain": [
       "[]"
      ]
     },
     "execution_count": 92,
     "metadata": {},
     "output_type": "execute_result"
    }
   ],
   "source": [
    "# Clear Function \n",
    "# remove all the item of the list\n",
    "fruits =  ['Apple','Cherry','Mango','Grapes']\n",
    "fruits.clear()\n",
    "fruits"
   ]
  },
  {
   "cell_type": "code",
   "execution_count": 100,
   "id": "143d29e1-957d-40bd-a4fc-fd14d302e47c",
   "metadata": {},
   "outputs": [
    {
     "name": "stdout",
     "output_type": "stream",
     "text": [
      "Grapes\n",
      "Mango\n"
     ]
    }
   ],
   "source": [
    "# Pop Function\n",
    "# by list.pop() method-\n",
    "fruits = ['Apple','Cherry','Mango','Grapes']\n",
    "v = fruits.pop()\n",
    "print(v)\n",
    "\n",
    "# by list.pop(idx) method-\n",
    "fruits = ['Apple','Cherry','Mango','Grapes']\n",
    "v = fruits.pop(2)\n",
    "print(v)"
   ]
  },
  {
   "cell_type": "markdown",
   "id": "a535856b-fe06-409f-9076-4ebfa020be54",
   "metadata": {},
   "source": [
    "# wap to create a list of 5 values given by the user"
   ]
  },
  {
   "cell_type": "code",
   "execution_count": 2,
   "id": "4af6a719-7a03-436e-b131-bb690ab564eb",
   "metadata": {},
   "outputs": [
    {
     "name": "stdin",
     "output_type": "stream",
     "text": [
      "enter value1:  Sandhya\n"
     ]
    },
    {
     "name": "stdout",
     "output_type": "stream",
     "text": [
      "['Sandhya']\n"
     ]
    },
    {
     "name": "stdin",
     "output_type": "stream",
     "text": [
      "enter value2:  Shilpa\n"
     ]
    },
    {
     "name": "stdout",
     "output_type": "stream",
     "text": [
      "['Sandhya', 'Shilpa']\n"
     ]
    },
    {
     "name": "stdin",
     "output_type": "stream",
     "text": [
      "enter value3:  Manyta\n"
     ]
    },
    {
     "name": "stdout",
     "output_type": "stream",
     "text": [
      "['Sandhya', 'Shilpa', 'Manyta']\n"
     ]
    },
    {
     "name": "stdin",
     "output_type": "stream",
     "text": [
      "enter value4:  Richa\n"
     ]
    },
    {
     "name": "stdout",
     "output_type": "stream",
     "text": [
      "['Sandhya', 'Shilpa', 'Manyta', 'Richa']\n"
     ]
    },
    {
     "name": "stdin",
     "output_type": "stream",
     "text": [
      "enter value5:  Anshika\n"
     ]
    },
    {
     "name": "stdout",
     "output_type": "stream",
     "text": [
      "['Sandhya', 'Shilpa', 'Manyta', 'Richa', 'Anshika']\n"
     ]
    }
   ],
   "source": [
    "ex = []\n",
    "for i in range(5):\n",
    "    val = input(f'enter value{i+1}: ')\n",
    "    ex.append(val)\n",
    "    print(ex)"
   ]
  },
  {
   "cell_type": "code",
   "execution_count": 1,
   "id": "5dbc947a-939a-4901-803e-04c6231df271",
   "metadata": {},
   "outputs": [
    {
     "name": "stdout",
     "output_type": "stream",
     "text": [
      "23\n",
      "77\n",
      "144\n",
      "222\n",
      "321\n",
      "411\n"
     ]
    }
   ],
   "source": [
    "data = [23,54,67,78,99,90]\n",
    "total = 0\n",
    "for i in data:\n",
    "    total +=i\n",
    "    print(total)"
   ]
  },
  {
   "cell_type": "markdown",
   "id": "93a2d69d-2f39-4717-a65e-5999e4c89c70",
   "metadata": {},
   "source": [
    "questions:-mean,medium,min,max,std"
   ]
  },
  {
   "cell_type": "code",
   "execution_count": 6,
   "id": "866ce22b-c97f-4eed-83c5-eb83d5d5f524",
   "metadata": {},
   "outputs": [
    {
     "name": "stdout",
     "output_type": "stream",
     "text": [
      "3.6666666666666665\n",
      "3\n",
      "1\n",
      "7\n"
     ]
    }
   ],
   "source": [
    "\n",
    "x = [2,4,6,7,3,2,1,2,5,4,3,2,1,6,7]\n",
    "# mean\n",
    "mean = sum(x)/len(x)\n",
    "print(mean)\n",
    "# medium\n",
    "x.sort()\n",
    "if len(x) % 2 == 0:\n",
    "    median = (x[len(x)//2] +x [len(x)//2 - 1])/2\n",
    "else:\n",
    "        median = x[len(x)//2]\n",
    "        print(median)\n",
    "# min\n",
    "print(min(x))\n",
    "# max\n",
    "print(max(x))\n",
    "\n",
    "# std \n",
    "# ?\n"
   ]
  },
  {
   "cell_type": "markdown",
   "id": "544faab2-410f-49c1-a233-92f575c5227b",
   "metadata": {},
   "source": [
    "Add two list together element wise and produce a new list"
   ]
  },
  {
   "cell_type": "code",
   "execution_count": 17,
   "id": "11d4868f-5cf3-48ce-a7cc-86f552aa2808",
   "metadata": {},
   "outputs": [
    {
     "name": "stdout",
     "output_type": "stream",
     "text": [
      "[7, 9, 8, 11, 12, 10]\n"
     ]
    }
   ],
   "source": [
    "A1 = [3,4,5,6,6,8]\n",
    "A2 = [4,5,3,5,6,2]\n",
    "N1 = []\n",
    "for i,j in zip(A1,A2):\n",
    "    N1.append(i+j)\n",
    "print(N1)\n",
    "\n"
   ]
  },
  {
   "cell_type": "code",
   "execution_count": 27,
   "id": "615bb895-7f5c-4d58-8f86-ad43a70b3b61",
   "metadata": {},
   "outputs": [
    {
     "name": "stdout",
     "output_type": "stream",
     "text": [
      "[2, 3, 4, 5, 6, 7, 8, 9, 10]\n",
      "[4, 9, 16, 25, 36, 49, 64, 81, 100]\n"
     ]
    }
   ],
   "source": [
    "# create a list where every element is a sqr of elements from an existing list\n",
    "\n",
    "x = [2,3,4,5,6,7,8,9,10]\n",
    "x2 = []\n",
    "for i in x:\n",
    "    x2.append(i**2)\n",
    "print(x)\n",
    "print(x2)"
   ]
  },
  {
   "cell_type": "code",
   "execution_count": 28,
   "id": "30a2be2a-f842-406d-bdcb-7514c3be31c3",
   "metadata": {},
   "outputs": [
    {
     "name": "stdout",
     "output_type": "stream",
     "text": [
      "[2, 3, 4, 5, 6, 7, 8, 9, 10]\n",
      "[9, 25, 49, 81]\n"
     ]
    }
   ],
   "source": [
    "# create a list where every odd element is a sqr\n",
    "# of elements from an existing list\n",
    "\n",
    "l = [2,3,4,5,6,7,8,9,10]\n",
    "l2 = []\n",
    "for i in l:\n",
    "    if i%2 != 0:\n",
    "        l2.append(i**2)\n",
    "print(l)\n",
    "print(l2)\n",
    "    \n"
   ]
  },
  {
   "cell_type": "code",
   "execution_count": 37,
   "id": "f0eece85-602e-4a02-8d08-8bc4f1fbe961",
   "metadata": {},
   "outputs": [
    {
     "name": "stdout",
     "output_type": "stream",
     "text": [
      "['US', 'PM', 'SE', 'DA', 'SS', 'SDA', 'DS', 'DE']\n"
     ]
    }
   ],
   "source": [
    "# create a abriviation list fron an existing list of words\n",
    "\n",
    "words = ['United State','Project Manager','Software Engineer','Data Analyst','Senior Software',\n",
    "         'Senior Data Analyst','Data Scientist','Data Engineer']\n",
    "a = []\n",
    "for item in words:\n",
    "    items = item.split()\n",
    "    s = ''\n",
    "    for i in items:\n",
    "        s += i[0]\n",
    "    a.append (s)\n",
    "print(a)\n"
   ]
  },
  {
   "cell_type": "code",
   "execution_count": 47,
   "id": "8e6779b1-05ea-430a-b7cf-99cb45df8a67",
   "metadata": {},
   "outputs": [
    {
     "name": "stdout",
     "output_type": "stream",
     "text": [
      "['US', 'PM', 'SE', 'DA', 'SS', 'SDA', 'DS', 'DE']\n"
     ]
    }
   ],
   "source": [
    "words = ['United State','Project Manager','Software Engineer','Data Analyst','Senior Software',\n",
    "         'Senior Data Analyst','Data Scientist','Data Engineer']\n",
    "abbrs = []\n",
    "for names in words:\n",
    "    ans = ''\n",
    "    for words in names.split():\n",
    "        ans += words[0]\n",
    "    abbrs.append(ans)\n",
    "print(abbrs)\n",
    "    "
   ]
  },
  {
   "cell_type": "code",
   "execution_count": 2,
   "id": "0c76593d-d687-4bc6-bf4a-a65ee3acff38",
   "metadata": {},
   "outputs": [
    {
     "name": "stdin",
     "output_type": "stream",
     "text": [
      "enter data seperated with space:  22 11 std 23\n"
     ]
    },
    {
     "name": "stdout",
     "output_type": "stream",
     "text": [
      "22 11 std 23\n",
      "[22, 11, 23]\n",
      "[10648, 1331, 12167]\n"
     ]
    }
   ],
   "source": [
    "# take a list from user in one line of input and then remove all the non numeric values from the list\n",
    "# then display the cubes of numbers from that list\n",
    "\n",
    "entries = input('enter data seperated with space: ')\n",
    "print(entries)\n",
    "#numeric_entries = []\n",
    "#for value in entries.split():\n",
    " #   if value.isnumeric():\n",
    "  #      numeric_entries.append(int(value))\n",
    "numeric_entries = [int(value) for value in entries.split() if value.isnumeric()]\n",
    "print(numeric_entries)\n",
    "# cube of numbers\n",
    "cubes = [i**3 for i in numeric_entries]\n",
    "print(cubes)\n",
    "\n"
   ]
  },
  {
   "cell_type": "markdown",
   "id": "9cbb79a4-814b-4d26-9d07-bdc9a8de6fdf",
   "metadata": {},
   "source": [
    "# List Comprehenshion\n",
    "is a way to create a list from existing list\n",
    "using on line of expression\n",
    "-syntex\n",
    "newlist = [expression]"
   ]
  },
  {
   "cell_type": "code",
   "execution_count": 4,
   "id": "fbf5100e-9ea7-47ad-a44b-2c7b5b923fed",
   "metadata": {},
   "outputs": [
    {
     "name": "stdout",
     "output_type": "stream",
     "text": [
      "[9, 25, 49, 81]\n"
     ]
    }
   ],
   "source": [
    "x = [2,3,4,5,6,7,8,9,10]\n",
    "#x2 = [i**3 for i in x ]\n",
    "#print(x2)\n",
    "\n",
    "x2 = [i**2 for i in x if i%2 !=0]\n",
    "print(x2)"
   ]
  },
  {
   "cell_type": "code",
   "execution_count": null,
   "id": "6f4c7c93-5545-4fbd-b82b-920ecb6bd2ab",
   "metadata": {},
   "outputs": [],
   "source": []
  }
 ],
 "metadata": {
  "kernelspec": {
   "display_name": "Python 3 (ipykernel)",
   "language": "python",
   "name": "python3"
  },
  "language_info": {
   "codemirror_mode": {
    "name": "ipython",
    "version": 3
   },
   "file_extension": ".py",
   "mimetype": "text/x-python",
   "name": "python",
   "nbconvert_exporter": "python",
   "pygments_lexer": "ipython3",
   "version": "3.9.12"
  }
 },
 "nbformat": 4,
 "nbformat_minor": 5
}
