{
 "cells": [
  {
   "cell_type": "markdown",
   "id": "97c9e078-70d7-4880-9b8c-f74905145b32",
   "metadata": {},
   "source": [
    "# Python Strings"
   ]
  },
  {
   "cell_type": "markdown",
   "id": "e035ceb4-b024-4031-b360-78e11c173f9c",
   "metadata": {},
   "source": [
    "Question 1 : Create a String and print it ?\n"
   ]
  },
  {
   "cell_type": "code",
   "execution_count": 19,
   "id": "5c8d97d1-5f7e-4c55-81cb-6ac4f42896e9",
   "metadata": {},
   "outputs": [
    {
     "name": "stdout",
     "output_type": "stream",
     "text": [
      "('orange', 'apple', 'pineapple')\n"
     ]
    }
   ],
   "source": [
    "my_string = 'orange' , 'apple' , 'pineapple'\n",
    "print(my_string)"
   ]
  },
  {
   "cell_type": "markdown",
   "id": "c2742093-e81d-4432-b9c8-e421ca51e001",
   "metadata": {},
   "source": [
    "Question 2 : take astring input and print its length ?"
   ]
  },
  {
   "cell_type": "code",
   "execution_count": 7,
   "id": "bf30911b-919a-4fb0-8c56-4ff9f28e6ef1",
   "metadata": {},
   "outputs": [
    {
     "name": "stdin",
     "output_type": "stream",
     "text": [
      "Enter your String:  sandhya\n"
     ]
    },
    {
     "name": "stdout",
     "output_type": "stream",
     "text": [
      "7\n"
     ]
    }
   ],
   "source": [
    "string  = input(\"Enter your String: \")\n",
    "n = len(string)\n",
    "print(n)"
   ]
  },
  {
   "cell_type": "markdown",
   "id": "c42a1c56-0e09-4550-978e-cce1b158e36e",
   "metadata": {},
   "source": [
    "Question 3 : Print the last word of string python is great using slices ?"
   ]
  },
  {
   "cell_type": "code",
   "execution_count": 8,
   "id": "c26b52e2-bd92-4399-9a16-4cb18a53f5f8",
   "metadata": {},
   "outputs": [
    {
     "name": "stdout",
     "output_type": "stream",
     "text": [
      "t\n"
     ]
    }
   ],
   "source": [
    "s = 'government'\n",
    "slice1 = s[9:]\n",
    "print(slice1)"
   ]
  },
  {
   "cell_type": "markdown",
   "id": "1602b688-03df-4965-aa22-4451e1f3a077",
   "metadata": {},
   "source": [
    "Question 4: Print the each word in different line of string ? Python is everywhere"
   ]
  },
  {
   "cell_type": "code",
   "execution_count": 13,
   "id": "f3a42a06-f4f2-4e2c-9542-73ad3234d9cf",
   "metadata": {},
   "outputs": [
    {
     "name": "stdout",
     "output_type": "stream",
     "text": [
      "['this is Python Language']\n"
     ]
    }
   ],
   "source": [
    "string = \"this is Python Language\"\n",
    "s = string.split(\" \")\n",
    "print(s)\n",
    "\n"
   ]
  },
  {
   "cell_type": "markdown",
   "id": "9b1392ae-297e-4d2e-a461-77bb7bc729c5",
   "metadata": {},
   "source": [
    "Questio 5 : Print the string Hello World! in reverse ?"
   ]
  },
  {
   "cell_type": "code",
   "execution_count": 10,
   "id": "61d95027-99a4-4f81-86c3-5a348e977a36",
   "metadata": {},
   "outputs": [
    {
     "name": "stdout",
     "output_type": "stream",
     "text": [
      "dlroW olleH\n"
     ]
    }
   ],
   "source": [
    "s = \"Hello World\" [::-1]\n",
    "print(s)"
   ]
  },
  {
   "cell_type": "markdown",
   "id": "79e7c541-c993-4871-9d57-9ef93f71cb17",
   "metadata": {},
   "source": [
    "Question 6 : Convert the string How are you ? in uppercase."
   ]
  },
  {
   "cell_type": "code",
   "execution_count": 11,
   "id": "74ebbfd9-71fc-4234-8a66-9414de35e17d",
   "metadata": {},
   "outputs": [
    {
     "name": "stdout",
     "output_type": "stream",
     "text": [
      "HOW ARE YOU ?\n"
     ]
    }
   ],
   "source": [
    "S = \"How are you ?\"\n",
    "print(S.upper())\n"
   ]
  },
  {
   "cell_type": "markdown",
   "id": "1b11cda3-9a29-4a9c-99a0-f8907cf3dc18",
   "metadata": {},
   "source": [
    "Question 7 : Convert the string How is it going ? in lowercase."
   ]
  },
  {
   "cell_type": "code",
   "execution_count": 12,
   "id": "bc00e683-4246-4d61-8088-e7c537b826f3",
   "metadata": {},
   "outputs": [
    {
     "name": "stdout",
     "output_type": "stream",
     "text": [
      "how is it going ?\n"
     ]
    }
   ],
   "source": [
    "S = \"How is IT going ?\"\n",
    "print(S.lower())"
   ]
  },
  {
   "cell_type": "markdown",
   "id": "3fc9dfed-9343-4958-b54d-ad9bcf0bb5cc",
   "metadata": {},
   "source": [
    "Question 8 : Join the following list by space ( ) and print the result.\n",
    " words = ['Python', 'is', 'easy', 'to', 'learn']"
   ]
  },
  {
   "cell_type": "code",
   "execution_count": 11,
   "id": "8dcc0a6f-f73e-4f1b-90de-90310551a8a0",
   "metadata": {},
   "outputs": [
    {
     "name": "stdout",
     "output_type": "stream",
     "text": [
      "Python is easy to learn\n"
     ]
    }
   ],
   "source": [
    "string = \" Python is easy to learn \"\n",
    "s = string.strip(\" \")\n",
    "print(s)\n"
   ]
  },
  {
   "cell_type": "markdown",
   "id": "1cb4bba9-bb16-47c7-b7ac-93c32e9f1457",
   "metadata": {},
   "source": [
    "Question 9 : Print a multiple string using a single print ?"
   ]
  },
  {
   "cell_type": "code",
   "execution_count": 1,
   "id": "8dd07086-b0b2-4a33-ba04-41cfe6e63d8f",
   "metadata": {},
   "outputs": [],
   "source": [
    "writer_name = [\n",
    "    'Munshi prem chandra',\n",
    "    'Mahadevi verma',\n",
    "    'tulshidas',\n",
    "    'Kabirdas',\n",
    "    'William Shakespeare',\n",
    "    'Sumitranandan pant'\n",
    "]"
   ]
  },
  {
   "cell_type": "code",
   "execution_count": 2,
   "id": "af2deb2c-6684-4261-b7d3-a73e3b0f2dc1",
   "metadata": {},
   "outputs": [
    {
     "name": "stdout",
     "output_type": "stream",
     "text": [
      "['Munshi prem chandra', 'Mahadevi verma', 'tulshidas', 'Kabirdas', 'William Shakespeare', 'Sumitranandan pant']\n"
     ]
    }
   ],
   "source": [
    "print(writer_name)"
   ]
  },
  {
   "cell_type": "markdown",
   "id": "af240d14-e948-4ea9-b030-90d3f0b8e4e3",
   "metadata": {},
   "source": [
    "Question 10 : Print the string to move the new line '/n' is used .\n",
    "(result should look exactly like the provide string )"
   ]
  },
  {
   "cell_type": "code",
   "execution_count": 22,
   "id": "5d728b37-bb55-4f71-a8ba-58f1d65097ce",
   "metadata": {},
   "outputs": [
    {
     "name": "stdout",
     "output_type": "stream",
     "text": [
      "['orange', 'apple', 'pineapple', 'mango', 'grapes']\n"
     ]
    }
   ],
   "source": [
    "S = ['orange' , 'apple' , 'pineapple', 'mango', 'grapes']\n",
    "print(S)"
   ]
  },
  {
   "cell_type": "markdown",
   "id": "9b412420-be1e-456e-972b-e128b19fddf5",
   "metadata": {},
   "source": [
    "Question 11 : Print a variable with some text using a single print function ,output \n",
    "should look like following : the variable is 15"
   ]
  },
  {
   "cell_type": "code",
   "execution_count": 1,
   "id": "7d2bfad9-cc67-4c2c-8b90-d5ce2ab350be",
   "metadata": {},
   "outputs": [
    {
     "name": "stdout",
     "output_type": "stream",
     "text": [
      "The variable is 15\n"
     ]
    }
   ],
   "source": [
    "A = 15\n",
    "print(\"The variable is\", A)"
   ]
  },
  {
   "cell_type": "markdown",
   "id": "916ad000-7823-4cd7-ba68-bb9f9963936e",
   "metadata": {},
   "source": [
    "Question 12 : Concatenate the following strings and print the result :\n",
    "    s1 = 'Python'\n",
    "    s2 = 'is'\n",
    "    s3 = 'great'"
   ]
  },
  {
   "cell_type": "code",
   "execution_count": 25,
   "id": "9f16ee6d-55b9-4bea-b0c7-c3ebfbfeb3ad",
   "metadata": {},
   "outputs": [
    {
     "name": "stdout",
     "output_type": "stream",
     "text": [
      "Python is  great\n"
     ]
    }
   ],
   "source": [
    "s1 = 'Python'\n",
    "s2 = 'is'\n",
    "s3 = 'great'\n",
    "msg = s1 + ' ' + s2 + ' ' + ' ' +s3 \n",
    "print(msg)"
   ]
  },
  {
   "cell_type": "markdown",
   "id": "e49535c8-35f4-4205-9aac-8e3448cf71d7",
   "metadata": {},
   "source": [
    "Question 13 : print '#' 20 times without using loop ?"
   ]
  },
  {
   "cell_type": "code",
   "execution_count": 4,
   "id": "e29f8fb6-a47c-4e21-8eb0-2b4f198e41c8",
   "metadata": {},
   "outputs": [
    {
     "name": "stdout",
     "output_type": "stream",
     "text": [
      "####################\n"
     ]
    }
   ],
   "source": [
    "a = \"#\"\n",
    "print(a*20)"
   ]
  },
  {
   "cell_type": "markdown",
   "id": "4f29eadf-3a52-4416-bbc3-4e169aa0822e",
   "metadata": {},
   "source": [
    "Question 14 : Print numbers from 1 to 9, each on a seperate line\n",
    ", followed by a dot ?"
   ]
  },
  {
   "cell_type": "code",
   "execution_count": 13,
   "id": "db55f130-2c67-4005-9096-bb6974422826",
   "metadata": {},
   "outputs": [
    {
     "name": "stdout",
     "output_type": "stream",
     "text": [
      "1 .\n",
      "2 .\n",
      "3 .\n",
      "4 .\n",
      "5 .\n",
      "6 .\n",
      "7 .\n",
      "8 .\n",
      "9 .\n"
     ]
    }
   ],
   "source": [
    "for i in range(1,10):   \n",
    "    print(i, '.', sep=\" \")"
   ]
  },
  {
   "cell_type": "markdown",
   "id": "958c923f-0943-4823-bbd3-57040bac839a",
   "metadata": {},
   "source": [
    "Question 15 : ask user to input a sentence and print each word on different line ?"
   ]
  },
  {
   "cell_type": "code",
   "execution_count": 34,
   "id": "8dba17b1-208d-4218-b278-e7690ad35533",
   "metadata": {},
   "outputs": [
    {
     "name": "stdin",
     "output_type": "stream",
     "text": [
      "what is you r name :  sandhya\n"
     ]
    },
    {
     "name": "stdout",
     "output_type": "stream",
     "text": [
      "s\n",
      "a\n",
      "n\n",
      "d\n",
      "h\n",
      "y\n",
      "a\n"
     ]
    }
   ],
   "source": [
    "string = input(\"what is you r name : \")\n",
    "print(*string, sep = '\\n')"
   ]
  },
  {
   "cell_type": "markdown",
   "id": "7b709031-d136-4e7e-b3df-f7c970d9f794",
   "metadata": {},
   "source": [
    "Question 16 : Ask user intput a string and check if the string ends with ?"
   ]
  },
  {
   "cell_type": "code",
   "execution_count": null,
   "id": "6b3fc4ae-cb1e-461c-9216-c35049fa3841",
   "metadata": {},
   "outputs": [],
   "source": [
    "my_string = input(\" Enter your string : \")\n"
   ]
  },
  {
   "cell_type": "markdown",
   "id": "5de58527-739e-41d2-b91c-90f82b065b37",
   "metadata": {},
   "source": [
    "Question 17 : Ask user to input a string and print how many times \"e\" appeared in the string ?"
   ]
  },
  {
   "cell_type": "code",
   "execution_count": null,
   "id": "d9862d33-f82e-47a4-8a6d-23389b9a6659",
   "metadata": {},
   "outputs": [],
   "source": []
  },
  {
   "cell_type": "markdown",
   "id": "8cb65008-136d-479d-9765-85bc35a7483b",
   "metadata": {},
   "source": [
    "Question 18 : check if the user input is a number ?"
   ]
  },
  {
   "cell_type": "markdown",
   "id": "4e4f2d26-bdb5-427d-afe7-79d2c96c91ea",
   "metadata": {},
   "source": []
  },
  {
   "cell_type": "markdown",
   "id": "f541de5f-6464-42db-8d10-9c491a34cd15",
   "metadata": {},
   "source": [
    "Question 19 : Remove the extra space in begining and in the end of the following string ?\n",
    "text : 'this is not a good string.'"
   ]
  },
  {
   "cell_type": "code",
   "execution_count": 47,
   "id": "cc9a2d47-5ab6-495a-8e3c-16830df4e958",
   "metadata": {},
   "outputs": [
    {
     "name": "stdout",
     "output_type": "stream",
     "text": [
      "  this is not a good string.        \n"
     ]
    }
   ],
   "source": [
    "text = '  this is not a good string.        '\n",
    "print(text)\n",
    "\n"
   ]
  },
  {
   "cell_type": "markdown",
   "id": "ed251cf7-63b1-4a91-96c3-2340bf562482",
   "metadata": {},
   "source": [
    "Question 20 : Ask user to input string , print found if any of the upper case?"
   ]
  },
  {
   "cell_type": "markdown",
   "id": "df4c44d5-28ac-4c6e-bf72-d54ac6ee5908",
   "metadata": {},
   "source": []
  },
  {
   "cell_type": "markdown",
   "id": "98e43ccc-c44d-48e6-b128-6b38d79e1e9a",
   "metadata": {},
   "source": [
    "Question 21 : Extract name from the following string and store them a list ?"
   ]
  },
  {
   "cell_type": "code",
   "execution_count": 37,
   "id": "0576c51c-0a61-4f95-8503-1f99a8f3dd0b",
   "metadata": {},
   "outputs": [
    {
     "name": "stdout",
     "output_type": "stream",
     "text": [
      "['joe, David, Mark, Tom, Chris, Robert']\n"
     ]
    }
   ],
   "source": [
    "text = 'joe, David, Mark, Tom, Chris, Robert'\n",
    "B = []\n",
    "B.append(text)\n",
    "print(B)"
   ]
  },
  {
   "cell_type": "markdown",
   "id": "ae6ce843-3e4c-429e-b9da-ce9af13850d8",
   "metadata": {},
   "source": [
    "Question 22 : In the folowing string ,add aye in the end of every word and print the result ?"
   ]
  },
  {
   "cell_type": "markdown",
   "id": "5dfdaa47-dbc7-4ee1-b562-1b5152c36fb6",
   "metadata": {},
   "source": []
  },
  {
   "cell_type": "markdown",
   "id": "574faac1-e595-4e80-add1-7fc5268ee7f4",
   "metadata": {},
   "source": [
    "Question 25 : Calculate the average lenth of the following paragraph."
   ]
  },
  {
   "cell_type": "code",
   "execution_count": 26,
   "id": "4a41c1a2-f682-433e-88a2-7ce9073c7c70",
   "metadata": {},
   "outputs": [
    {
     "name": "stdout",
     "output_type": "stream",
     "text": [
      "123\n"
     ]
    }
   ],
   "source": [
    "x = 'this is a paragraph which is written just for the purpose of providing content tolet the average word length be calculated.'\n",
    "print(len(x))\n",
    "    "
   ]
  },
  {
   "cell_type": "code",
   "execution_count": null,
   "id": "cda8b09c-e2bc-4cc8-b846-4cdcdcbbde59",
   "metadata": {},
   "outputs": [],
   "source": []
  },
  {
   "cell_type": "code",
   "execution_count": null,
   "id": "3dd9b865-f617-41d1-88d5-661e2a69d29c",
   "metadata": {},
   "outputs": [],
   "source": []
  }
 ],
 "metadata": {
  "kernelspec": {
   "display_name": "Python 3 (ipykernel)",
   "language": "python",
   "name": "python3"
  },
  "language_info": {
   "codemirror_mode": {
    "name": "ipython",
    "version": 3
   },
   "file_extension": ".py",
   "mimetype": "text/x-python",
   "name": "python",
   "nbconvert_exporter": "python",
   "pygments_lexer": "ipython3",
   "version": "3.9.12"
  }
 },
 "nbformat": 4,
 "nbformat_minor": 5
}
