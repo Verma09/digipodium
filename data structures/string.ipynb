{
 "cells": [
  {
   "cell_type": "code",
   "execution_count": 2,
   "id": "abf863e7-138e-449c-a311-6818ed58a878",
   "metadata": {},
   "outputs": [
    {
     "name": "stdout",
     "output_type": "stream",
     "text": [
      "applejuice\n"
     ]
    }
   ],
   "source": [
    "a = 'apple'\n",
    "b = 'juice'\n",
    "ab = a + b\n",
    "print(ab)"
   ]
  },
  {
   "cell_type": "code",
   "execution_count": 3,
   "id": "a205bd12-97d3-40bc-a847-1f3157eed63d",
   "metadata": {},
   "outputs": [
    {
     "name": "stdout",
     "output_type": "stream",
     "text": [
      "thisisAmazing\n"
     ]
    }
   ],
   "source": [
    "w1 = 'this'\n",
    "w2 = 'is'\n",
    "w3 = 'Amazing'\n",
    "msg = w1 + w2 + w3\n",
    "print(msg)"
   ]
  },
  {
   "cell_type": "code",
   "execution_count": 4,
   "id": "06f6c19b-5071-4ba7-9115-3ff9e575d33f",
   "metadata": {},
   "outputs": [
    {
     "name": "stdout",
     "output_type": "stream",
     "text": [
      "HiHiHi\n"
     ]
    }
   ],
   "source": [
    "word = 'Hi'\n",
    "print(word*3)"
   ]
  },
  {
   "cell_type": "code",
   "execution_count": 5,
   "id": "a494ae36-629c-4418-ba7f-427b98bbf182",
   "metadata": {},
   "outputs": [
    {
     "name": "stdout",
     "output_type": "stream",
     "text": [
      "_________________________\n"
     ]
    }
   ],
   "source": [
    "print('_' * 25)"
   ]
  },
  {
   "cell_type": "code",
   "execution_count": 6,
   "id": "ca9fbe5c-9a2d-494a-8bf3-ffe293631c41",
   "metadata": {},
   "outputs": [
    {
     "name": "stdout",
     "output_type": "stream",
     "text": [
      "*\n",
      "**\n",
      "***\n",
      "****\n",
      "*****\n"
     ]
    }
   ],
   "source": [
    "for i in range(1,6):\n",
    "    print(i * '*')"
   ]
  },
  {
   "cell_type": "code",
   "execution_count": 7,
   "id": "0a0ba48d-e154-456a-acd0-9cef04c5acff",
   "metadata": {},
   "outputs": [
    {
     "name": "stdout",
     "output_type": "stream",
     "text": [
      "******\n",
      "*****\n",
      "****\n",
      "***\n",
      "**\n",
      "*\n"
     ]
    }
   ],
   "source": [
    "for i in range(6,0,-1):\n",
    "    print(i * '*')"
   ]
  },
  {
   "cell_type": "markdown",
   "id": "650b612f-64b3-44db-992c-e4f0890fce89",
   "metadata": {},
   "source": [
    "<h4> String functions<h4>"
   ]
  },
  {
   "cell_type": "code",
   "execution_count": 8,
   "id": "101200d1-9353-4c21-842f-f6261b62c9b7",
   "metadata": {},
   "outputs": [],
   "source": [
    "name = \"Alex Mason\"\n",
    "age = 50\n",
    "items = ['Apple','banana','Cherry']"
   ]
  },
  {
   "cell_type": "markdown",
   "id": "b746f1d8-bd82-4700-9e1a-837bbf1abda6",
   "metadata": {},
   "source": [
    "Formatting Functions"
   ]
  },
  {
   "cell_type": "code",
   "execution_count": 9,
   "id": "122e87d7-5134-4119-a28e-121132293c89",
   "metadata": {},
   "outputs": [],
   "source": [
    " msg = 'This Is A message from VERY imporTenT person'"
   ]
  },
  {
   "cell_type": "code",
   "execution_count": 10,
   "id": "cc99fcf6-2bda-48dd-bdc8-2102bd1754e9",
   "metadata": {
    "tags": []
   },
   "outputs": [
    {
     "name": "stdout",
     "output_type": "stream",
     "text": [
      "THIS IS A MESSAGE FROM VERY IMPORTENT PERSON\n",
      "this is a message from very importent person\n",
      "This Is A Message From Very Importent Person\n",
      "This is a message from very importent person\n",
      "this is a message from very importent person\n",
      "tHIS iS a MESSAGE FROM very IMPORtENt PERSON\n",
      "This Is A message from VERY imporTenT person\n"
     ]
    }
   ],
   "source": [
    "print(msg.upper())\n",
    "print(msg.lower())\n",
    "print(msg.title())\n",
    "print(msg.capitalize())\n",
    "print(msg.casefold())\n",
    "print(msg.swapcase())\n",
    "print(msg)"
   ]
  },
  {
   "cell_type": "code",
   "execution_count": 11,
   "id": "86a26185-304d-479c-9574-614e6523a0df",
   "metadata": {},
   "outputs": [
    {
     "name": "stdout",
     "output_type": "stream",
     "text": [
      "THIS IS A MESSAGE FROM VERY IMPORTENT PERSON\n",
      "this is a message from very importent person\n"
     ]
    }
   ],
   "source": [
    "msg = msg.upper()\n",
    "print(msg)\n",
    "msg = msg.lower()\n",
    "print(msg)"
   ]
  },
  {
   "cell_type": "code",
   "execution_count": 12,
   "id": "957fa052-83d7-409c-b63c-f101d08402c8",
   "metadata": {},
   "outputs": [
    {
     "data": {
      "text/plain": [
       "44"
      ]
     },
     "execution_count": 12,
     "metadata": {},
     "output_type": "execute_result"
    }
   ],
   "source": [
    "len(msg)"
   ]
  },
  {
   "cell_type": "code",
   "execution_count": 13,
   "id": "04aa5854-1e7e-4ea2-a42a-0cbb14d0a19d",
   "metadata": {},
   "outputs": [
    {
     "name": "stdout",
     "output_type": "stream",
     "text": [
      "this is a message from very importent person\n"
     ]
    }
   ],
   "source": [
    "print(msg)"
   ]
  },
  {
   "cell_type": "code",
   "execution_count": 14,
   "id": "9ed590fc-732f-4f14-bd7a-278f70ccb69b",
   "metadata": {},
   "outputs": [
    {
     "name": "stdout",
     "output_type": "stream",
     "text": [
      "                                    this is a message from very importent person\n"
     ]
    }
   ],
   "source": [
    "print(msg.rjust(80))"
   ]
  },
  {
   "cell_type": "code",
   "execution_count": 15,
   "id": "6e8312ab-9bcd-476a-a185-70a2f0920b37",
   "metadata": {},
   "outputs": [
    {
     "name": "stdout",
     "output_type": "stream",
     "text": [
      "                  this is a message from very importent person                  \n"
     ]
    }
   ],
   "source": [
    "print(msg.center(80))"
   ]
  },
  {
   "cell_type": "code",
   "execution_count": 16,
   "id": "5c612699-c322-4e6f-bb35-d671a47501c5",
   "metadata": {},
   "outputs": [],
   "source": [
    "long_msg = '''\n",
    "visual stdio code is lightwaited\n",
    "but powerful source code editer which \n",
    "typeScript and node.js and has a rich ecosystem\n",
    "of extensions for oher languages and runtimes\n",
    "'''\n"
   ]
  },
  {
   "cell_type": "code",
   "execution_count": 17,
   "id": "d4431fcc-a2bd-482e-b787-7b5df0b6b7f4",
   "metadata": {},
   "outputs": [
    {
     "data": {
      "text/plain": [
       "'\\nvisual stdio code is lightwaited\\nbut powerful source code editer which \\ntypeScript and node.js and has a rich ecosystem\\nof extensions for oher languages and runtimes\\n'"
      ]
     },
     "execution_count": 17,
     "metadata": {},
     "output_type": "execute_result"
    }
   ],
   "source": [
    "long_msg"
   ]
  },
  {
   "cell_type": "code",
   "execution_count": 18,
   "id": "6ad94a04-1a0e-4be4-a1f4-94672df5a7a6",
   "metadata": {},
   "outputs": [
    {
     "name": "stdout",
     "output_type": "stream",
     "text": [
      "                                                                                                                                                      \n",
      "                                                           visual stdio code is lightwaited                                                           \n",
      "                                                        but powerful source code editer which                                                         \n",
      "                                                   typeScript and node.js and has a rich ecosystem                                                    \n",
      "                                                    of extensions for oher languages and runtimes                                                     \n",
      "                                                                                                                                                      \n"
     ]
    }
   ],
   "source": [
    "for line in long_msg.split('\\n'): #for long msg alightment\n",
    "    print(line.center(150))"
   ]
  },
  {
   "cell_type": "code",
   "execution_count": 19,
   "id": "1e7f53e3-3860-4199-9af6-011f6d2f0efd",
   "metadata": {},
   "outputs": [
    {
     "data": {
      "text/plain": [
       "['this is a m', 'ssag', ' from v', 'ry import', 'nt p', 'rson']"
      ]
     },
     "execution_count": 19,
     "metadata": {},
     "output_type": "execute_result"
    }
   ],
   "source": [
    "msg.split('e')"
   ]
  },
  {
   "cell_type": "code",
   "execution_count": 20,
   "id": "fb1a35e5-0181-4937-b093-5cbd041f49c6",
   "metadata": {},
   "outputs": [
    {
     "data": {
      "text/plain": [
       "['',\n",
       " 'visual stdio code is lightwaited',\n",
       " 'but powerful source code editer which ',\n",
       " 'typeScript and node.js and has a rich ecosystem',\n",
       " 'of extensions for oher languages and runtimes',\n",
       " '']"
      ]
     },
     "execution_count": 20,
     "metadata": {},
     "output_type": "execute_result"
    }
   ],
   "source": [
    "long_msg.split('\\n')"
   ]
  },
  {
   "cell_type": "code",
   "execution_count": 21,
   "id": "6c2f36d5-8e90-4c27-8d65-024210bf732f",
   "metadata": {},
   "outputs": [
    {
     "data": {
      "text/plain": [
       "['this', 'is', 'a', 'message', 'from', 'very', 'importent person']"
      ]
     },
     "execution_count": 21,
     "metadata": {},
     "output_type": "execute_result"
    }
   ],
   "source": [
    "msg.split(maxsplit=6)"
   ]
  },
  {
   "cell_type": "code",
   "execution_count": 22,
   "id": "a3ca8fde-24ca-4c2e-8538-d95cc0c5a1ab",
   "metadata": {},
   "outputs": [
    {
     "data": {
      "text/plain": [
       "['this is a message from', 'very', 'importent', 'person']"
      ]
     },
     "execution_count": 22,
     "metadata": {},
     "output_type": "execute_result"
    }
   ],
   "source": [
    "msg.rsplit(maxsplit=3)"
   ]
  },
  {
   "cell_type": "code",
   "execution_count": 23,
   "id": "7ad5e459-b9bd-497c-a3df-33e849436156",
   "metadata": {},
   "outputs": [
    {
     "data": {
      "text/plain": [
       "'\\nvisual stdio code is lightwaited\\nbut powerful source code editer which \\ntypeScript and node.js and has a rich ecosystem\\nof extensions for oher languages and runtimes\\n'"
      ]
     },
     "execution_count": 23,
     "metadata": {},
     "output_type": "execute_result"
    }
   ],
   "source": [
    "long_msg"
   ]
  },
  {
   "cell_type": "code",
   "execution_count": 24,
   "id": "ae446ee6-e7b4-48c8-8469-4e8a2aebdb68",
   "metadata": {},
   "outputs": [
    {
     "name": "stdin",
     "output_type": "stream",
     "text": [
      "what is your name sandhya\n"
     ]
    },
    {
     "name": "stdout",
     "output_type": "stream",
     "text": [
      "7 sandhya\n",
      "7 sandhya\n"
     ]
    }
   ],
   "source": [
    "name = input(\"what is your name\")\n",
    "print(len(name), name)\n",
    "name = name.strip()\n",
    "print(len(name), name)"
   ]
  },
  {
   "cell_type": "code",
   "execution_count": 25,
   "id": "b294a580-fd29-4ea7-8549-231006bec4cc",
   "metadata": {},
   "outputs": [
    {
     "name": "stdout",
     "output_type": "stream",
     "text": [
      "167\n",
      "165\n"
     ]
    }
   ],
   "source": [
    "print(len(long_msg))\n",
    "long_msg = long_msg.strip()\n",
    "print(len(long_msg))"
   ]
  },
  {
   "cell_type": "code",
   "execution_count": 26,
   "id": "d3cfd12d-2e59-4f3f-9ccd-936bb46d2116",
   "metadata": {},
   "outputs": [
    {
     "data": {
      "text/plain": [
       "'OLA'"
      ]
     },
     "execution_count": 26,
     "metadata": {},
     "output_type": "execute_result"
    }
   ],
   "source": [
    "data = \"000000000OLA000\"\n",
    "data.strip('0')"
   ]
  },
  {
   "cell_type": "code",
   "execution_count": 27,
   "id": "80b3c4c0-c0bb-40de-bdd2-004fbe4b51de",
   "metadata": {},
   "outputs": [
    {
     "data": {
      "text/plain": [
       "'this is-----not------good'"
      ]
     },
     "execution_count": 27,
     "metadata": {},
     "output_type": "execute_result"
    }
   ],
   "source": [
    "data = '---------this is-----not------good-------'\n",
    "data.strip('-')"
   ]
  },
  {
   "cell_type": "code",
   "execution_count": 28,
   "id": "bcf39028-152b-4ab0-a341-96afd96108f4",
   "metadata": {},
   "outputs": [
    {
     "name": "stdout",
     "output_type": "stream",
     "text": [
      "this is-----not------good\n",
      "this is-----not------good-------\n",
      "---------this is-----not------good\n"
     ]
    }
   ],
   "source": [
    "print(data.strip('-'))\n",
    "print(data.lstrip('-'))\n",
    "print(data.rstrip('-'))\n",
    "\n",
    "      "
   ]
  },
  {
   "cell_type": "code",
   "execution_count": 29,
   "id": "3b98e301-07f7-46ad-bce9-a889e208bb7a",
   "metadata": {},
   "outputs": [
    {
     "name": "stdout",
     "output_type": "stream",
     "text": [
      "visual stdio code is lightwaited\n",
      "but powerful source code editer which \n",
      "typeScript and node.js and has a rich ecosystem\n",
      "of extensions for oher languages and runtimes\n",
      "update--------->\n",
      "v0sual std0o code 0s l0ghtwa0ted\n",
      "but powerful source code ed0ter wh0ch \n",
      "typeScr0pt and node.js and has a r0ch ecosystem\n",
      "of extens0ons for oher languages and runt0mes\n"
     ]
    }
   ],
   "source": [
    "print(long_msg)\n",
    "print('update--------->')\n",
    "print(long_msg.replace('i','0'))"
   ]
  },
  {
   "cell_type": "code",
   "execution_count": 30,
   "id": "c95c4225-8867-46df-9a69-ba8fba97dcbd",
   "metadata": {},
   "outputs": [
    {
     "name": "stdout",
     "output_type": "stream",
     "text": [
      "this isnotgood\n"
     ]
    }
   ],
   "source": [
    "data_clean = data.replace('-', '' )\n",
    "print(data_clean)"
   ]
  },
  {
   "cell_type": "code",
   "execution_count": 31,
   "id": "9cbb27cc-3f59-47ca-bcc0-aa3390892142",
   "metadata": {},
   "outputs": [
    {
     "name": "stdout",
     "output_type": "stream",
     "text": [
      "9\n"
     ]
    }
   ],
   "source": [
    "print(long_msg.count('a'))"
   ]
  },
  {
   "cell_type": "code",
   "execution_count": 32,
   "id": "833b5794-b7d7-415e-a3f9-eb734186c621",
   "metadata": {},
   "outputs": [
    {
     "name": "stdout",
     "output_type": "stream",
     "text": [
      "0\n"
     ]
    }
   ],
   "source": [
    "print(long_msg.count('this'))"
   ]
  },
  {
   "cell_type": "code",
   "execution_count": 33,
   "id": "3ff65e52-c433-496b-b549-2ec63ba61c23",
   "metadata": {},
   "outputs": [
    {
     "name": "stdout",
     "output_type": "stream",
     "text": [
      "0\n"
     ]
    }
   ],
   "source": [
    "print(long_msg.count('Visual'))"
   ]
  },
  {
   "cell_type": "code",
   "execution_count": 34,
   "id": "efc9432b-c23b-4a54-b363-d8216757fc44",
   "metadata": {},
   "outputs": [
    {
     "data": {
      "text/plain": [
       "-1"
      ]
     },
     "execution_count": 34,
     "metadata": {},
     "output_type": "execute_result"
    }
   ],
   "source": [
    "long_msg.find('this')"
   ]
  },
  {
   "cell_type": "code",
   "execution_count": 35,
   "id": "7390273b-cc73-49e3-a74d-5f2fbdfa4809",
   "metadata": {},
   "outputs": [
    {
     "data": {
      "text/plain": [
       "1"
      ]
     },
     "execution_count": 35,
     "metadata": {},
     "output_type": "execute_result"
    }
   ],
   "source": [
    "long_msg.find('is')"
   ]
  },
  {
   "cell_type": "code",
   "execution_count": 36,
   "id": "7156e5bf-1fab-4c77-b09e-6f0ad57d65ba",
   "metadata": {},
   "outputs": [
    {
     "name": "stdout",
     "output_type": "stream",
     "text": [
      "visual stdio code is lightwaited\n",
      "but powerful source code editer which \n",
      "typeScript and node.js and has a rich ecosystem\n",
      "of extensions for oher languages and runtimes\n"
     ]
    }
   ],
   "source": [
    "print(long_msg)"
   ]
  },
  {
   "cell_type": "code",
   "execution_count": 37,
   "id": "54ac5071-e36d-4ee8-9edc-c5a2fd3b6317",
   "metadata": {},
   "outputs": [
    {
     "data": {
      "text/plain": [
       "1"
      ]
     },
     "execution_count": 37,
     "metadata": {},
     "output_type": "execute_result"
    }
   ],
   "source": [
    "long_msg.find('is')"
   ]
  },
  {
   "cell_type": "markdown",
   "id": "83b0fe2a-f423-40b1-b9ee-1cf00d0249ce",
   "metadata": {},
   "source": [
    "Search all occurance of substr and display"
   ]
  },
  {
   "cell_type": "code",
   "execution_count": 38,
   "id": "49c5e10f-60db-4276-b4c9-f70c0b64129d",
   "metadata": {},
   "outputs": [
    {
     "name": "stdout",
     "output_type": "stream",
     "text": [
      "1\n",
      "18\n"
     ]
    }
   ],
   "source": [
    "q = \"is\"\n",
    "start=0 \n",
    "while True:\n",
    "        pos = long_msg.find(q, start)\n",
    "        start = pos + 1\n",
    "        if pos == -1:\n",
    "            break\n",
    "        print(pos)\n",
    "           \n",
    "    "
   ]
  },
  {
   "cell_type": "code",
   "execution_count": 39,
   "id": "e7f64a33-cdcc-44ca-bbbb-06a2a1cb7be5",
   "metadata": {},
   "outputs": [],
   "source": [
    " for vowel in \"aeiou\":\n",
    "    start = 0\n",
    "    while True:\n",
    "        pos =long_msg.find(vowel,start)\n",
    "        start = pos + 1\n",
    "        if pos == -1:\n",
    "            break\n",
    "            print(f\"vowel{vowel} : {pos}\")"
   ]
  },
  {
   "cell_type": "code",
   "execution_count": 40,
   "id": "0edd6b1a-2e42-45d5-b55f-3368476d71f0",
   "metadata": {},
   "outputs": [
    {
     "name": "stdin",
     "output_type": "stream",
     "text": [
      "enter anything 65\n"
     ]
    },
    {
     "name": "stdout",
     "output_type": "stream",
     "text": [
      "65\n",
      "numeric: True\n",
      "alphabets: False\n",
      "alphanumeric: True\n",
      "only space: False\n",
      "only uppercase: False\n",
      "onlylowercase: False\n",
      "captilized: <built-in method istitle of str object at 0x0000016B558058F0>\n",
      "decimal numbers True\n"
     ]
    }
   ],
   "source": [
    "msg = input(\"enter anything\")\n",
    "print(msg)\n",
    "print(\"numeric:\",msg.isnumeric())\n",
    "print(\"alphabets:\",msg.isalpha())\n",
    "print(\"alphanumeric:\",msg.isalnum())\n",
    "print(\"only space:\",msg.isspace())\n",
    "print(\"only uppercase:\",msg.isupper())\n",
    "print(\"onlylowercase:\",msg.islower())\n",
    "print(\"captilized:\",msg.istitle)\n",
    "print(\"decimal numbers\",msg.isdecimal())\n"
   ]
  },
  {
   "cell_type": "markdown",
   "id": "85d95687-1aad-4948-a0bc-f4f66f04bf78",
   "metadata": {},
   "source": [
    "1.count the numbers of vowels in a string\n",
    "2.remove all the vowels in a string\n",
    "3.WAT to get first n words form a string ,where n is a number given by user"
   ]
  },
  {
   "cell_type": "code",
   "execution_count": 41,
   "id": "623b6ec1-af60-4b6a-9aa6-b153d8f596cb",
   "metadata": {},
   "outputs": [
    {
     "name": "stdout",
     "output_type": "stream",
     "text": [
      "a : 9\n",
      "e : 16\n",
      "i : 11\n",
      "o : 11\n",
      "u : 6\n"
     ]
    }
   ],
   "source": [
    "vowels = \"aeiou\"\n",
    "for v in vowels:\n",
    "    c = long_msg. count(v)\n",
    "    print(f'{v} : {c}')"
   ]
  },
  {
   "cell_type": "code",
   "execution_count": 42,
   "id": "0abfc40d-d35a-4a5d-88c7-f57482d4bf61",
   "metadata": {},
   "outputs": [
    {
     "name": "stdout",
     "output_type": "stream",
     "text": [
      "visul stdio code is lightwited\n",
      "but powerful source code editer which \n",
      "typeScript nd node.js nd hs  rich ecosystem\n",
      "of extensions for oher lnguges nd runtimes\n",
      "visul stdio cod is lightwitd\n",
      "but powrful sourc cod ditr which \n",
      "typScript nd nod.js nd hs  rich cosystm\n",
      "of xtnsions for ohr lngugs nd runtims\n",
      "vsul stdo cod s lghtwtd\n",
      "but powrful sourc cod dtr whch \n",
      "typScrpt nd nod.js nd hs  rch cosystm\n",
      "of xtnsons for ohr lngugs nd runtms\n",
      "vsul std cd s lghtwtd\n",
      "but pwrful surc cd dtr whch \n",
      "typScrpt nd nd.js nd hs  rch csystm\n",
      "f xtnsns fr hr lngugs nd runtms\n",
      "vsl std cd s lghtwtd\n",
      "bt pwrfl src cd dtr whch \n",
      "typScrpt nd nd.js nd hs  rch csystm\n",
      "f xtnsns fr hr lnggs nd rntms\n"
     ]
    }
   ],
   "source": [
    "# remove all vowels\n",
    "msg = long_msg \n",
    "vowels = \"aeiou\"\n",
    "for v in vowels:\n",
    "    msg = msg.replace(v,'')\n",
    "    print(msg)"
   ]
  },
  {
   "cell_type": "markdown",
   "id": "8c975e8f-7b60-4315-96e3-f546f629278d",
   "metadata": {},
   "source": [
    "# n word slice\n",
    "word_count = int(input(\"how many words?\"))\n",
    "words = long_msg.split()[:word_count]\n",
    "print(words)"
   ]
  },
  {
   "cell_type": "markdown",
   "id": "bde57983-c98f-401d-9e53-4ab57407925a",
   "metadata": {},
   "source": [
    "display the size of each word in the string c find the largest word"
   ]
  },
  {
   "cell_type": "code",
   "execution_count": 43,
   "id": "20516649-5260-4ec9-8ab5-983e050df4ba",
   "metadata": {},
   "outputs": [
    {
     "name": "stdout",
     "output_type": "stream",
     "text": [
      "visual 6\n",
      "biggest word is visual with 6 charcters\n",
      "stdio 5\n",
      "code 4\n",
      "is 2\n",
      "lightwaited 11\n",
      "biggest word is lightwaited with 11 charcters\n",
      "but 3\n",
      "powerful 8\n",
      "source 6\n",
      "code 4\n",
      "editer 6\n",
      "which 5\n",
      "typeScript 10\n",
      "and 3\n",
      "node.js 7\n",
      "and 3\n",
      "has 3\n",
      "a 1\n",
      "rich 4\n",
      "ecosystem 9\n",
      "of 2\n",
      "extensions 10\n",
      "for 3\n",
      "oher 4\n",
      "languages 9\n",
      "and 3\n",
      "runtimes 8\n"
     ]
    }
   ],
   "source": [
    "m =0\n",
    "w = 0\n",
    "for word in long_msg.split():\n",
    "    print (word, len(word))\n",
    "    if len(word) > m:\n",
    "        m = len(word)\n",
    "        w = word\n",
    "        print(f'biggest word is {w} with {m} charcters')\n",
    "        "
   ]
  },
  {
   "cell_type": "code",
   "execution_count": null,
   "id": "9a80d2d3-832a-4050-b287-3be61d685460",
   "metadata": {},
   "outputs": [],
   "source": []
  }
 ],
 "metadata": {
  "kernelspec": {
   "display_name": "Python 3 (ipykernel)",
   "language": "python",
   "name": "python3"
  },
  "language_info": {
   "codemirror_mode": {
    "name": "ipython",
    "version": 3
   },
   "file_extension": ".py",
   "mimetype": "text/x-python",
   "name": "python",
   "nbconvert_exporter": "python",
   "pygments_lexer": "ipython3",
   "version": "3.9.12"
  }
 },
 "nbformat": 4,
 "nbformat_minor": 5
}
