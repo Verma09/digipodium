{
 "cells": [
  {
   "cell_type": "code",
   "execution_count": 2,
   "id": "abf863e7-138e-449c-a311-6818ed58a878",
   "metadata": {},
   "outputs": [
    {
     "name": "stdout",
     "output_type": "stream",
     "text": [
      "applejuice\n"
     ]
    }
   ],
   "source": [
    "a = 'apple'\n",
    "b = 'juice'\n",
    "ab = a + b\n",
    "print(ab)"
   ]
  },
  {
   "cell_type": "code",
   "execution_count": 2,
   "id": "a205bd12-97d3-40bc-a847-1f3157eed63d",
   "metadata": {},
   "outputs": [
    {
     "name": "stdout",
     "output_type": "stream",
     "text": [
      "thisisAmazing\n"
     ]
    }
   ],
   "source": [
    "w1 = 'this'\n",
    "w2 = 'is'\n",
    "w3 = 'Amazing'\n",
    "msg = w1 + w2 + w3\n",
    "print(msg)"
   ]
  },
  {
   "cell_type": "code",
   "execution_count": 3,
   "id": "06f6c19b-5071-4ba7-9115-3ff9e575d33f",
   "metadata": {},
   "outputs": [
    {
     "name": "stdout",
     "output_type": "stream",
     "text": [
      "HiHiHi\n"
     ]
    }
   ],
   "source": [
    "word = 'Hi'\n",
    "print(word*3)"
   ]
  },
  {
   "cell_type": "code",
   "execution_count": 5,
   "id": "a494ae36-629c-4418-ba7f-427b98bbf182",
   "metadata": {},
   "outputs": [
    {
     "name": "stdout",
     "output_type": "stream",
     "text": [
      "_________________________\n"
     ]
    }
   ],
   "source": [
    "print('_' * 25)"
   ]
  },
  {
   "cell_type": "code",
   "execution_count": 10,
   "id": "ca9fbe5c-9a2d-494a-8bf3-ffe293631c41",
   "metadata": {},
   "outputs": [
    {
     "name": "stdout",
     "output_type": "stream",
     "text": [
      "*\n",
      "**\n",
      "***\n",
      "****\n",
      "*****\n"
     ]
    }
   ],
   "source": [
    "for i in range(1,6):\n",
    " print(i * '*')"
   ]
  },
  {
   "cell_type": "code",
   "execution_count": 13,
   "id": "0a0ba48d-e154-456a-acd0-9cef04c5acff",
   "metadata": {},
   "outputs": [
    {
     "name": "stdout",
     "output_type": "stream",
     "text": [
      "******\n",
      "*****\n",
      "****\n",
      "***\n",
      "**\n",
      "*\n"
     ]
    }
   ],
   "source": [
    "for i in range(6,0,-1):\n",
    "    print(i * '*')"
   ]
  },
  {
   "cell_type": "raw",
   "id": "6ae2cc3e-c540-4dd2-b935-021b63bcfef2",
   "metadata": {},
   "source": [
    "String function"
   ]
  },
  {
   "cell_type": "code",
   "execution_count": 12,
   "id": "101200d1-9353-4c21-842f-f6261b62c9b7",
   "metadata": {},
   "outputs": [],
   "source": [
    "name = \"Alex Mason\"\n",
    "age = 50\n",
    "items = ['Apple','banana','Cherry']"
   ]
  },
  {
   "cell_type": "markdown",
   "id": "b746f1d8-bd82-4700-9e1a-837bbf1abda6",
   "metadata": {},
   "source": [
    "Formatting Functions"
   ]
  },
  {
   "cell_type": "code",
   "execution_count": 15,
   "id": "122e87d7-5134-4119-a28e-121132293c89",
   "metadata": {},
   "outputs": [],
   "source": [
    " msg = 'This Is A message from VERY imporTenT person'"
   ]
  },
  {
   "cell_type": "code",
   "execution_count": 16,
   "id": "cc99fcf6-2bda-48dd-bdc8-2102bd1754e9",
   "metadata": {},
   "outputs": [
    {
     "name": "stdout",
     "output_type": "stream",
     "text": [
      "THIS IS A MESSAGE FROM VERY IMPORTENT PERSON\n",
      "this is a message from very importent person\n",
      "This Is A Message From Very Importent Person\n",
      "This is a message from very importent person\n",
      "this is a message from very importent person\n",
      "tHIS iS a MESSAGE FROM very IMPORtENt PERSON\n",
      "This Is A message from VERY imporTenT person\n"
     ]
    }
   ],
   "source": [
    "print(msg.upper())\n",
    "print(msg.lower())\n",
    "print(msg.title())\n",
    "print(msg.capitalize())\n",
    "print(msg.casefold())\n",
    "print(msg.swapcase())\n",
    "print(msg)"
   ]
  },
  {
   "cell_type": "code",
   "execution_count": 17,
   "id": "86a26185-304d-479c-9574-614e6523a0df",
   "metadata": {},
   "outputs": [
    {
     "name": "stdout",
     "output_type": "stream",
     "text": [
      "THIS IS A MESSAGE FROM VERY IMPORTENT PERSON\n",
      "this is a message from very importent person\n"
     ]
    }
   ],
   "source": [
    "msg = msg.upper()\n",
    "print(msg)\n",
    "msg = msg.lower()\n",
    "print(msg)"
   ]
  },
  {
   "cell_type": "code",
   "execution_count": 18,
   "id": "957fa052-83d7-409c-b63c-f101d08402c8",
   "metadata": {},
   "outputs": [
    {
     "data": {
      "text/plain": [
       "44"
      ]
     },
     "execution_count": 18,
     "metadata": {},
     "output_type": "execute_result"
    }
   ],
   "source": [
    "len(msg)"
   ]
  },
  {
   "cell_type": "code",
   "execution_count": 19,
   "id": "04aa5854-1e7e-4ea2-a42a-0cbb14d0a19d",
   "metadata": {},
   "outputs": [
    {
     "name": "stdout",
     "output_type": "stream",
     "text": [
      "this is a message from very importent person\n"
     ]
    }
   ],
   "source": [
    "print(msg)"
   ]
  },
  {
   "cell_type": "code",
   "execution_count": 20,
   "id": "9ed590fc-732f-4f14-bd7a-278f70ccb69b",
   "metadata": {},
   "outputs": [
    {
     "name": "stdout",
     "output_type": "stream",
     "text": [
      "                                    this is a message from very importent person\n"
     ]
    }
   ],
   "source": [
    "print(msg.rjust(80))"
   ]
  },
  {
   "cell_type": "code",
   "execution_count": 23,
   "id": "5c612699-c322-4e6f-bb35-d671a47501c5",
   "metadata": {},
   "outputs": [],
   "source": [
    "long_msg ='''\n",
    "visual stdio code is lightwaited\n",
    "but powerful source code editer which \n",
    "typeScript and node.js and has a rich ecosystem\n",
    "of extensions for oher languages and runtimes\n",
    "'''\n"
   ]
  },
  {
   "cell_type": "code",
   "execution_count": 24,
   "id": "6ad94a04-1a0e-4be4-a1f4-94672df5a7a6",
   "metadata": {},
   "outputs": [
    {
     "name": "stdout",
     "output_type": "stream",
     "text": [
      "                                                                                                                                                      \n",
      "                                                           visual stdio code is lightwaited                                                           \n",
      "                                                        but powerful source code editer which                                                         \n",
      "                                                   typeScript and node.js and has a rich ecosystem                                                    \n",
      "                                                    of extensions for oher languages and runtimes                                                     \n",
      "                                                                                                                                                      \n"
     ]
    }
   ],
   "source": [
    "for line in long_msg.split('\\n'): #for long msg alightment\n",
    "    print(line.center(150))"
   ]
  },
  {
   "cell_type": "code",
   "execution_count": 25,
   "id": "1e7f53e3-3860-4199-9af6-011f6d2f0efd",
   "metadata": {},
   "outputs": [
    {
     "data": {
      "text/plain": [
       "['this is a m', 'ssag', ' from v', 'ry import', 'nt p', 'rson']"
      ]
     },
     "execution_count": 25,
     "metadata": {},
     "output_type": "execute_result"
    }
   ],
   "source": [
    "msg.split('e')"
   ]
  },
  {
   "cell_type": "code",
   "execution_count": 26,
   "id": "fb1a35e5-0181-4937-b093-5cbd041f49c6",
   "metadata": {},
   "outputs": [
    {
     "data": {
      "text/plain": [
       "['',\n",
       " 'visual stdio code is lightwaited',\n",
       " 'but powerful source code editer which ',\n",
       " 'typeScript and node.js and has a rich ecosystem',\n",
       " 'of extensions for oher languages and runtimes',\n",
       " '']"
      ]
     },
     "execution_count": 26,
     "metadata": {},
     "output_type": "execute_result"
    }
   ],
   "source": [
    "long_msg.split('\\n')"
   ]
  },
  {
   "cell_type": "code",
   "execution_count": 27,
   "id": "6c2f36d5-8e90-4c27-8d65-024210bf732f",
   "metadata": {},
   "outputs": [
    {
     "data": {
      "text/plain": [
       "['this', 'is', 'a', 'message', 'from', 'very', 'importent person']"
      ]
     },
     "execution_count": 27,
     "metadata": {},
     "output_type": "execute_result"
    }
   ],
   "source": [
    "msg.split(maxsplit=6)"
   ]
  },
  {
   "cell_type": "code",
   "execution_count": 28,
   "id": "a3ca8fde-24ca-4c2e-8538-d95cc0c5a1ab",
   "metadata": {},
   "outputs": [
    {
     "data": {
      "text/plain": [
       "['this is a message from', 'very', 'importent', 'person']"
      ]
     },
     "execution_count": 28,
     "metadata": {},
     "output_type": "execute_result"
    }
   ],
   "source": [
    "msg.rsplit(maxsplit=3)"
   ]
  },
  {
   "cell_type": "code",
   "execution_count": 29,
   "id": "d4431fcc-a2bd-482e-b787-7b5df0b6b7f4",
   "metadata": {},
   "outputs": [
    {
     "data": {
      "text/plain": [
       "'\\nvisual stdio code is lightwaited\\nbut powerful source code editer which \\ntypeScript and node.js and has a rich ecosystem\\nof extensions for oher languages and runtimes\\n'"
      ]
     },
     "execution_count": 29,
     "metadata": {},
     "output_type": "execute_result"
    }
   ],
   "source": [
    "long_msg"
   ]
  },
  {
   "cell_type": "code",
   "execution_count": 31,
   "id": "ae446ee6-e7b4-48c8-8469-4e8a2aebdb68",
   "metadata": {},
   "outputs": [
    {
     "name": "stdin",
     "output_type": "stream",
     "text": [
      "what is your name sandhya\n"
     ]
    },
    {
     "name": "stdout",
     "output_type": "stream",
     "text": [
      "7 sandhya\n",
      "7 sandhya\n"
     ]
    }
   ],
   "source": [
    "name = input(\"what is your name\")\n",
    "print(len(name), name)\n",
    "name = name.strip()\n",
    "print(len(name), name)"
   ]
  },
  {
   "cell_type": "code",
   "execution_count": 32,
   "id": "b294a580-fd29-4ea7-8549-231006bec4cc",
   "metadata": {},
   "outputs": [
    {
     "name": "stdout",
     "output_type": "stream",
     "text": [
      "167\n",
      "165\n"
     ]
    }
   ],
   "source": [
    "print(len(long_msg))\n",
    "long_msg = long_msg.strip()\n",
    "print(len(long_msg))"
   ]
  },
  {
   "cell_type": "code",
   "execution_count": null,
   "id": "d3cfd12d-2e59-4f3f-9ccd-936bb46d2116",
   "metadata": {},
   "outputs": [],
   "source": [
    "data = \"000000000OLA000\"\n",
    "data.strip('0')"
   ]
  },
  {
   "cell_type": "code",
   "execution_count": 34,
   "id": "80b3c4c0-c0bb-40de-bdd2-004fbe4b51de",
   "metadata": {},
   "outputs": [
    {
     "data": {
      "text/plain": [
       "'---------this is-----not------good'"
      ]
     },
     "execution_count": 34,
     "metadata": {},
     "output_type": "execute_result"
    }
   ],
   "source": [
    "data = '---------this is-----not------good'\n",
    "data.strip('_')"
   ]
  },
  {
   "cell_type": "code",
   "execution_count": 44,
   "id": "bcf39028-152b-4ab0-a341-96afd96108f4",
   "metadata": {},
   "outputs": [
    {
     "name": "stdout",
     "output_type": "stream",
     "text": [
      "---------this is-----not------good\n",
      "---------this is-----not------good\n",
      "---------this is-----not------good\n"
     ]
    }
   ],
   "source": [
    "print(data.strip('_'))\n",
    "print(data.lstrip('_'))\n",
    "print(data.rstrip('_'))\n",
    "\n",
    "      "
   ]
  },
  {
   "cell_type": "code",
   "execution_count": 43,
   "id": "c95c4225-8867-46df-9a69-ba8fba97dcbd",
   "metadata": {},
   "outputs": [
    {
     "name": "stdout",
     "output_type": "stream",
     "text": [
      "---------this is-----not------good\n"
     ]
    }
   ],
   "source": [
    "data_clean = data.replace('_','')\n",
    "print(data_clean)"
   ]
  },
  {
   "cell_type": "code",
   "execution_count": 42,
   "id": "3b98e301-07f7-46ad-bce9-a889e208bb7a",
   "metadata": {},
   "outputs": [
    {
     "name": "stdout",
     "output_type": "stream",
     "text": [
      "visual stdio code is lightwaited\n",
      "but powerful source code editer which \n",
      "typeScript and node.js and has a rich ecosystem\n",
      "of extensions for oher languages and runtimes\n",
      "update--------->\n",
      "v0sual std0o code 0s l0ghtwa0ted\n",
      "but powerful source code ed0ter wh0ch \n",
      "typeScr0pt and node.js and has a r0ch ecosystem\n",
      "of extens0ons for oher languages and runt0mes\n"
     ]
    }
   ],
   "source": [
    "print(long_msg)\n",
    "print('update--------->')\n",
    "print(long_msg.replace('i','0'))"
   ]
  },
  {
   "cell_type": "code",
   "execution_count": null,
   "id": "90969067-8cc4-4fa1-9e4f-f9ae0f94b1dd",
   "metadata": {},
   "outputs": [],
   "source": [
    "print(long_msg.count())"
   ]
  },
  {
   "cell_type": "code",
   "execution_count": null,
   "id": "fedb0041-b694-4cdb-93d3-ee40511abe49",
   "metadata": {},
   "outputs": [],
   "source": []
  }
 ],
 "metadata": {
  "kernelspec": {
   "display_name": "Python 3 (ipykernel)",
   "language": "python",
   "name": "python3"
  },
  "language_info": {
   "codemirror_mode": {
    "name": "ipython",
    "version": 3
   },
   "file_extension": ".py",
   "mimetype": "text/x-python",
   "name": "python",
   "nbconvert_exporter": "python",
   "pygments_lexer": "ipython3",
   "version": "3.9.12"
  }
 },
 "nbformat": 4,
 "nbformat_minor": 5
}
