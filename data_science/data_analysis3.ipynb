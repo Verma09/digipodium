{
 "cells": [
  {
   "cell_type": "code",
   "execution_count": 3,
   "id": "2bc32940-d562-47b9-baeb-e7717038c209",
   "metadata": {},
   "outputs": [],
   "source": [
    "import pandas as pd \n",
    "import numpy as np\n",
    "import matplotlib.pyplot as plt\n",
    "import os"
   ]
  },
  {
   "cell_type": "code",
   "execution_count": 4,
   "id": "fef7b3de-0e76-4d00-826d-bebc7078476e",
   "metadata": {},
   "outputs": [
    {
     "name": "stdout",
     "output_type": "stream",
     "text": [
      "<class 'pandas.core.frame.DataFrame'>\n",
      "Int64Index: 528 entries, 0 to 527\n",
      "Data columns (total 3 columns):\n",
      " #   Column  Non-Null Count  Dtype \n",
      "---  ------  --------------  ----- \n",
      " 0   title   528 non-null    object\n",
      " 1   price   528 non-null    object\n",
      " 2   link    528 non-null    object\n",
      "dtypes: object(3)\n",
      "memory usage: 16.5+ KB\n",
      "None\n"
     ]
    }
   ],
   "source": [
    "filepath = 'laptop_data.csv'\n",
    "if not os.path.exists(filepath):\n",
    "    print('File not found')\n",
    "else:\n",
    "    df = pd.read_csv(filepath, index_col=0)\n",
    "    print(df.info())"
   ]
  },
  {
   "cell_type": "code",
   "execution_count": 5,
   "id": "d9cbaa7a-f3ff-4070-9732-1f81053a528f",
   "metadata": {},
   "outputs": [
    {
     "data": {
      "text/html": [
       "<div>\n",
       "<style scoped>\n",
       "    .dataframe tbody tr th:only-of-type {\n",
       "        vertical-align: middle;\n",
       "    }\n",
       "\n",
       "    .dataframe tbody tr th {\n",
       "        vertical-align: top;\n",
       "    }\n",
       "\n",
       "    .dataframe thead th {\n",
       "        text-align: right;\n",
       "    }\n",
       "</style>\n",
       "<table border=\"1\" class=\"dataframe\">\n",
       "  <thead>\n",
       "    <tr style=\"text-align: right;\">\n",
       "      <th></th>\n",
       "      <th>title</th>\n",
       "      <th>price</th>\n",
       "      <th>link</th>\n",
       "    </tr>\n",
       "  </thead>\n",
       "  <tbody>\n",
       "    <tr>\n",
       "      <th>27</th>\n",
       "      <td>MSI Core i9 12th Gen - (32 GB/2 TB SSD/Windows...</td>\n",
       "      <td>₹3,90,990</td>\n",
       "      <td>/msi-core-i9-12th-gen-32-gb-2-tb-ssd-windows-1...</td>\n",
       "    </tr>\n",
       "    <tr>\n",
       "      <th>31</th>\n",
       "      <td>MSI Modern 14 Core i5 10th Gen - (8 GB/512 GB ...</td>\n",
       "      <td>₹41,990</td>\n",
       "      <td>/msi-modern-14-core-i5-10th-gen-8-gb-512-gb-ss...</td>\n",
       "    </tr>\n",
       "    <tr>\n",
       "      <th>39</th>\n",
       "      <td>MSI Bravo 15 Ryzen 5 Hexa Core 5600H - (8 GB/5...</td>\n",
       "      <td>₹49,990</td>\n",
       "      <td>/msi-bravo-15-ryzen-5-hexa-core-5600h-8-gb-512...</td>\n",
       "    </tr>\n",
       "    <tr>\n",
       "      <th>43</th>\n",
       "      <td>Lenovo Ideapad Gaming 3 Ryzen 5 Hexa Core 5600...</td>\n",
       "      <td>₹59,990</td>\n",
       "      <td>/lenovo-ideapad-gaming-3-ryzen-5-hexa-core-560...</td>\n",
       "    </tr>\n",
       "    <tr>\n",
       "      <th>47</th>\n",
       "      <td>MSI Crosshair 15 Core i7 12th Gen - (16 GB/1 T...</td>\n",
       "      <td>₹1,16,990</td>\n",
       "      <td>/msi-crosshair-15-core-i7-12th-gen-16-gb-1-tb-...</td>\n",
       "    </tr>\n",
       "    <tr>\n",
       "      <th>...</th>\n",
       "      <td>...</td>\n",
       "      <td>...</td>\n",
       "      <td>...</td>\n",
       "    </tr>\n",
       "    <tr>\n",
       "      <th>516</th>\n",
       "      <td>ASUS Vivobook Pro 15 OLED Ryzen 7 Octa Core 48...</td>\n",
       "      <td>₹67,990</td>\n",
       "      <td>/asus-vivobook-pro-15-oled-ryzen-7-octa-core-4...</td>\n",
       "    </tr>\n",
       "    <tr>\n",
       "      <th>519</th>\n",
       "      <td>MSI Bravo 15 Ryzen 5 Hexa Core 5600H - (8 GB/5...</td>\n",
       "      <td>₹49,990</td>\n",
       "      <td>/msi-bravo-15-ryzen-5-hexa-core-5600h-8-gb-512...</td>\n",
       "    </tr>\n",
       "    <tr>\n",
       "      <th>523</th>\n",
       "      <td>Lenovo Ideapad Gaming 3 Ryzen 5 Hexa Core 5600...</td>\n",
       "      <td>₹59,990</td>\n",
       "      <td>/lenovo-ideapad-gaming-3-ryzen-5-hexa-core-560...</td>\n",
       "    </tr>\n",
       "    <tr>\n",
       "      <th>526</th>\n",
       "      <td>ASUS ROG Zephyrus G15 (2022) with 90Whr Batter...</td>\n",
       "      <td>₹2,07,990</td>\n",
       "      <td>/asus-rog-zephyrus-g15-2022-90whr-battery-ryze...</td>\n",
       "    </tr>\n",
       "    <tr>\n",
       "      <th>527</th>\n",
       "      <td>MSI Crosshair 15 Core i7 12th Gen - (16 GB/1 T...</td>\n",
       "      <td>₹1,16,990</td>\n",
       "      <td>/msi-crosshair-15-core-i7-12th-gen-16-gb-1-tb-...</td>\n",
       "    </tr>\n",
       "  </tbody>\n",
       "</table>\n",
       "<p>158 rows × 3 columns</p>\n",
       "</div>"
      ],
      "text/plain": [
       "                                                 title      price  \\\n",
       "27   MSI Core i9 12th Gen - (32 GB/2 TB SSD/Windows...  ₹3,90,990   \n",
       "31   MSI Modern 14 Core i5 10th Gen - (8 GB/512 GB ...    ₹41,990   \n",
       "39   MSI Bravo 15 Ryzen 5 Hexa Core 5600H - (8 GB/5...    ₹49,990   \n",
       "43   Lenovo Ideapad Gaming 3 Ryzen 5 Hexa Core 5600...    ₹59,990   \n",
       "47   MSI Crosshair 15 Core i7 12th Gen - (16 GB/1 T...  ₹1,16,990   \n",
       "..                                                 ...        ...   \n",
       "516  ASUS Vivobook Pro 15 OLED Ryzen 7 Octa Core 48...    ₹67,990   \n",
       "519  MSI Bravo 15 Ryzen 5 Hexa Core 5600H - (8 GB/5...    ₹49,990   \n",
       "523  Lenovo Ideapad Gaming 3 Ryzen 5 Hexa Core 5600...    ₹59,990   \n",
       "526  ASUS ROG Zephyrus G15 (2022) with 90Whr Batter...  ₹2,07,990   \n",
       "527  MSI Crosshair 15 Core i7 12th Gen - (16 GB/1 T...  ₹1,16,990   \n",
       "\n",
       "                                                  link  \n",
       "27   /msi-core-i9-12th-gen-32-gb-2-tb-ssd-windows-1...  \n",
       "31   /msi-modern-14-core-i5-10th-gen-8-gb-512-gb-ss...  \n",
       "39   /msi-bravo-15-ryzen-5-hexa-core-5600h-8-gb-512...  \n",
       "43   /lenovo-ideapad-gaming-3-ryzen-5-hexa-core-560...  \n",
       "47   /msi-crosshair-15-core-i7-12th-gen-16-gb-1-tb-...  \n",
       "..                                                 ...  \n",
       "516  /asus-vivobook-pro-15-oled-ryzen-7-octa-core-4...  \n",
       "519  /msi-bravo-15-ryzen-5-hexa-core-5600h-8-gb-512...  \n",
       "523  /lenovo-ideapad-gaming-3-ryzen-5-hexa-core-560...  \n",
       "526  /asus-rog-zephyrus-g15-2022-90whr-battery-ryze...  \n",
       "527  /msi-crosshair-15-core-i7-12th-gen-16-gb-1-tb-...  \n",
       "\n",
       "[158 rows x 3 columns]"
      ]
     },
     "execution_count": 5,
     "metadata": {},
     "output_type": "execute_result"
    }
   ],
   "source": [
    "df[df['title'].duplicated()] # list all the duplicated titles"
   ]
  },
  {
   "cell_type": "markdown",
   "id": "c562d565-a70b-4358-973d-da32fda1467d",
   "metadata": {},
   "source": [
    "# we have to clean price and make it a number"
   ]
  },
  {
   "cell_type": "markdown",
   "id": "28ef4235-8ac3-4448-83d7-820bd1619b9b",
   "metadata": {},
   "source": [
    "- f(x) = x*2\n",
    "-- f(5)\n",
    "-- f(230)\n",
    "-- f(0.5)\n",
    "- lamda expression\n",
    "-- f = lamda x: x*2\n",
    "-- f(5)\n",
    "-- f(230)"
   ]
  },
  {
   "cell_type": "code",
   "execution_count": 6,
   "id": "d6494683-da3d-41e3-bdcc-9c2610ea0eab",
   "metadata": {},
   "outputs": [
    {
     "name": "stdout",
     "output_type": "stream",
     "text": [
      "16\n",
      "11\n"
     ]
    }
   ],
   "source": [
    "f = lambda i : i*4\n",
    "print(f(4))\n",
    "g = lambda x,y : x + y **2\n",
    "print(g(2,3))       "
   ]
  },
  {
   "cell_type": "code",
   "execution_count": 7,
   "id": "218d3f7d-f591-4f46-b465-8ed92f772d61",
   "metadata": {},
   "outputs": [],
   "source": [
    "# this is stupid, dont use this, use the apply(), applymap() method\n",
    "# for now in df.iterrows():\n",
    "# print(row)"
   ]
  },
  {
   "cell_type": "code",
   "execution_count": 8,
   "id": "9368c12c-78c7-40fe-bc64-7ac1aa3cebbc",
   "metadata": {},
   "outputs": [],
   "source": [
    "# int('3,90,990'[1:].replace(',','')')"
   ]
  },
  {
   "cell_type": "markdown",
   "id": "a7fd9fcb-1c42-4578-bc89-4c96f70dde6e",
   "metadata": {},
   "source": [
    "     "
   ]
  },
  {
   "cell_type": "code",
   "execution_count": 9,
   "id": "5cc598d0-9c25-4a8e-9fd8-bd222bf08f46",
   "metadata": {},
   "outputs": [
    {
     "data": {
      "text/html": [
       "<div>\n",
       "<style scoped>\n",
       "    .dataframe tbody tr th:only-of-type {\n",
       "        vertical-align: middle;\n",
       "    }\n",
       "\n",
       "    .dataframe tbody tr th {\n",
       "        vertical-align: top;\n",
       "    }\n",
       "\n",
       "    .dataframe thead th {\n",
       "        text-align: right;\n",
       "    }\n",
       "</style>\n",
       "<table border=\"1\" class=\"dataframe\">\n",
       "  <thead>\n",
       "    <tr style=\"text-align: right;\">\n",
       "      <th></th>\n",
       "      <th>title</th>\n",
       "      <th>price</th>\n",
       "      <th>link</th>\n",
       "    </tr>\n",
       "  </thead>\n",
       "  <tbody>\n",
       "    <tr>\n",
       "      <th>0</th>\n",
       "      <td>MSI Core i9 12th Gen - (32 GB/2 TB SSD/Windows...</td>\n",
       "      <td>₹3,90,990</td>\n",
       "      <td>/msi-core-i9-12th-gen-32-gb-2-tb-ssd-windows-1...</td>\n",
       "    </tr>\n",
       "    <tr>\n",
       "      <th>1</th>\n",
       "      <td>Lenovo Ideapad Gaming 3 Ryzen 5 Hexa Core 5600...</td>\n",
       "      <td>₹59,990</td>\n",
       "      <td>/lenovo-ideapad-gaming-3-ryzen-5-hexa-core-560...</td>\n",
       "    </tr>\n",
       "    <tr>\n",
       "      <th>2</th>\n",
       "      <td>ASUS Vivobook 15 Core i3 10th Gen - (8 GB/256 ...</td>\n",
       "      <td>₹27,990</td>\n",
       "      <td>/asus-vivobook-15-core-i3-10th-gen-8-gb-256-gb...</td>\n",
       "    </tr>\n",
       "    <tr>\n",
       "      <th>3</th>\n",
       "      <td>MSI Modern 14 Ryzen 5 Hexa Core 5500U - (8 GB/...</td>\n",
       "      <td>₹39,990</td>\n",
       "      <td>/msi-modern-14-ryzen-5-hexa-core-5500u-8-gb-51...</td>\n",
       "    </tr>\n",
       "    <tr>\n",
       "      <th>4</th>\n",
       "      <td>Lenovo IdeaPad 3 Ryzen 5 Hexa Core 5500U - (8 ...</td>\n",
       "      <td>₹48,990</td>\n",
       "      <td>/lenovo-ideapad-3-ryzen-5-hexa-core-5500u-8-gb...</td>\n",
       "    </tr>\n",
       "    <tr>\n",
       "      <th>...</th>\n",
       "      <td>...</td>\n",
       "      <td>...</td>\n",
       "      <td>...</td>\n",
       "    </tr>\n",
       "    <tr>\n",
       "      <th>523</th>\n",
       "      <td>Lenovo Ideapad Gaming 3 Ryzen 5 Hexa Core 5600...</td>\n",
       "      <td>₹59,990</td>\n",
       "      <td>/lenovo-ideapad-gaming-3-ryzen-5-hexa-core-560...</td>\n",
       "    </tr>\n",
       "    <tr>\n",
       "      <th>524</th>\n",
       "      <td>ASUS Ryzen 5 Hexa Core - (8 GB/512 GB SSD/Wind...</td>\n",
       "      <td>₹55,600</td>\n",
       "      <td>/asus-ryzen-5-hexa-core-8-gb-512-gb-ssd-window...</td>\n",
       "    </tr>\n",
       "    <tr>\n",
       "      <th>525</th>\n",
       "      <td>LG Gram Core i5 11th Gen - (8 GB/256 GB SSD/Wi...</td>\n",
       "      <td>₹76,990</td>\n",
       "      <td>/lg-gram-core-i5-11th-gen-8-gb-256-gb-ssd-wind...</td>\n",
       "    </tr>\n",
       "    <tr>\n",
       "      <th>526</th>\n",
       "      <td>ASUS ROG Zephyrus G15 (2022) with 90Whr Batter...</td>\n",
       "      <td>₹2,07,990</td>\n",
       "      <td>/asus-rog-zephyrus-g15-2022-90whr-battery-ryze...</td>\n",
       "    </tr>\n",
       "    <tr>\n",
       "      <th>527</th>\n",
       "      <td>MSI Crosshair 15 Core i7 12th Gen - (16 GB/1 T...</td>\n",
       "      <td>₹1,16,990</td>\n",
       "      <td>/msi-crosshair-15-core-i7-12th-gen-16-gb-1-tb-...</td>\n",
       "    </tr>\n",
       "  </tbody>\n",
       "</table>\n",
       "<p>528 rows × 3 columns</p>\n",
       "</div>"
      ],
      "text/plain": [
       "                                                 title      price  \\\n",
       "0    MSI Core i9 12th Gen - (32 GB/2 TB SSD/Windows...  ₹3,90,990   \n",
       "1    Lenovo Ideapad Gaming 3 Ryzen 5 Hexa Core 5600...    ₹59,990   \n",
       "2    ASUS Vivobook 15 Core i3 10th Gen - (8 GB/256 ...    ₹27,990   \n",
       "3    MSI Modern 14 Ryzen 5 Hexa Core 5500U - (8 GB/...    ₹39,990   \n",
       "4    Lenovo IdeaPad 3 Ryzen 5 Hexa Core 5500U - (8 ...    ₹48,990   \n",
       "..                                                 ...        ...   \n",
       "523  Lenovo Ideapad Gaming 3 Ryzen 5 Hexa Core 5600...    ₹59,990   \n",
       "524  ASUS Ryzen 5 Hexa Core - (8 GB/512 GB SSD/Wind...    ₹55,600   \n",
       "525  LG Gram Core i5 11th Gen - (8 GB/256 GB SSD/Wi...    ₹76,990   \n",
       "526  ASUS ROG Zephyrus G15 (2022) with 90Whr Batter...  ₹2,07,990   \n",
       "527  MSI Crosshair 15 Core i7 12th Gen - (16 GB/1 T...  ₹1,16,990   \n",
       "\n",
       "                                                  link  \n",
       "0    /msi-core-i9-12th-gen-32-gb-2-tb-ssd-windows-1...  \n",
       "1    /lenovo-ideapad-gaming-3-ryzen-5-hexa-core-560...  \n",
       "2    /asus-vivobook-15-core-i3-10th-gen-8-gb-256-gb...  \n",
       "3    /msi-modern-14-ryzen-5-hexa-core-5500u-8-gb-51...  \n",
       "4    /lenovo-ideapad-3-ryzen-5-hexa-core-5500u-8-gb...  \n",
       "..                                                 ...  \n",
       "523  /lenovo-ideapad-gaming-3-ryzen-5-hexa-core-560...  \n",
       "524  /asus-ryzen-5-hexa-core-8-gb-512-gb-ssd-window...  \n",
       "525  /lg-gram-core-i5-11th-gen-8-gb-256-gb-ssd-wind...  \n",
       "526  /asus-rog-zephyrus-g15-2022-90whr-battery-ryze...  \n",
       "527  /msi-crosshair-15-core-i7-12th-gen-16-gb-1-tb-...  \n",
       "\n",
       "[528 rows x 3 columns]"
      ]
     },
     "execution_count": 9,
     "metadata": {},
     "output_type": "execute_result"
    }
   ],
   "source": [
    "df"
   ]
  },
  {
   "cell_type": "code",
   "execution_count": 20,
   "id": "7749f344-3330-4b89-b502-dd432293274a",
   "metadata": {},
   "outputs": [],
   "source": [
    "df['price_clean']=df['price'].apply(lambda val: int(val[1:].replace(',', '')))"
   ]
  },
  {
   "cell_type": "code",
   "execution_count": 28,
   "id": "a583d9d1-d4da-499b-85e0-261f3612e640",
   "metadata": {},
   "outputs": [
    {
     "data": {
      "text/plain": [
       "Index(['title', 'price', 'link', 'price_clean', 'name', 'configuration',\n",
       "       'brand'],\n",
       "      dtype='object')"
      ]
     },
     "execution_count": 28,
     "metadata": {},
     "output_type": "execute_result"
    }
   ],
   "source": [
    "df.columns"
   ]
  },
  {
   "cell_type": "code",
   "execution_count": 29,
   "id": "bfe0cbd1-ee6e-4371-aa50-1d91c88467b6",
   "metadata": {},
   "outputs": [],
   "source": [
    "df.sort_values(by='price_clean',ascending= False, inplace= True)"
   ]
  },
  {
   "cell_type": "code",
   "execution_count": 30,
   "id": "2207aa93-eb4c-40f3-ae04-b719af8e1a9e",
   "metadata": {},
   "outputs": [
    {
     "data": {
      "text/html": [
       "<div>\n",
       "<style scoped>\n",
       "    .dataframe tbody tr th:only-of-type {\n",
       "        vertical-align: middle;\n",
       "    }\n",
       "\n",
       "    .dataframe tbody tr th {\n",
       "        vertical-align: top;\n",
       "    }\n",
       "\n",
       "    .dataframe thead th {\n",
       "        text-align: right;\n",
       "    }\n",
       "</style>\n",
       "<table border=\"1\" class=\"dataframe\">\n",
       "  <thead>\n",
       "    <tr style=\"text-align: right;\">\n",
       "      <th></th>\n",
       "      <th>title</th>\n",
       "      <th>price</th>\n",
       "      <th>link</th>\n",
       "      <th>price_clean</th>\n",
       "      <th>name</th>\n",
       "      <th>configuration</th>\n",
       "      <th>brand</th>\n",
       "    </tr>\n",
       "  </thead>\n",
       "  <tbody>\n",
       "    <tr>\n",
       "      <th>317</th>\n",
       "      <td>Infinix INBook X1 Neo Series Celeron Quad Core...</td>\n",
       "      <td>₹22,990</td>\n",
       "      <td>/infinix-inbook-x1-neo-series-celeron-quad-cor...</td>\n",
       "      <td>22990</td>\n",
       "      <td>Infinix INBook X1 Neo Series Celeron Quad Core</td>\n",
       "      <td>(8 GB/256 GB SSD/Windows 11 Home) XL22 Thin an...</td>\n",
       "      <td>Infinix</td>\n",
       "    </tr>\n",
       "    <tr>\n",
       "      <th>188</th>\n",
       "      <td>ASUS (2022) Celeron Dual Core - (4 GB/128 GB S...</td>\n",
       "      <td>₹22,990</td>\n",
       "      <td>/asus-2022-celeron-dual-core-4-gb-128-gb-ssd-w...</td>\n",
       "      <td>22990</td>\n",
       "      <td>ASUS (2022) Celeron Dual Core</td>\n",
       "      <td>(4 GB/128 GB SSD/Windows 11 Home) BR1100CKA</td>\n",
       "      <td>ASUS</td>\n",
       "    </tr>\n",
       "    <tr>\n",
       "      <th>288</th>\n",
       "      <td>Lenovo IdeaPad 1 Celeron Dual Core - (4 GB/256...</td>\n",
       "      <td>₹21,513</td>\n",
       "      <td>/lenovo-ideapad-1-celeron-dual-core-4-gb-256-g...</td>\n",
       "      <td>21513</td>\n",
       "      <td>Lenovo IdeaPad 1 Celeron Dual Core</td>\n",
       "      <td>(4 GB/256 GB SSD/Windows 11 Home) 11IGL05 Thin...</td>\n",
       "      <td>Lenovo</td>\n",
       "    </tr>\n",
       "    <tr>\n",
       "      <th>485</th>\n",
       "      <td>Avita SATUS ULTIMUS S111 Celeron Dual Core - (...</td>\n",
       "      <td>₹21,490</td>\n",
       "      <td>/avita-satus-ultimus-s111-celeron-dual-core-4-...</td>\n",
       "      <td>21490</td>\n",
       "      <td>Avita SATUS ULTIMUS S111 Celeron Dual Core</td>\n",
       "      <td>(4 GB/128 GB SSD/Windows 11 Home) NU14A1INC43PN</td>\n",
       "      <td>Avita</td>\n",
       "    </tr>\n",
       "    <tr>\n",
       "      <th>78</th>\n",
       "      <td>Infinix INBook X1 Neo Series Celeron Quad Core...</td>\n",
       "      <td>₹18,990</td>\n",
       "      <td>/infinix-inbook-x1-neo-series-celeron-quad-cor...</td>\n",
       "      <td>18990</td>\n",
       "      <td>Infinix INBook X1 Neo Series Celeron Quad Core</td>\n",
       "      <td>(4 GB/128 GB SSD/Windows 11 Home) XL22 Thin an...</td>\n",
       "      <td>Infinix</td>\n",
       "    </tr>\n",
       "  </tbody>\n",
       "</table>\n",
       "</div>"
      ],
      "text/plain": [
       "                                                 title    price  \\\n",
       "317  Infinix INBook X1 Neo Series Celeron Quad Core...  ₹22,990   \n",
       "188  ASUS (2022) Celeron Dual Core - (4 GB/128 GB S...  ₹22,990   \n",
       "288  Lenovo IdeaPad 1 Celeron Dual Core - (4 GB/256...  ₹21,513   \n",
       "485  Avita SATUS ULTIMUS S111 Celeron Dual Core - (...  ₹21,490   \n",
       "78   Infinix INBook X1 Neo Series Celeron Quad Core...  ₹18,990   \n",
       "\n",
       "                                                  link  price_clean  \\\n",
       "317  /infinix-inbook-x1-neo-series-celeron-quad-cor...        22990   \n",
       "188  /asus-2022-celeron-dual-core-4-gb-128-gb-ssd-w...        22990   \n",
       "288  /lenovo-ideapad-1-celeron-dual-core-4-gb-256-g...        21513   \n",
       "485  /avita-satus-ultimus-s111-celeron-dual-core-4-...        21490   \n",
       "78   /infinix-inbook-x1-neo-series-celeron-quad-cor...        18990   \n",
       "\n",
       "                                               name  \\\n",
       "317  Infinix INBook X1 Neo Series Celeron Quad Core   \n",
       "188                   ASUS (2022) Celeron Dual Core   \n",
       "288              Lenovo IdeaPad 1 Celeron Dual Core   \n",
       "485      Avita SATUS ULTIMUS S111 Celeron Dual Core   \n",
       "78   Infinix INBook X1 Neo Series Celeron Quad Core   \n",
       "\n",
       "                                         configuration    brand  \n",
       "317  (8 GB/256 GB SSD/Windows 11 Home) XL22 Thin an...  Infinix  \n",
       "188        (4 GB/128 GB SSD/Windows 11 Home) BR1100CKA     ASUS  \n",
       "288  (4 GB/256 GB SSD/Windows 11 Home) 11IGL05 Thin...   Lenovo  \n",
       "485    (4 GB/128 GB SSD/Windows 11 Home) NU14A1INC43PN    Avita  \n",
       "78   (4 GB/128 GB SSD/Windows 11 Home) XL22 Thin an...  Infinix  "
      ]
     },
     "execution_count": 30,
     "metadata": {},
     "output_type": "execute_result"
    }
   ],
   "source": [
    "df.tail()"
   ]
  },
  {
   "cell_type": "code",
   "execution_count": 31,
   "id": "a580bcaa-8697-4aec-9cd2-962a0db5d01b",
   "metadata": {},
   "outputs": [],
   "source": [
    "def clean_title(title):\n",
    "    return title.split('-')[0].strip(), title.split('-')[1].strip()\n",
    "df[['name', 'configuration']] = df['title'].apply(clean_title).apply(pd.Series)"
   ]
  },
  {
   "cell_type": "code",
   "execution_count": 32,
   "id": "5a212fbc-b99e-4ae0-81da-b79833bb896f",
   "metadata": {},
   "outputs": [],
   "source": [
    "def get_brand(name):\n",
    "    return name.split()[0]\n",
    "\n",
    "df['brand'] = df['name'].apply(get_brand)"
   ]
  },
  {
   "cell_type": "code",
   "execution_count": 33,
   "id": "479038ee-b89c-4233-b4a7-5f60caf42b33",
   "metadata": {},
   "outputs": [
    {
     "data": {
      "text/plain": [
       "ASUS         128\n",
       "MSI          127\n",
       "Lenovo        72\n",
       "DELL          58\n",
       "HP            57\n",
       "APPLE         28\n",
       "acer          26\n",
       "Infinix       17\n",
       "LG             4\n",
       "realme         4\n",
       "RedmiBook      2\n",
       "ALIENWARE      1\n",
       "Mi             1\n",
       "Nokia          1\n",
       "SAMSUNG        1\n",
       "Avita          1\n",
       "Name: brand, dtype: int64"
      ]
     },
     "execution_count": 33,
     "metadata": {},
     "output_type": "execute_result"
    }
   ],
   "source": [
    "df['brand'].value_counts()"
   ]
  },
  {
   "cell_type": "code",
   "execution_count": 27,
   "id": "976ac377-06d1-4c02-8f41-c451e0041847",
   "metadata": {},
   "outputs": [
    {
     "data": {
      "text/plain": [
       "<AxesSubplot: title={'center': 'Brand Dristribution'}>"
      ]
     },
     "execution_count": 27,
     "metadata": {},
     "output_type": "execute_result"
    },
    {
     "data": {
      "image/png": "[encoded data removed]",
      "text/plain": [
       "<Figure size 1080x432 with 1 Axes>"
      ]
     },
     "metadata": {
      "needs_background": "light"
     },
     "output_type": "display_data"
    }
   ],
   "source": [
    "df['brand'].value_counts().plot(kind='bar', title = 'Brand Dristribution', figsize=(15,6))"
   ]
  },
  {
   "cell_type": "code",
   "execution_count": 36,
   "id": "f7cdbce2-fac1-43af-99a8-8de25edac284",
   "metadata": {},
   "outputs": [
    {
     "data": {
      "text/plain": [
       "<AxesSubplot: title={'center': 'Price Distribution'}>"
      ]
     },
     "execution_count": 36,
     "metadata": {},
     "output_type": "execute_result"
    },
    {
     "data": {
      "image/png": "[encoded data removed]",
      "text/plain": [
       "<Figure size 1080x432 with 1 Axes>"
      ]
     },
     "metadata": {
      "needs_background": "light"
     },
     "output_type": "display_data"
    }
   ],
   "source": [
    "df['price_clean'].plot(\n",
    "    kind='line',\n",
    "    use_index=False,\n",
    "    title='Price Distribution',\n",
    "    figsize=(15,6))"
   ]
  },
  {
   "cell_type": "code",
   "execution_count": 37,
   "id": "8c8f25a4-78fc-4516-bec2-03ab450523aa",
   "metadata": {},
   "outputs": [
    {
     "data": {
      "text/plain": [
       "<AxesSubplot: >"
      ]
     },
     "execution_count": 37,
     "metadata": {},
     "output_type": "execute_result"
    },
    {
     "data": {
      "image/png": "[encoded data removed]",
      "text/plain": [
       "<Figure size 432x288 with 1 Axes>"
      ]
     },
     "metadata": {
      "needs_background": "light"
     },
     "output_type": "display_data"
    }
   ],
   "source": [
    "df['price_clean'].plot(kind='box')"
   ]
  },
  {
   "cell_type": "code",
   "execution_count": null,
   "id": "d3958cc2-f3e3-4608-84a5-539271e8ab3b",
   "metadata": {},
   "outputs": [],
   "source": []
  }
 ],
 "metadata": {
  "kernelspec": {
   "display_name": "Python 3 (ipykernel)",
   "language": "python",
   "name": "python3"
  },
  "language_info": {
   "codemirror_mode": {
    "name": "ipython",
    "version": 3
   },
   "file_extension": ".py",
   "mimetype": "text/x-python",
   "name": "python",
   "nbconvert_exporter": "python",
   "pygments_lexer": "ipython3",
   "version": "3.9.12"
  }
 },
 "nbformat": 4,
 "nbformat_minor": 5
}
