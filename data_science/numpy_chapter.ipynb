{
 "cells": [
  {
   "cell_type": "code",
   "execution_count": 27,
   "id": "07fadd80-bf6e-42c4-adb3-74e898b98403",
   "metadata": {},
   "outputs": [],
   "source": [
    "import numpy as np"
   ]
  },
  {
   "cell_type": "code",
   "execution_count": 28,
   "id": "414b8fa7-b9f3-4ae9-81ea-aa10d2622f42",
   "metadata": {},
   "outputs": [
    {
     "name": "stdout",
     "output_type": "stream",
     "text": [
      "[1 2 3 4 5]\n",
      "<class 'numpy.ndarray'>\n"
     ]
    }
   ],
   "source": [
    "# creation of numpy array\n",
    "x = np.array([1, 2, 3, 4, 5])\n",
    "print(x)\n",
    "print(type(x)) # ndarray"
   ]
  },
  {
   "cell_type": "code",
   "execution_count": 29,
   "id": "030d9d16-ad82-4fff-abb5-0b497bb9227d",
   "metadata": {},
   "outputs": [
    {
     "name": "stdout",
     "output_type": "stream",
     "text": [
      "5\n",
      "(5,)\n",
      "1\n"
     ]
    }
   ],
   "source": [
    "print(x.size) #total no of elements\n",
    "print(x.shape) # dimension wise elements\n",
    "print(x.ndim) # num of dimension"
   ]
  },
  {
   "cell_type": "code",
   "execution_count": 30,
   "id": "1dcdcb55-1a25-4776-8b36-6881b333ca27",
   "metadata": {},
   "outputs": [
    {
     "name": "stdout",
     "output_type": "stream",
     "text": [
      "[[1 2 3]\n",
      " [4 5 6]]\n",
      "6\n",
      "(2, 3)\n",
      "2\n"
     ]
    }
   ],
   "source": [
    "x2d = np.array([[1, 2, 3 ],[4, 5, 6]])\n",
    "print(x2d)\n",
    " # shape and size\n",
    "print(x2d.size) \n",
    "print(x2d.shape)\n",
    "print(x2d.ndim)"
   ]
  },
  {
   "cell_type": "code",
   "execution_count": 31,
   "id": "22bf5430-0fa6-4198-b1a5-7ff7e4413568",
   "metadata": {},
   "outputs": [
    {
     "name": "stdout",
     "output_type": "stream",
     "text": [
      "[[68 82 50 57 14]\n",
      " [ 6 77 48 69 77]\n",
      " [67 81 20 89 92]\n",
      " [78 40  1 68 77]\n",
      " [29  5 12  3 30]]\n"
     ]
    }
   ],
   "source": [
    "x25 = np.random.randint(1,100, (5,5))\n",
    "print(x25)"
   ]
  },
  {
   "cell_type": "code",
   "execution_count": 32,
   "id": "9b430234-2a1d-4926-870f-57baaef114e3",
   "metadata": {},
   "outputs": [
    {
     "name": "stdout",
     "output_type": "stream",
     "text": [
      "25 elements\n",
      "=>1D MATRIX\n",
      "1D MATRIX RESHAPED TO 2D\n",
      "[[ 1  5  9 13 17]\n",
      " [21 25 29 33 37]\n",
      " [41 45 49 53 57]\n",
      " [61 65 69 73 77]\n",
      " [81 85 89 93 97]]\n"
     ]
    }
   ],
   "source": [
    "xseq1 = np.arange(1, 101, 4)\n",
    "print(xseq1.size,\"elements\")\n",
    "print(\"=>1D MATRIX\")\n",
    "print(\"1D MATRIX RESHAPED TO 2D\")\n",
    "print(xseq1.reshape(5,5))"
   ]
  },
  {
   "cell_type": "code",
   "execution_count": 33,
   "id": "00ecdd86-74e5-4cb8-8145-5b14f18cfb7e",
   "metadata": {},
   "outputs": [
    {
     "name": "stdout",
     "output_type": "stream",
     "text": [
      "50 elements\n",
      "=>1D MATRIX\n",
      "[  1.           3.02040816   5.04081633   7.06122449   9.08163265\n",
      "  11.10204082  13.12244898  15.14285714  17.16326531  19.18367347\n",
      "  21.20408163  23.2244898   25.24489796  27.26530612  29.28571429\n",
      "  31.30612245  33.32653061  35.34693878  37.36734694  39.3877551\n",
      "  41.40816327  43.42857143  45.44897959  47.46938776  49.48979592\n",
      "  51.51020408  53.53061224  55.55102041  57.57142857  59.59183673\n",
      "  61.6122449   63.63265306  65.65306122  67.67346939  69.69387755\n",
      "  71.71428571  73.73469388  75.75510204  77.7755102   79.79591837\n",
      "  81.81632653  83.83673469  85.85714286  87.87755102  89.89795918\n",
      "  91.91836735  93.93877551  95.95918367  97.97959184 100.        ]\n",
      "=>1D MATRIX RESHAPED TO 2D\n",
      "[[  1.           3.02040816   5.04081633   7.06122449   9.08163265]\n",
      " [ 11.10204082  13.12244898  15.14285714  17.16326531  19.18367347]\n",
      " [ 21.20408163  23.2244898   25.24489796  27.26530612  29.28571429]\n",
      " [ 31.30612245  33.32653061  35.34693878  37.36734694  39.3877551 ]\n",
      " [ 41.40816327  43.42857143  45.44897959  47.46938776  49.48979592]\n",
      " [ 51.51020408  53.53061224  55.55102041  57.57142857  59.59183673]\n",
      " [ 61.6122449   63.63265306  65.65306122  67.67346939  69.69387755]\n",
      " [ 71.71428571  73.73469388  75.75510204  77.7755102   79.79591837]\n",
      " [ 81.81632653  83.83673469  85.85714286  87.87755102  89.89795918]\n",
      " [ 91.91836735  93.93877551  95.95918367  97.97959184 100.        ]]\n",
      "=>1D MATRIX RESHAPED TO 3D\n",
      "[[[  1.           3.02040816]\n",
      "  [  5.04081633   7.06122449]\n",
      "  [  9.08163265  11.10204082]\n",
      "  [ 13.12244898  15.14285714]\n",
      "  [ 17.16326531  19.18367347]]\n",
      "\n",
      " [[ 21.20408163  23.2244898 ]\n",
      "  [ 25.24489796  27.26530612]\n",
      "  [ 29.28571429  31.30612245]\n",
      "  [ 33.32653061  35.34693878]\n",
      "  [ 37.36734694  39.3877551 ]]\n",
      "\n",
      " [[ 41.40816327  43.42857143]\n",
      "  [ 45.44897959  47.46938776]\n",
      "  [ 49.48979592  51.51020408]\n",
      "  [ 53.53061224  55.55102041]\n",
      "  [ 57.57142857  59.59183673]]\n",
      "\n",
      " [[ 61.6122449   63.63265306]\n",
      "  [ 65.65306122  67.67346939]\n",
      "  [ 69.69387755  71.71428571]\n",
      "  [ 73.73469388  75.75510204]\n",
      "  [ 77.7755102   79.79591837]]\n",
      "\n",
      " [[ 81.81632653  83.83673469]\n",
      "  [ 85.85714286  87.87755102]\n",
      "  [ 89.89795918  91.91836735]\n",
      "  [ 93.93877551  95.95918367]\n",
      "  [ 97.97959184 100.        ]]]\n"
     ]
    }
   ],
   "source": [
    "xseq2 = np.linspace(1, 100, 50)\n",
    "print(xseq2.size,\"elements\")\n",
    "print(\"=>1D MATRIX\")\n",
    "print(xseq2)\n",
    "print(\"=>1D MATRIX RESHAPED TO 2D\")\n",
    "print(xseq2.reshape(10,5))\n",
    "print(\"=>1D MATRIX RESHAPED TO 3D\")\n",
    "print(xseq2.reshape(5,5,2))\n"
   ]
  },
  {
   "cell_type": "markdown",
   "id": "ba0eef7b-9486-476a-bd1f-01f45daaac21",
   "metadata": {},
   "source": [
    "\n",
    "print(xseq2d)"
   ]
  },
  {
   "cell_type": "code",
   "execution_count": 34,
   "id": "42a6aac2-88ea-4fff-942c-65f623fcd3c5",
   "metadata": {},
   "outputs": [
    {
     "data": {
      "text/plain": [
       "array([[1, 1, 1, 1, 1],\n",
       "       [1, 1, 1, 1, 1],\n",
       "       [1, 1, 1, 1, 1],\n",
       "       [1, 1, 1, 1, 1],\n",
       "       [1, 1, 1, 1, 1]])"
      ]
     },
     "execution_count": 34,
     "metadata": {},
     "output_type": "execute_result"
    }
   ],
   "source": [
    "np.ones((5,5),dtype='int')"
   ]
  },
  {
   "cell_type": "markdown",
   "id": "fe43b7f6-876a-4593-940a-946bc4b6708c",
   "metadata": {},
   "source": [
    "- indexing and slicing\n",
    "\n",
    "- boolean filter\n",
    "- maths and starts\n",
    "- methods"
   ]
  },
  {
   "cell_type": "code",
   "execution_count": 35,
   "id": "75bde641-741f-4da0-bae2-15952e8e0e71",
   "metadata": {},
   "outputs": [
    {
     "data": {
      "text/plain": [
       "array([[68, 82, 50, 57, 14],\n",
       "       [ 6, 77, 48, 69, 77],\n",
       "       [67, 81, 20, 89, 92],\n",
       "       [78, 40,  1, 68, 77],\n",
       "       [29,  5, 12,  3, 30]])"
      ]
     },
     "execution_count": 35,
     "metadata": {},
     "output_type": "execute_result"
    }
   ],
   "source": [
    "x25"
   ]
  },
  {
   "cell_type": "code",
   "execution_count": 36,
   "id": "fda5432a-182a-4d5b-b02e-60325228ac10",
   "metadata": {},
   "outputs": [
    {
     "name": "stdout",
     "output_type": "stream",
     "text": [
      "[68 82 50 57 14]\n"
     ]
    }
   ],
   "source": [
    "# first row\n",
    "print(x25[0])"
   ]
  },
  {
   "cell_type": "code",
   "execution_count": 37,
   "id": "0e80ffeb-4f4b-41f0-917e-9c3d8ffc8ad6",
   "metadata": {},
   "outputs": [
    {
     "name": "stdout",
     "output_type": "stream",
     "text": [
      "[29  5 12  3 30]\n"
     ]
    }
   ],
   "source": [
    "# last row\n",
    "print(x25[-1])"
   ]
  },
  {
   "cell_type": "code",
   "execution_count": 38,
   "id": "f396d703-7f30-429b-bfdb-7a38122d3e98",
   "metadata": {},
   "outputs": [
    {
     "name": "stdout",
     "output_type": "stream",
     "text": [
      "82\n"
     ]
    }
   ],
   "source": [
    "# single element\n",
    "print(x25[0,1]) # some as print(x25[0][1])"
   ]
  },
  {
   "cell_type": "code",
   "execution_count": 39,
   "id": "1cb696a7-cbb7-4fca-be10-1563ecd009c7",
   "metadata": {},
   "outputs": [
    {
     "name": "stdout",
     "output_type": "stream",
     "text": [
      "[68  6 67 78 29]\n",
      "[82 77 81 40  5]\n",
      "[14 77 92 77 30]\n"
     ]
    }
   ],
   "source": [
    "# 1st columns\n",
    "print(x25[:,0])\n",
    "\n",
    "# sec columns\n",
    "print(x25[:,1])\n",
    "\n",
    "# third columns\n",
    "print(x25[:,-1])\n"
   ]
  },
  {
   "cell_type": "code",
   "execution_count": 40,
   "id": "95932a0c-be94-4701-82ba-3e275f2eabb9",
   "metadata": {},
   "outputs": [
    {
     "name": "stdout",
     "output_type": "stream",
     "text": [
      "[[68 82]\n",
      " [ 6 77]\n",
      " [67 81]\n",
      " [78 40]\n",
      " [29  5]]\n"
     ]
    }
   ],
   "source": [
    "# col 0 and 1 idxs\n",
    "print(x25[:, [0,1]])"
   ]
  },
  {
   "cell_type": "code",
   "execution_count": 41,
   "id": "eba1acba-03a6-4699-8911-878b8e54fdb2",
   "metadata": {},
   "outputs": [
    {
     "name": "stdout",
     "output_type": "stream",
     "text": [
      "[[68 82 50]\n",
      " [ 6 77 48]\n",
      " [67 81 20]\n",
      " [78 40  1]\n",
      " [29  5 12]]\n",
      "[[68 82 50]\n",
      " [ 6 77 48]\n",
      " [67 81 20]\n",
      " [78 40  1]\n",
      " [29  5 12]]\n"
     ]
    }
   ],
   "source": [
    "# column o , 1 , 2 idix\n",
    "print(x25[:,[0,1,2]])\n",
    "# same thing as above\n",
    "print(x25[:, :3])\n"
   ]
  },
  {
   "cell_type": "code",
   "execution_count": 42,
   "id": "8a81dba6-193f-442a-9b2a-257abaab9bbe",
   "metadata": {},
   "outputs": [
    {
     "name": "stdout",
     "output_type": "stream",
     "text": [
      "14\n",
      "6\n",
      "20\n",
      "1\n",
      "5\n",
      "12\n",
      "3\n"
     ]
    }
   ],
   "source": [
    "# filtering data without numpy bollean filter (bad idea)\n",
    "for i in x25:\n",
    "    for j in i:\n",
    "        if j <= 20:\n",
    "            print(j)"
   ]
  },
  {
   "cell_type": "code",
   "execution_count": 43,
   "id": "859988ba-3b61-4337-a60b-27463ffbf39a",
   "metadata": {},
   "outputs": [
    {
     "data": {
      "text/plain": [
       "array([[False, False, False, False,  True],\n",
       "       [ True, False, False, False, False],\n",
       "       [False, False,  True, False, False],\n",
       "       [False, False,  True, False, False],\n",
       "       [False,  True,  True,  True, False]])"
      ]
     },
     "execution_count": 43,
     "metadata": {},
     "output_type": "execute_result"
    }
   ],
   "source": [
    "x25 <= 20 # boolean filter"
   ]
  },
  {
   "cell_type": "code",
   "execution_count": 44,
   "id": "28fa2e91-5c60-4564-9c89-f7f507d79ea9",
   "metadata": {},
   "outputs": [
    {
     "data": {
      "text/plain": [
       "array([14,  6, 20,  1,  5, 12,  3])"
      ]
     },
     "execution_count": 44,
     "metadata": {},
     "output_type": "execute_result"
    }
   ],
   "source": [
    "x25[x25 <= 20]"
   ]
  },
  {
   "cell_type": "code",
   "execution_count": 45,
   "id": "85bbf0ee-5cb2-4351-aeb7-1badd9f8dce3",
   "metadata": {},
   "outputs": [
    {
     "data": {
      "text/plain": [
       "array([68, 82, 57, 77, 69, 77, 67, 81, 89, 92, 78, 68, 77])"
      ]
     },
     "execution_count": 45,
     "metadata": {},
     "output_type": "execute_result"
    }
   ],
   "source": [
    "x25[x25 > 50]"
   ]
  },
  {
   "cell_type": "code",
   "execution_count": 46,
   "id": "cd0be2d6-4dde-4a3d-8d42-8b76e34dade7",
   "metadata": {},
   "outputs": [
    {
     "data": {
      "text/plain": [
       "array([[ True, False,  True,  True, False],\n",
       "       [False, False,  True,  True, False],\n",
       "       [ True, False, False, False, False],\n",
       "       [False,  True, False,  True, False],\n",
       "       [ True, False, False, False,  True]])"
      ]
     },
     "execution_count": 46,
     "metadata": {},
     "output_type": "execute_result"
    }
   ],
   "source": [
    "(x25 > 20) & (x25 < 70)"
   ]
  },
  {
   "cell_type": "code",
   "execution_count": 47,
   "id": "1e9b0529-1588-49f9-932e-cd232f2e4294",
   "metadata": {},
   "outputs": [
    {
     "data": {
      "text/plain": [
       "array([68, 50, 57, 48, 69, 67, 40, 68, 29, 30])"
      ]
     },
     "execution_count": 47,
     "metadata": {},
     "output_type": "execute_result"
    }
   ],
   "source": [
    "x25[(x25 > 20) & (x25 < 70)]"
   ]
  },
  {
   "cell_type": "code",
   "execution_count": 53,
   "id": "567d43d1-5d08-4077-8386-2f411621df89",
   "metadata": {},
   "outputs": [
    {
     "data": {
      "text/plain": [
       "array([68, 82, 50, 57, 14,  6, 77, 48, 69, 77, 67, 81, 20, 89, 92, 78, 40,\n",
       "        1, 68, 77, 29,  5, 12,  3, 30,  1,  2,  3,  4,  5,  6])"
      ]
     },
     "execution_count": 53,
     "metadata": {},
     "output_type": "execute_result"
    }
   ],
   "source": [
    "np.append(x25, [1,2,3,4,5,6]) # not as expected, but work "
   ]
  },
  {
   "cell_type": "code",
   "execution_count": 48,
   "id": "e274e848-5261-4ed0-8ffa-4faeac7c98e8",
   "metadata": {},
   "outputs": [
    {
     "data": {
      "text/plain": [
       "array([[68, 82, 50, 57, 14],\n",
       "       [ 6, 77, 48, 69, 77],\n",
       "       [67, 81, 20, 89, 92],\n",
       "       [78, 40,  1, 68, 77],\n",
       "       [29,  5, 12,  3, 30],\n",
       "       [ 1,  2,  3,  4,  5]])"
      ]
     },
     "execution_count": 48,
     "metadata": {},
     "output_type": "execute_result"
    }
   ],
   "source": [
    "np.append(x25, np.array([[1, 2, 3, 4, 5, ]]),axis=0) # not as expected , but work"
   ]
  },
  {
   "cell_type": "code",
   "execution_count": 49,
   "id": "8f80304b-0c34-4706-82ce-5128a3b561b0",
   "metadata": {},
   "outputs": [
    {
     "data": {
      "text/plain": [
       "array([[68, 82, 50, 57, 14],\n",
       "       [ 6, 77, 48, 69, 77],\n",
       "       [67, 81, 20, 89, 92],\n",
       "       [78, 40,  1, 68, 77],\n",
       "       [29,  5, 12,  3, 30]])"
      ]
     },
     "execution_count": 49,
     "metadata": {},
     "output_type": "execute_result"
    }
   ],
   "source": [
    "x25"
   ]
  },
  {
   "cell_type": "code",
   "execution_count": 55,
   "id": "c792f1c6-365e-4eac-b361-b1fe6d3012e2",
   "metadata": {},
   "outputs": [],
   "source": [
    "a = np.random.randint(1,100,(3,2))\n",
    "b = np.random.randint(1,100,(2,3))"
   ]
  },
  {
   "cell_type": "code",
   "execution_count": 56,
   "id": "f4e97fa3-0bd4-4e82-bbec-f29fc8dbde68",
   "metadata": {},
   "outputs": [
    {
     "name": "stdout",
     "output_type": "stream",
     "text": [
      "(3, 2)\n",
      "(2, 3)\n"
     ]
    }
   ],
   "source": [
    "print(a.shape)\n",
    "print(b.shape)"
   ]
  },
  {
   "cell_type": "code",
   "execution_count": 57,
   "id": "f723c918-9906-4b31-b869-0138eb36ecf8",
   "metadata": {},
   "outputs": [
    {
     "data": {
      "text/plain": [
       "array([[16, 70, 57],\n",
       "       [80, 84, 80]])"
      ]
     },
     "execution_count": 57,
     "metadata": {},
     "output_type": "execute_result"
    }
   ],
   "source": [
    "a.T # same as a.transpose()"
   ]
  },
  {
   "cell_type": "code",
   "execution_count": 58,
   "id": "73d09799-0d51-4d52-8c07-508592a19641",
   "metadata": {},
   "outputs": [
    {
     "name": "stdout",
     "output_type": "stream",
     "text": [
      "[[16 80 65  7]\n",
      " [70 84 70 19]\n",
      " [57 80 85 17]]\n"
     ]
    }
   ],
   "source": [
    "print(np.hstack((a,b.T)))"
   ]
  },
  {
   "cell_type": "code",
   "execution_count": 59,
   "id": "f6f2df91-a71f-4b1d-9fd0-4646062e2a97",
   "metadata": {},
   "outputs": [
    {
     "name": "stdout",
     "output_type": "stream",
     "text": [
      "[[16 70 57 65 70 85]\n",
      " [80 84 80  7 19 17]]\n"
     ]
    }
   ],
   "source": [
    "print(np.hstack((a.T,b)))"
   ]
  },
  {
   "cell_type": "code",
   "execution_count": 60,
   "id": "508fedae-8279-4b3c-90b6-94dc0c0b1974",
   "metadata": {},
   "outputs": [
    {
     "name": "stdout",
     "output_type": "stream",
     "text": [
      "[[8 8 2]\n",
      " [1 7 8]\n",
      " [7 4 5]]\n",
      "\n",
      "[[7 4 4]\n",
      " [4 7 2]\n",
      " [2 3 5]]\n"
     ]
    }
   ],
   "source": [
    "x = np.random.randint(1, 10, (3,3))\n",
    "y = np.random.randint(1, 10, (3,3))\n",
    "print(x)\n",
    "print()\n",
    "print(y)"
   ]
  },
  {
   "cell_type": "code",
   "execution_count": 67,
   "id": "7f3fdeac-2154-4d63-aec6-e0aee925f2f9",
   "metadata": {},
   "outputs": [
    {
     "name": "stdout",
     "output_type": "stream",
     "text": [
      "add\n",
      "[[15 12  6]\n",
      " [ 5 14 10]\n",
      " [ 9  7 10]]\n",
      "sub\n",
      "[[ 1  4 -2]\n",
      " [-3  0  6]\n",
      " [ 5  1  0]]\n",
      "div\n",
      "[[1.14285714 2.         0.5       ]\n",
      " [0.25       1.         4.        ]\n",
      " [3.5        1.33333333 1.        ]]\n",
      "element wise multiplication \n",
      "[[56 32  8]\n",
      " [ 4 49 16]\n",
      " [14 12 25]]\n",
      "element wise mod\n",
      "[[1 0 2]\n",
      " [1 0 0]\n",
      " [1 1 0]]\n"
     ]
    }
   ],
   "source": [
    "print('add') \n",
    "print(x+y) # addition\n",
    "print('sub') \n",
    "print(x-y) # substraction\n",
    "print('div') \n",
    "print(x/y) # divide\n",
    "print('element wise multiplication ') \n",
    "print(x*y) # element wise multiplication\n",
    "print('element wise mod')\n",
    "print(x%y)"
   ]
  },
  {
   "cell_type": "code",
   "execution_count": 68,
   "id": "0aa58023-f67e-404b-a557-9d2c6ecf035a",
   "metadata": {},
   "outputs": [
    {
     "name": "stdout",
     "output_type": "stream",
     "text": [
      "[[92 94 58]\n",
      " [51 77 58]\n",
      " [75 71 61]]\n"
     ]
    }
   ],
   "source": [
    "print(x.dot(y)) # mat multiplication"
   ]
  },
  {
   "cell_type": "code",
   "execution_count": 70,
   "id": "1d771cf8-e0a5-4611-82c9-f03d4f36c83a",
   "metadata": {},
   "outputs": [
    {
     "data": {
      "text/plain": [
       "50"
      ]
     },
     "execution_count": 70,
     "metadata": {},
     "output_type": "execute_result"
    }
   ],
   "source": [
    "x.sum()"
   ]
  },
  {
   "cell_type": "code",
   "execution_count": 62,
   "id": "8c4d5bd8-9406-40d5-982d-86de4b071f02",
   "metadata": {},
   "outputs": [
    {
     "data": {
      "text/plain": [
       "array([16, 19, 15])"
      ]
     },
     "execution_count": 62,
     "metadata": {},
     "output_type": "execute_result"
    }
   ],
   "source": [
    "x.sum(axis=0) # row wise sum"
   ]
  },
  {
   "cell_type": "code",
   "execution_count": 63,
   "id": "7646235d-f3a3-4fcb-97d9-b397187e3929",
   "metadata": {},
   "outputs": [
    {
     "data": {
      "text/plain": [
       "array([18, 16, 16])"
      ]
     },
     "execution_count": 63,
     "metadata": {},
     "output_type": "execute_result"
    }
   ],
   "source": [
    "x.sum(axis=1) "
   ]
  },
  {
   "cell_type": "code",
   "execution_count": 64,
   "id": "5d5f4735-149c-42c5-8180-b13ac470fa00",
   "metadata": {},
   "outputs": [
    {
     "name": "stdout",
     "output_type": "stream",
     "text": [
      "5.555555555555555\n",
      "[5.33333333 6.33333333 5.        ]\n",
      "[6.         5.33333333 5.33333333]\n"
     ]
    }
   ],
   "source": [
    "print(x.mean()) # all\n",
    "print(x.mean(axis=0)) # row\n",
    "print(x.mean(axis=1)) # col"
   ]
  },
  {
   "cell_type": "code",
   "execution_count": 65,
   "id": "2ee92782-e53d-433e-86c3-ea0bb91f51ab",
   "metadata": {},
   "outputs": [
    {
     "name": "stdout",
     "output_type": "stream",
     "text": [
      "8\n",
      "1\n",
      "0\n",
      "3\n",
      "7\n"
     ]
    }
   ],
   "source": [
    "print(x.max()) # max val\n",
    "print(x.min()) # min val\n",
    "print(x.argmax())# index of max val\n",
    "print(x.argmin()) # index of min val\n",
    "print(x.flatten()[4])# ac essing are called using np acialble through the variable"
   ]
  },
  {
   "cell_type": "code",
   "execution_count": 66,
   "id": "7fba0125-8275-42e6-bc6a-9ef35e1a8cff",
   "metadata": {},
   "outputs": [
    {
     "data": {
      "text/plain": [
       "7.0"
      ]
     },
     "execution_count": 66,
     "metadata": {},
     "output_type": "execute_result"
    }
   ],
   "source": [
    "np.median(x)"
   ]
  },
  {
   "cell_type": "code",
   "execution_count": null,
   "id": "04db254b-85f0-4210-8659-4eb0db1b5cd8",
   "metadata": {},
   "outputs": [],
   "source": []
  }
 ],
 "metadata": {
  "kernelspec": {
   "display_name": "Python 3 (ipykernel)",
   "language": "python",
   "name": "python3"
  },
  "language_info": {
   "codemirror_mode": {
    "name": "ipython",
    "version": 3
   },
   "file_extension": ".py",
   "mimetype": "text/x-python",
   "name": "python",
   "nbconvert_exporter": "python",
   "pygments_lexer": "ipython3",
   "version": "3.9.12"
  }
 },
 "nbformat": 4,
 "nbformat_minor": 5
}
