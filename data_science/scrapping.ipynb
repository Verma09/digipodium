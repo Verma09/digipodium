{
 "cells": [
  {
   "cell_type": "code",
   "execution_count": 4,
   "id": "4d5566f1-27da-404d-8522-d2b2a7f33029",
   "metadata": {},
   "outputs": [],
   "source": [
    "import requests\n",
    "from bs4 import BeautifulSoup\n",
    "import csv\n",
    "import pandas as pd"
   ]
  },
  {
   "cell_type": "code",
   "execution_count": 9,
   "id": "6512d989-df9e-40f1-98e4-38625478da0c",
   "metadata": {},
   "outputs": [],
   "source": [
    "# produt=[]\n",
    "# price=[]\n",
    "# ratings=[]\n",
    "# def get_soup(url):\n",
    "#     page = Request.get(url)\n",
    "#     return BeautifulSoup(page.text)\n",
    "# soup = get_soup('https://www.ndtv.com/latest')"
   ]
  },
  {
   "cell_type": "code",
   "execution_count": null,
   "id": "9a3458eb-25d7-4371-a1f3-d183036bf733",
   "metadata": {},
   "outputs": [],
   "source": []
  }
 ],
 "metadata": {
  "kernelspec": {
   "display_name": "Python 3 (ipykernel)",
   "language": "python",
   "name": "python3"
  },
  "language_info": {
   "codemirror_mode": {
    "name": "ipython",
    "version": 3
   },
   "file_extension": ".py",
   "mimetype": "text/x-python",
   "name": "python",
   "nbconvert_exporter": "python",
   "pygments_lexer": "ipython3",
   "version": "3.9.13"
  }
 },
 "nbformat": 4,
 "nbformat_minor": 5
}
