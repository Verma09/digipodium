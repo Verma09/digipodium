{
 "cells": [
  {
   "cell_type": "code",
   "execution_count": 6,
   "id": "671ff50b-a466-403b-85ee-15b30791b4bc",
   "metadata": {},
   "outputs": [],
   "source": [
    "import requests\n",
    "from bs4 import BeautifulSoup"
   ]
  },
  {
   "cell_type": "code",
   "execution_count": 7,
   "id": "fb6eabaa-3ee8-4ae1-821f-e53cd11e19db",
   "metadata": {},
   "outputs": [],
   "source": [
    "def get_soup(url):\n",
    "    page = requests.get(url)\n",
    "    return BeautifulSoup(page.text)"
   ]
  },
  {
   "cell_type": "code",
   "execution_count": 8,
   "id": "98fd7af9-548a-4809-b074-f4e74f9994c9",
   "metadata": {},
   "outputs": [],
   "source": [
    "soup = get_soup('https://www.ndtv.com/latest')"
   ]
  },
  {
   "cell_type": "code",
   "execution_count": 9,
   "id": "7ab8d74a-0af1-4398-add1-a38292ecd84b",
   "metadata": {},
   "outputs": [],
   "source": [
    "target = soup.find('div', attrs={'class':'lisingNews'})"
   ]
  },
  {
   "cell_type": "code",
   "execution_count": 10,
   "id": "304d9de5-2ddf-4368-9ef9-b590129d6d19",
   "metadata": {},
   "outputs": [
    {
     "name": "stdout",
     "output_type": "stream",
     "text": [
      "17\n"
     ]
    }
   ],
   "source": [
    "newslist = target.find_all('div', attrs={'class':'news_Itm'})\n",
    "print(len(newslist))"
   ]
  },
  {
   "cell_type": "code",
   "execution_count": 11,
   "id": "7a0277cd-ddb2-4882-b4de-728655f5987e",
   "metadata": {},
   "outputs": [
    {
     "name": "stdout",
     "output_type": "stream",
     "text": [
      "Reliance Acquires Shubhalakshmi Polyesters For Rs 1,592 Crore\n",
      "IIT Bombay Announces JEE Advanced 2022 Result\n",
      "Forex Reserves Dip By $7.94 Billion; Hit The Lowest Level In 23 Months\n",
      "US Open: \"No Regrets\" As Ons Jabeur Targets World Top Spot\n",
      "India Has 100 Unicorns With A Value At $250 Billion: Nirmala Sitharaman\n",
      "Australia vs New Zealand, 3rd ODI Live Score Updates: New Zealand Opt To Bowl In Aaron Finch's Final ODI\n",
      "Real Madrid vs Mallorca, La Liga: When And Where To Watch Live Telecast, Live Streaming\n",
      "JEE Advanced 2022 Result Today; Know Last Year’s Cut-Off\n",
      "Carlos Alcaraz vs Casper Ruud, US Open Men's Singles Final: When And Where To Watch Live Telecast, Live Streaming\n",
      "Mastermind Of China-Linked Shell Companies Arrested While Fleeing India\n",
      "CUET UG 2022 Re-Test Today; Important Exam Day Guidelines To Follow\n",
      "Watch: Sachin Tendulkar Turns Back Clock As He Plays Lofted Shot During Road Safety World Series\n",
      "Stung By Exits, Congress Tweaks Internal Poll Rules After 5 MPs' Letter\n",
      "National Flags Fly At Half-Mast As India Mourns Queen Elizabeth II's Death\n",
      "\"Rishabh And DK Need To Play\": Cheteshwar Pujara On India's Team For T20 World Cup\n"
     ]
    }
   ],
   "source": [
    "data = []\n",
    "for news in newslist:\n",
    "    title = news.find('h2', attrs={'class':'newsHdng'})\n",
    "    if title:\n",
    "        print(title.text)\n",
    "        details = news.find('span', attrs={'class':'posted-by'})\n",
    "        content = news.find('p', attrs={'class':'newsCount'})\n",
    "        if title and details and content:\n",
    "          #   print('-->HEADLINES', '--'*40)\n",
    "          #  print(title.text)\n",
    "          #  print(content.text.strip())\n",
    "          #  print(details.text.strip())\n",
    "            \n",
    "            data.append({\n",
    "                'title':title.text.strip(),\n",
    "                'details': details.text.strip(),\n",
    "                'content':content.text.strip()\n",
    "            })\n",
    "    "
   ]
  },
  {
   "cell_type": "code",
   "execution_count": 12,
   "id": "8050dfe9-5736-458d-a445-0ff77d2d5ce7",
   "metadata": {},
   "outputs": [],
   "source": [
    "import pandas as pd # pip install pandas"
   ]
  },
  {
   "cell_type": "code",
   "execution_count": 13,
   "id": "e7157951-1097-4820-941b-393de1d73520",
   "metadata": {},
   "outputs": [],
   "source": [
    "pd.DataFrame(data).to_csv('headlines.csv')"
   ]
  },
  {
   "cell_type": "code",
   "execution_count": null,
   "id": "8faf5470-1369-4eb1-9385-5f8fd4fd382b",
   "metadata": {},
   "outputs": [],
   "source": []
  }
 ],
 "metadata": {
  "kernelspec": {
   "display_name": "Python 3 (ipykernel)",
   "language": "python",
   "name": "python3"
  },
  "language_info": {
   "codemirror_mode": {
    "name": "ipython",
    "version": 3
   },
   "file_extension": ".py",
   "mimetype": "text/x-python",
   "name": "python",
   "nbconvert_exporter": "python",
   "pygments_lexer": "ipython3",
   "version": "3.9.12"
  }
 },
 "nbformat": 4,
 "nbformat_minor": 5
}
