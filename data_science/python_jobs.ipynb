{
 "cells": [
  {
   "cell_type": "code",
   "execution_count": 2,
   "id": "64362b2d-e073-493b-b90b-3003074e7c45",
   "metadata": {},
   "outputs": [],
   "source": [
    "import requests\n",
    "from bs4 import BeautifulSoup"
   ]
  },
  {
   "cell_type": "code",
   "execution_count": 3,
   "id": "873682de-9fb5-4a60-90f1-9a0801d4f6e5",
   "metadata": {},
   "outputs": [],
   "source": [
    "def get_soup(url):\n",
    "    page = requests.get(url)\n",
    "    return BeautifulSoup(page.text)"
   ]
  },
  {
   "cell_type": "code",
   "execution_count": 4,
   "id": "8dcef639-ff3a-4998-9993-cfb2e7ae4bb5",
   "metadata": {},
   "outputs": [],
   "source": [
    "soup = get_soup('https://www.python.org/jobs/')"
   ]
  },
  {
   "cell_type": "code",
   "execution_count": 5,
   "id": "12e9d6fe-59ee-47f1-9ad4-9df750cc80a2",
   "metadata": {},
   "outputs": [],
   "source": [
    "target = soup.find ('ol',attrs = {'class' : 'list-recent-jobs list-row-container menu'} )"
   ]
  },
  {
   "cell_type": "code",
   "execution_count": 6,
   "id": "414062f1-d147-4236-a888-f52d8472c51d",
   "metadata": {},
   "outputs": [
    {
     "name": "stdout",
     "output_type": "stream",
     "text": [
      "25\n"
     ]
    }
   ],
   "source": [
    "list = target.find_all('li')\n",
    "print(len(list))"
   ]
  },
  {
   "cell_type": "code",
   "execution_count": 7,
   "id": "ec248c7f-298b-408b-b4fc-732eaa558ab6",
   "metadata": {},
   "outputs": [
    {
     "name": "stdout",
     "output_type": "stream",
     "text": [
      "Developer / Engineer\n"
     ]
    }
   ],
   "source": [
    "company_category = target.find('span', attrs= {'listing-company-category'})\n",
    "print(company_category.text.strip())"
   ]
  },
  {
   "cell_type": "code",
   "execution_count": 8,
   "id": "32546683-481f-4e30-8413-c81321521f46",
   "metadata": {},
   "outputs": [
    {
     "name": "stdout",
     "output_type": "stream",
     "text": [
      "New\n",
      "Staff Python Backend Engineer\n",
      "\t\t    Reef Technologies\n",
      "New\n",
      "Python Software Engineer\n",
      "\t\t    Hypothesisbase\n",
      "New\n",
      "Senior Data Scientist\n",
      "\t\t    Forta\n",
      "New\n",
      "Integrations Developer – Python (m/f/d)\n",
      "\t\t    Convex Energy GmbH\n",
      "New\n",
      "Senior Software Engineer\n",
      "\t\t    Budgie Health\n",
      "New\n",
      "Research Software Engineer\n",
      "\t\t    University of Chicago\n",
      "New\n",
      "Senior and Semi Senior Developers - Argentina Only\n",
      "\t\t    Wuru\n",
      "New\n",
      "Web Developer\n",
      "\t\t    Favoptic\n",
      "Senior Software Engineer\n",
      "\t\t    Plantbid\n",
      "Director of Engineering\n",
      "\t\t    Plantbid\n",
      "Python Backend Developer (3 Month Initial Services Contract)\n",
      "\t\t    Skoon Energy\n",
      "Data Scientist (f/m/d) - Data Analytics\n",
      "\t\t    United Internet\n",
      "Senior Full-Stack Software Engineer\n",
      "\t\t    Reckon Digital\n",
      "Lead Software Engineer (Python)\n",
      "\t\t    hashtrust\n",
      "Back-End / Data Engineer\n",
      "\t\t    Publisher Discovery\n",
      "Software Engineer\n",
      "\t\t    Qudo\n",
      "Software Engineer - MAAS\n",
      "\t\t    Canonical\n",
      "Sr. Software Engineer or Sr. Staff Software Engineer\n",
      "\t\t    WP Engine\n",
      "Remote Senior Python/AWS Engineer - Up to $190K\n",
      "\t\t    Not Disclosed\n",
      "Python Developer for Ambitious Startup\n",
      "\t\t    Soundsnap, Beatopia\n",
      "Sales Edge Engineer\n",
      "\t\t    Crossbeam\n",
      "Python and C++ Engineer for Boulder-Based Consulting Firm- Up to $190K\n",
      "\t\t    Not Disclosed\n",
      "Software Engineer (Python, Docker, CI/CD)\n",
      "\t\t    Vulnerability Research Labs, LLC\n",
      "Python Software Engineer\n",
      "\t\t    CV Screen Ltd\n",
      "Software Engineer - Integrations\n",
      "\t\t    Splunk\n"
     ]
    }
   ],
   "source": [
    "py_job = []\n",
    "for item in list:\n",
    "    job_type= item.find('span',attrs = {'listing-company-name'})\n",
    "    if job_type:\n",
    "        print(job_type.text.strip())\n",
    "        py_job.append({\n",
    "            'job_type':job_type.text.strip()\n",
    "        })"
   ]
  },
  {
   "cell_type": "code",
   "execution_count": null,
   "id": "96feb4d5-a81d-4678-ae25-bfa077d28d62",
   "metadata": {},
   "outputs": [],
   "source": []
  }
 ],
 "metadata": {
  "kernelspec": {
   "display_name": "Python 3 (ipykernel)",
   "language": "python",
   "name": "python3"
  },
  "language_info": {
   "codemirror_mode": {
    "name": "ipython",
    "version": 3
   },
   "file_extension": ".py",
   "mimetype": "text/x-python",
   "name": "python",
   "nbconvert_exporter": "python",
   "pygments_lexer": "ipython3",
   "version": "3.9.13"
  }
 },
 "nbformat": 4,
 "nbformat_minor": 5
}
