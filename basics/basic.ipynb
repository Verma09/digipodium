{
 "cells": [
  {
   "cell_type": "code",
   "execution_count": 5,
   "id": "bf14b44d-729b-4e9b-a60e-870168fbac76",
   "metadata": {},
   "outputs": [
    {
     "name": "stdout",
     "output_type": "stream",
     "text": [
      "\n"
     ]
    }
   ],
   "source": [
    "print ()"
   ]
  },
  {
   "cell_type": "code",
   "execution_count": 6,
   "id": "c37490ea-7b01-4b84-9425-1ee07dbea7f7",
   "metadata": {},
   "outputs": [
    {
     "name": "stdout",
     "output_type": "stream",
     "text": [
      "Bruce Campbell\n"
     ]
    }
   ],
   "source": [
    "print(\"Bruce Campbell\") "
   ]
  },
  {
   "cell_type": "markdown",
   "id": "ce74160e-337c-45a3-bd80-773ee70b0c6d",
   "metadata": {},
   "source": [
    "raw output are only for devlopers understanding"
   ]
  },
  {
   "cell_type": "code",
   "execution_count": 7,
   "id": "8f033ab4-1f62-4d10-b8aa-345e080803be",
   "metadata": {},
   "outputs": [
    {
     "data": {
      "text/plain": [
       "'Welcome to Kingdom'"
      ]
     },
     "execution_count": 7,
     "metadata": {},
     "output_type": "execute_result"
    }
   ],
   "source": [
    " \"Welcome to Kingdom\""
   ]
  },
  {
   "cell_type": "code",
   "execution_count": 8,
   "id": "ffdfc7c6-686c-4143-bef9-918f7c648b1e",
   "metadata": {},
   "outputs": [
    {
     "data": {
      "text/plain": [
       "3441"
      ]
     },
     "execution_count": 8,
     "metadata": {},
     "output_type": "execute_result"
    }
   ],
   "source": [
    "230 + 3245 -34"
   ]
  },
  {
   "cell_type": "code",
   "execution_count": 9,
   "id": "9e76ec8d-15b4-4349-98d9-6c3c714a030b",
   "metadata": {},
   "outputs": [
    {
     "name": "stdout",
     "output_type": "stream",
     "text": [
      "This is an Apple and i don't like Apple\n"
     ]
    }
   ],
   "source": [
    "print(\"This is an Apple and i don't like Apple\")"
   ]
  },
  {
   "cell_type": "code",
   "execution_count": 10,
   "id": "4f5d9b16-dcb7-4d2d-8705-f4a3b86555b1",
   "metadata": {},
   "outputs": [
    {
     "name": "stdout",
     "output_type": "stream",
     "text": [
      "1 2 3 4 5 6 7 8\n"
     ]
    }
   ],
   "source": [
    "print(1,2,3,4,5,6,7,8)"
   ]
  },
  {
   "cell_type": "code",
   "execution_count": 11,
   "id": "ca6f4ffa-9c10-4090-a068-59f0b4b74c19",
   "metadata": {},
   "outputs": [
    {
     "name": "stdout",
     "output_type": "stream",
     "text": [
      "This Is Pyhton Data Science\n",
      "We are going to do code\n",
      "and learn the secret of python\n",
      "that's it\n"
     ]
    }
   ],
   "source": [
    "print(\"This Is Pyhton Data Science\")\n",
    "print(\"We are going to do code\")\n",
    "print(\"and learn the secret of python\")\n",
    "print(\"that's it\")"
   ]
  },
  {
   "cell_type": "code",
   "execution_count": 12,
   "id": "02dea7bc-0c49-47fe-a6eb-36099a0a59d6",
   "metadata": {},
   "outputs": [
    {
     "name": "stdout",
     "output_type": "stream",
     "text": [
      "The Zen of Python, by Tim Peters\n",
      "\n",
      "Beautiful is better than ugly.\n",
      "Explicit is better than implicit.\n",
      "Simple is better than complex.\n",
      "Complex is better than complicated.\n",
      "Flat is better than nested.\n",
      "Sparse is better than dense.\n",
      "Readability counts.\n",
      "Special cases aren't special enough to break the rules.\n",
      "Although practicality beats purity.\n",
      "Errors should never pass silently.\n",
      "Unless explicitly silenced.\n",
      "In the face of ambiguity, refuse the temptation to guess.\n",
      "There should be one-- and preferably only one --obvious way to do it.\n",
      "Although that way may not be obvious at first unless you're Dutch.\n",
      "Now is better than never.\n",
      "Although never is often better than *right* now.\n",
      "If the implementation is hard to explain, it's a bad idea.\n",
      "If the implementation is easy to explain, it may be a good idea.\n",
      "Namespaces are one honking great idea -- let's do more of those!\n"
     ]
    }
   ],
   "source": [
    "import this"
   ]
  },
  {
   "cell_type": "code",
   "execution_count": 13,
   "id": "543f98cc-a74e-4048-9a80-c55f2c9cc20a",
   "metadata": {},
   "outputs": [
    {
     "name": "stdout",
     "output_type": "stream",
     "text": [
      "this is python Data Science course,\n",
      "we are going to do code\n"
     ]
    }
   ],
   "source": [
    "print('''this is python Data Science course,\n",
    "we are going to do code''')"
   ]
  },
  {
   "cell_type": "markdown",
   "id": "094d42ab-2acf-46ae-a075-8010a9217403",
   "metadata": {},
   "source": [
    "There are few setting in print function that we can Provide whenever we want to print something."
   ]
  },
  {
   "cell_type": "code",
   "execution_count": 14,
   "id": "8cd5c462-2f35-4094-9f74-09084e175054",
   "metadata": {},
   "outputs": [
    {
     "name": "stdout",
     "output_type": "stream",
     "text": [
      "1🥎🥎😀😀🎨🎨👍👍2🥎🥎😀😀🎨🎨👍👍3🥎🥎😀😀🎨🎨👍👍4🥎🥎😀😀🎨🎨👍👍5🥎🥎😀😀🎨🎨👍👍6🥎🥎😀😀🎨🎨👍👍7\n"
     ]
    }
   ],
   "source": [
    "print(1,2,3,4,5,6,7, sep='🥎🥎😀😀🎨🎨👍👍')"
   ]
  },
  {
   "cell_type": "markdown",
   "id": "ae091a5a-f233-42f5-ab5b-c2c81179b825",
   "metadata": {},
   "source": [
    "sep = sepration symbol {Emoji = Window + .)"
   ]
  },
  {
   "cell_type": "code",
   "execution_count": 15,
   "id": "28ed309b-1cf9-4d38-8a8e-9afd448de23e",
   "metadata": {},
   "outputs": [
    {
     "name": "stdout",
     "output_type": "stream",
     "text": [
      "ThisIsMultilineMessage"
     ]
    }
   ],
   "source": [
    "print('This', end='')\n",
    "print('Is', end='')\n",
    "print('Multiline', end='')\n",
    "print('Message', end='')\n"
   ]
  },
  {
   "cell_type": "markdown",
   "id": "6b9e1d2c-a759-483a-91a6-4d4c3762c68e",
   "metadata": {},
   "source": [
    "end = what comes at end of the line(it may be emoji,space,equal etc.\n",
    "\n",
    "Creating a variable in Python age = 18 , Name = Jonny color2 = 'red is_sleeping = false"
   ]
  },
  {
   "cell_type": "code",
   "execution_count": 16,
   "id": "b8e03c1e-49bf-4556-a8af-493325f671fd",
   "metadata": {},
   "outputs": [],
   "source": [
    "age = 78\n",
    "name = 'Jonny'\n",
    "is_married=True\n",
    "color2 ='maroon'\n"
   ]
  },
  {
   "cell_type": "code",
   "execution_count": 17,
   "id": "812f416f-5781-4848-ac39-209955bb3b4e",
   "metadata": {},
   "outputs": [],
   "source": [
    "name = 'nobita'"
   ]
  },
  {
   "cell_type": "code",
   "execution_count": 18,
   "id": "75c9acbd-e434-4dcf-bad1-c25fc0c58b4e",
   "metadata": {},
   "outputs": [],
   "source": [
    "age = 5"
   ]
  },
  {
   "cell_type": "code",
   "execution_count": 19,
   "id": "b24263d1-9efd-4dea-adb2-55e15d0bd060",
   "metadata": {},
   "outputs": [],
   "source": [
    "color2 =12"
   ]
  },
  {
   "cell_type": "markdown",
   "id": "6d07c16e-8a12-487b-a4bf-90b5d77fde33",
   "metadata": {},
   "source": [
    "<h4>datatype can changing by the value of a variable.( New variable of the same Data Type can over write the pricious)<h4>"
   ]
  },
  {
   "cell_type": "code",
   "execution_count": 20,
   "id": "1a057c7a-1b54-4b9d-b9c6-57e54064ccc8",
   "metadata": {},
   "outputs": [],
   "source": [
    " del age"
   ]
  },
  {
   "cell_type": "markdown",
   "id": "74d80349-ec65-4f05-8f45-fc6b50215a11",
   "metadata": {},
   "source": [
    "<h1>Integer<h1>\n",
    "    <h4>Integer in Python means<h4>\n",
    "\n",
    "\n",
    "\n"
   ]
  },
  {
   "cell_type": "code",
   "execution_count": 21,
   "id": "df05cd0d-86ab-4deb-a191-a09809496853",
   "metadata": {},
   "outputs": [],
   "source": [
    "x = 7\n",
    "y = 795\n",
    "z = 6675785432"
   ]
  },
  {
   "cell_type": "markdown",
   "id": "47b8928e-69bb-449f-b779-789736bc4aa7",
   "metadata": {},
   "source": [
    "<h4>Float<h4>\n",
    "    <h5>Flot or 'floting print number', Positive or Negative, Containing one or more decimal float can also be scientfic numbers with an 'e' top inducate the power of 10 we can use type()<h5>\n",
    "<h4>String<h4>\n",
    "    <h5>String literals in Python are surrounded by either single quatation mark or double quatation mark MULTILINE STRING :\n",
    "        we can assign multiple string by using three quotes\"hey\"<h5>\n",
    "<h4>Del<h4>\n",
    "   <h5> Del is use to delete vriable from the memory<h5>"
   ]
  },
  {
   "cell_type": "code",
   "execution_count": 22,
   "id": "5c5f023c-4395-4402-8e32-b9b232ed6273",
   "metadata": {},
   "outputs": [
    {
     "ename": "SyntaxError",
     "evalue": "invalid syntax (1376856797.py, line 1)",
     "output_type": "error",
     "traceback": [
      "\u001b[1;36m  Cell \u001b[1;32mIn[22], line 1\u001b[1;36m\u001b[0m\n\u001b[1;33m    del\u001b[0m\n\u001b[1;37m        ^\u001b[0m\n\u001b[1;31mSyntaxError\u001b[0m\u001b[1;31m:\u001b[0m invalid syntax\n"
     ]
    }
   ],
   "source": [
    "del "
   ]
  },
  {
   "cell_type": "markdown",
   "id": "24e051c4-86e1-4082-85df-ef4468d4e1fa",
   "metadata": {},
   "source": [
    "<h4>Boolean<h4>\n",
    "<h5>True or False<h5>"
   ]
  },
  {
   "cell_type": "code",
   "execution_count": null,
   "id": "433d943f-1140-4dbb-935b-6a5833ff4633",
   "metadata": {},
   "outputs": [],
   "source": [
    "is_coding = True\n",
    "is_fun = True\n",
    "are_you_border = False"
   ]
  },
  {
   "cell_type": "markdown",
   "id": "b0b28617-f5b4-4739-b2e8-509fe572209b",
   "metadata": {},
   "source": [
    "<h4>Nonetype<h4>\n",
    "<h5>Null value and no CREATE a empty variable<h5>\n",
    "<h4>List<h4>\n",
    "<h5>immutable<h5>"
   ]
  },
  {
   "cell_type": "code",
   "execution_count": null,
   "id": "91903b21-2365-4b28-aada-3d0f885e4148",
   "metadata": {},
   "outputs": [],
   "source": [
    "a =[5,10,15,20,25,30,35,40]\n",
    "vals = [1,2,2,'Python']\n",
    "colors = ['red','black','white','yellow']"
   ]
  },
  {
   "cell_type": "markdown",
   "id": "aee76ee2-d0a9-4197-ad87-b87dbe66d9d6",
   "metadata": {},
   "source": [
    "<h5>Sets<h4>"
   ]
  },
  {
   "cell_type": "code",
   "execution_count": null,
   "id": "88e58883-a5d9-4799-af6a-c364e9ce0274",
   "metadata": {},
   "outputs": [],
   "source": [
    "a =[5,10,15,20,25,30,35,40]\n",
    "vals = [1,2,2,'Python']\n",
    "colors = ['red','black','white','yellow']"
   ]
  },
  {
   "cell_type": "markdown",
   "id": "75466466-56c6-4777-849c-62afb17d84e3",
   "metadata": {},
   "source": [
    "<h4>Tuple<h4>"
   ]
  },
  {
   "cell_type": "code",
   "execution_count": null,
   "id": "5b507654-c89e-498d-8dd7-3d004c9fab70",
   "metadata": {},
   "outputs": [],
   "source": [
    "a =[5,10,15,20,25,30,35,40]\n",
    "vals = [1,2,2,'Python']\n",
    "colors = ['red','black','white','yellow']"
   ]
  },
  {
   "cell_type": "markdown",
   "id": "62c10d9b-5b35-4d48-89f9-62137485de7b",
   "metadata": {},
   "source": [
    "<h4>Dictionary<h4>"
   ]
  },
  {
   "cell_type": "code",
   "execution_count": null,
   "id": "a2aad7c1-d824-4c43-acda-63008073b791",
   "metadata": {},
   "outputs": [],
   "source": [
    "Car_info ={\n",
    "    \"brand\":\"ford\",\n",
    "    \"mode1\":\"Mustng\",\n",
    "    \"year\":\"1964\"\n",
    "}\n",
    "    "
   ]
  },
  {
   "cell_type": "markdown",
   "id": "5e711bac-0362-46c1-b4b2-2740d39b86cd",
   "metadata": {},
   "source": [
    "<h4>Input<h4>"
   ]
  },
  {
   "cell_type": "code",
   "execution_count": null,
   "id": "543041f3-570b-476c-8b93-a0fc66c776c2",
   "metadata": {},
   "outputs": [],
   "source": [
    "name = input(\"What is your name\")\n",
    "city = input(\"and where do you live in\")\n",
    "print = (\"so according to you\")\n",
    "print =(\"You are\",name)\n",
    "print =(\"and you live in\",city)"
   ]
  },
  {
   "cell_type": "markdown",
   "id": "b60ed302-7084-43a8-88a1-22dedbcb9472",
   "metadata": {},
   "source": [
    "<h4>Keywords in Python<h4>\n",
    "    <h5>Keyword are reserved words in Python.They are used to Define syntax and structure of the Python. There are 35 keyword \n",
    "        avilable in Python 3.9. they are case sensitive<h5>\n",
    "<h4>Operators<h4>\n",
    "   <h5> There are 7 types of operators avialble in Python.<h5>\n",
    "       \n",
    "      1. Arithmetic Operators"
   ]
  },
  {
   "cell_type": "code",
   "execution_count": null,
   "id": "c59b41cb-e788-4e3a-93bc-82ed62aa3f3a",
   "metadata": {},
   "outputs": [],
   "source": [
    "a = 100\n",
    "b = 33\n",
    "\n",
    "print( a + b) #add\n",
    "print( a - b) #sub\n",
    "print( a * b) #mul\n",
    "print( a / b) #float div\n",
    "print( a // b) #int div\n",
    "print( 23 % 5) # remender\n",
    "print( a ** b) #exponentiation\n",
    "\n"
   ]
  },
  {
   "cell_type": "markdown",
   "id": "9b778070-e9aa-4bf0-873c-599cf048efa1",
   "metadata": {},
   "source": [
    "2. Assignment operators"
   ]
  },
  {
   "cell_type": "code",
   "execution_count": null,
   "id": "ca9791b8-5415-48cf-9e12-986195c0ce45",
   "metadata": {},
   "outputs": [],
   "source": [
    "a = 10 \n",
    "b = 5\n",
    "c = 3\n",
    "# alternative way to assign a value to a variable\n",
    "x, y, z = 10, 20, 25"
   ]
  },
  {
   "cell_type": "code",
   "execution_count": null,
   "id": "5c9fa7e8-9b4d-4061-90d1-0e331c3b5cc1",
   "metadata": {},
   "outputs": [],
   "source": [
    "a +=2 #update a with a+2"
   ]
  },
  {
   "cell_type": "code",
   "execution_count": null,
   "id": "88d2d5e3-248a-4e74-99f5-e8a2704933d8",
   "metadata": {},
   "outputs": [],
   "source": [
    "# Comparison operators\n",
    "print(a > b) # greater than\n",
    "print(a >= b) # greater than or equal to\n",
    "print(a < b) # less than\n",
    "print(a <= b) # less than or equal to\n",
    "print(a == b) # equal to\n",
    "print(a != b) # not equal to"
   ]
  },
  {
   "cell_type": "markdown",
   "id": "3cbe19fb-128d-483f-940a-78389e1168a6",
   "metadata": {},
   "source": [
    "3. Logical Operatoprs"
   ]
  },
  {
   "cell_type": "code",
   "execution_count": null,
   "id": "da5ea0c6-b2cb-4958-ad18-27095f0e190d",
   "metadata": {},
   "outputs": [],
   "source": [
    "print(a > b and a > 5)\n",
    "print(a < b and a > 5)\n",
    "print(a > b or a > 5)\n",
    "print(a < b or a > 5)\n",
    "print(a < b or a < 5)\n",
    "print(not a < b )\n",
    "print(not a and not b and not c)\n"
   ]
  },
  {
   "cell_type": "markdown",
   "id": "38d8f033-2366-44b1-a294-d32e815a8153",
   "metadata": {},
   "source": [
    "4. membership Operators"
   ]
  },
  {
   "cell_type": "code",
   "execution_count": null,
   "id": "3df9c29d-c767-4af6-a32b-df2db385dab1",
   "metadata": {},
   "outputs": [],
   "source": [
    "colors = ['red','blue','yeliow','green','orange']\n",
    "print('red' in colors)\n",
    "print('Red' in colors)\n",
    "print('RED' in colors)\n",
    "print('yellow' in colors)\n",
    "print('green' in colors)\n",
    "print('orange' in colors)\n",
    "print('blue' in colors)\n",
    "print('purple' in colors)"
   ]
  },
  {
   "cell_type": "code",
   "execution_count": null,
   "id": "232901d7-f4b0-41d2-ba83-c0dcfb768329",
   "metadata": {},
   "outputs": [],
   "source": [
    "msg = \"Its the journey that matters \"\n",
    "print('journey' in msg)\n",
    "print('destination' in msg)"
   ]
  },
  {
   "cell_type": "markdown",
   "id": "397997e4-a377-4054-b926-44cd289814cd",
   "metadata": {},
   "source": [
    " is operator check wheter two objects belong to same memory location or not"
   ]
  },
  {
   "cell_type": "markdown",
   "id": "c3e4b02c-ef11-48bb-8054-dcf53ebc7871",
   "metadata": {},
   "source": [
    "Questions:\n",
    "    1.wap to calculate area of circle \n",
    "    2. wap to calculate area of a rectangle\n",
    "    "
   ]
  },
  {
   "cell_type": "code",
   "execution_count": null,
   "id": "f8923a85-8491-4dbc-9a9e-4106b38025c2",
   "metadata": {},
   "outputs": [],
   "source": [
    "# Area of circle = pi * radius ** 2\n",
    "radius = 10\n",
    "area = 3.14 * radius ** 2\n",
    "print(area,'for a circle with a radius ', radius)"
   ]
  },
  {
   "cell_type": "code",
   "execution_count": null,
   "id": "89962c1e-de30-4a8a-93c8-ceae7eab167d",
   "metadata": {},
   "outputs": [],
   "source": [
    " radius = int(input ('enter the circle of radius:'))\n",
    "area = 3.14 * radius ** 2\n",
    "print (area,'for a circle with radius', radius)"
   ]
  },
  {
   "cell_type": "code",
   "execution_count": null,
   "id": "227d6029-eb7e-4b67-bc51-50daf41d85b8",
   "metadata": {},
   "outputs": [],
   "source": [
    "l = float (input('Enter length => '))\n",
    "b = float (input('Enter breadth => '))\n",
    "area = l * b\n",
    "print('Area of the triangle is', area)"
   ]
  },
  {
   "cell_type": "code",
   "execution_count": null,
   "id": "881a1c76-8317-4938-b70e-8b0990ec8e74",
   "metadata": {},
   "outputs": [],
   "source": [
    "h = float (input('Enter Hight=> '))\n",
    "b = float (input('Enter base => '))\n",
    "area_of_triangle = 0.5 * b * h\n",
    "print('Area of triangle is', area_of_triangle)"
   ]
  },
  {
   "cell_type": "code",
   "execution_count": null,
   "id": "a9d26a02-c6fa-4863-9f24-70f4c1c621ff",
   "metadata": {},
   "outputs": [],
   "source": [
    "import math"
   ]
  },
  {
   "cell_type": "code",
   "execution_count": null,
   "id": "98005848-9a28-47b6-9963-4479fd8dd63b",
   "metadata": {},
   "outputs": [],
   "source": [
    "p = float(input('Enter perpendicular'))\n",
    "b = float(input('Enter base'))\n",
    "h = math.hypot(p, b)\n",
    "print('Hypotenuse is', h)\n"
   ]
  },
  {
   "cell_type": "code",
   "execution_count": null,
   "id": "a1e522cd-4c00-4419-ba2c-c3fa96d0b2e2",
   "metadata": {},
   "outputs": [],
   "source": [
    "num = int(input('enter a number: '))\n",
    "fact = math.factorial(num)\n",
    "print('factorial of', num, 'is', fact)"
   ]
  },
  {
   "cell_type": "code",
   "execution_count": null,
   "id": "59c10ae7-a012-4cab-b368-84a65bcbc32e",
   "metadata": {},
   "outputs": [],
   "source": [
    "print(dir(math))"
   ]
  },
  {
   "cell_type": "code",
   "execution_count": null,
   "id": "06f7da4f-878d-497b-a978-2ab2be400ba2",
   "metadata": {},
   "outputs": [],
   "source": [
    "# compound Intrest\n",
    "p = float(input('Enter Principal => '))\n",
    "r = float(input('Enter Rate => '))\n",
    "t = float(input('Enter Time => '))\n",
    "n = float(input('Enter Number of times intrest is compounded => '))\n",
    "ci = p* (1 + r / n) ** (n * t)\n",
    "print('Compound Intrest is', ci)"
   ]
  },
  {
   "cell_type": "code",
   "execution_count": null,
   "id": "919da841-a1a7-4849-88c8-bbc97e9aa328",
   "metadata": {},
   "outputs": [],
   "source": []
  }
 ],
 "metadata": {
  "kernelspec": {
   "display_name": "Python 3 (ipykernel)",
   "language": "python",
   "name": "python3"
  },
  "language_info": {
   "codemirror_mode": {
    "name": "ipython",
    "version": 3
   },
   "file_extension": ".py",
   "mimetype": "text/x-python",
   "name": "python",
   "nbconvert_exporter": "python",
   "pygments_lexer": "ipython3",
   "version": "3.11.1"
  }
 },
 "nbformat": 4,
 "nbformat_minor": 5
}
