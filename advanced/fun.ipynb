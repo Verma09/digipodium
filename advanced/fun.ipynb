{
 "cells": [
  {
   "cell_type": "code",
   "execution_count": 1,
   "id": "2a2ed454-51e6-4999-af6d-8d537cf2e3a7",
   "metadata": {},
   "outputs": [
    {
     "name": "stdout",
     "output_type": "stream",
     "text": [
      "Hi, i m outside any function\n"
     ]
    }
   ],
   "source": [
    "def hello():\n",
    "    print('This is a function')\n",
    "    print('This is not a good function')\n",
    "    print('Forget that this function exists')\n",
    "    print('Bye')\n",
    "    \n",
    "print('Hi, i m outside any function')"
   ]
  },
  {
   "cell_type": "code",
   "execution_count": 3,
   "id": "2b83dae0-3912-42b8-b1a8-a78607cd7915",
   "metadata": {},
   "outputs": [
    {
     "name": "stdout",
     "output_type": "stream",
     "text": [
      "This is a function\n",
      "This is not a good function\n",
      "Forget that this function exists\n",
      "Bye\n"
     ]
    }
   ],
   "source": [
    "hello() # function calling"
   ]
  },
  {
   "cell_type": "code",
   "execution_count": 4,
   "id": "1def6826-e92a-44a6-bd1e-d1d9cd7f23ed",
   "metadata": {},
   "outputs": [
    {
     "name": "stdout",
     "output_type": "stream",
     "text": [
      "This is a function\n",
      "This is not a good function\n",
      "Forget that this function exists\n",
      "Bye\n",
      "This is a function\n",
      "This is not a good function\n",
      "Forget that this function exists\n",
      "Bye\n",
      "This is a function\n",
      "This is not a good function\n",
      "Forget that this function exists\n",
      "Bye\n"
     ]
    }
   ],
   "source": [
    "for i in range(3):\n",
    "    hello()"
   ]
  },
  {
   "cell_type": "code",
   "execution_count": 7,
   "id": "c3a3640d-a3ad-4389-8e59-8d09fe342974",
   "metadata": {},
   "outputs": [],
   "source": [
    "def area(length, breath):\n",
    "    ans = length * breath\n",
    "    return ans\n",
    "   # pass # keyword\n"
   ]
  },
  {
   "cell_type": "code",
   "execution_count": 8,
   "id": "64a9cd8d-f81b-4305-a804-be7d138fb029",
   "metadata": {},
   "outputs": [
    {
     "data": {
      "text/plain": [
       "25"
      ]
     },
     "execution_count": 8,
     "metadata": {},
     "output_type": "execute_result"
    }
   ],
   "source": [
    "area(5,5)"
   ]
  },
  {
   "cell_type": "code",
   "execution_count": 9,
   "id": "06bc7e12-25d4-476b-8705-1d5b592f55da",
   "metadata": {},
   "outputs": [
    {
     "name": "stdout",
     "output_type": "stream",
     "text": [
      "the area is 12\n"
     ]
    }
   ],
   "source": [
    "print('the area is', area(4,3))"
   ]
  },
  {
   "cell_type": "code",
   "execution_count": 10,
   "id": "f3fc45d3-65e9-4ba7-bccc-dd9c973bb829",
   "metadata": {},
   "outputs": [
    {
     "name": "stdout",
     "output_type": "stream",
     "text": [
      "16 20\n"
     ]
    }
   ],
   "source": [
    "a = area(4,4)\n",
    "b = area(4,5)\n",
    "print(a,b)"
   ]
  },
  {
   "cell_type": "code",
   "execution_count": 12,
   "id": "0550591f-20b6-4110-8bb4-04cb79899c4a",
   "metadata": {},
   "outputs": [
    {
     "name": "stdout",
     "output_type": "stream",
     "text": [
      "160\n"
     ]
    }
   ],
   "source": [
    "big_area = area(5,5) + area(10,12) + 15 # function in expression\n",
    "print(big_area)"
   ]
  },
  {
   "cell_type": "code",
   "execution_count": 21,
   "id": "4a014033-e4e8-4e99-a26a-984d5840910c",
   "metadata": {},
   "outputs": [],
   "source": [
    "def fib(start: int, size: int):\n",
    "    '''\n",
    "    this fibonacci series generator\n",
    "    - start: pass a number for the start of fibonacci series\n",
    "    - returns: list of fibonacci series\n",
    "    ```\n",
    "    out = fib(0)\n",
    "    print(out)\n",
    "    ```\n",
    "    ''' # function documentation\n",
    "    out = [start, start+1] # list with 2 init values\n",
    "    for i in range(size-2):\n",
    "        out.append(out[-1] + out[-2])\n",
    "    return out"
   ]
  },
  {
   "cell_type": "code",
   "execution_count": 22,
   "id": "a6c74d45-892e-4f2b-90ec-5251d59f7330",
   "metadata": {},
   "outputs": [
    {
     "name": "stdout",
     "output_type": "stream",
     "text": [
      "[0, 1, 1, 2, 3, 5, 8, 13, 21, 34, 55, 89, 144, 233, 377, 610, 987, 1597, 2584, 4181, 6765, 10946, 17711, 28657, 46368]\n"
     ]
    }
   ],
   "source": [
    "print(fib(0, 25))"
   ]
  },
  {
   "cell_type": "code",
   "execution_count": 23,
   "id": "9e044007-da7c-47e6-bb21-651a84792c32",
   "metadata": {},
   "outputs": [
    {
     "data": {
      "text/plain": [
       "[3, 4, 7, 11, 18, 29]"
      ]
     },
     "execution_count": 23,
     "metadata": {},
     "output_type": "execute_result"
    }
   ],
   "source": [
    "fib(3,6)"
   ]
  },
  {
   "cell_type": "code",
   "execution_count": 26,
   "id": "acd1aae2-d175-4144-984a-7b1eba5fe318",
   "metadata": {},
   "outputs": [],
   "source": [
    "# Create a function to calculate to S.I and amount and returen them\n",
    "def cacl_si_amt(p, r, t):\n",
    "    si = p * r * t / 100\n",
    "    amt = p + si\n",
    "    return si, amt"
   ]
  },
  {
   "cell_type": "code",
   "execution_count": 28,
   "id": "d7cfea14-446b-447d-95a1-c7bd999aad7c",
   "metadata": {},
   "outputs": [
    {
     "data": {
      "text/plain": [
       "(4000.0, 14000.0)"
      ]
     },
     "execution_count": 28,
     "metadata": {},
     "output_type": "execute_result"
    }
   ],
   "source": [
    "cacl_si_amt(10000, 4, 10)"
   ]
  },
  {
   "cell_type": "code",
   "execution_count": 29,
   "id": "82c53678-9ec8-4299-9aa6-de8a98ee7c3d",
   "metadata": {},
   "outputs": [
    {
     "name": "stdout",
     "output_type": "stream",
     "text": [
      "4000.0 14000.0\n"
     ]
    }
   ],
   "source": [
    "si, amt = cacl_si_amt(10000, 4, 10)\n",
    "print(si, amt)"
   ]
  },
  {
   "cell_type": "code",
   "execution_count": 1,
   "id": "1aecd579-1ae9-416e-9b31-74f691b7e11e",
   "metadata": {},
   "outputs": [],
   "source": [
    "import utils"
   ]
  },
  {
   "cell_type": "code",
   "execution_count": 2,
   "id": "104f2dec-13ba-4b32-9902-624fccf726d4",
   "metadata": {},
   "outputs": [],
   "source": [
    "s = 'this is that, that is this, what is where and where '"
   ]
  },
  {
   "cell_type": "code",
   "execution_count": 3,
   "id": "7854e924-38ac-4a9d-91ec-81940b55cf8f",
   "metadata": {},
   "outputs": [
    {
     "data": {
      "text/plain": [
       "{'what': 1,\n",
       " 'this,': 1,\n",
       " 'is': 3,\n",
       " 'where': 2,\n",
       " 'that': 1,\n",
       " 'and': 1,\n",
       " 'this': 1,\n",
       " 'that,': 1}"
      ]
     },
     "execution_count": 3,
     "metadata": {},
     "output_type": "execute_result"
    }
   ],
   "source": [
    "utils.word_counter(s)"
   ]
  },
  {
   "cell_type": "code",
   "execution_count": null,
   "id": "cc930da0-7681-4cc7-b96a-0a0ba59731a6",
   "metadata": {},
   "outputs": [],
   "source": []
  }
 ],
 "metadata": {
  "kernelspec": {
   "display_name": "Python 3 (ipykernel)",
   "language": "python",
   "name": "python3"
  },
  "language_info": {
   "codemirror_mode": {
    "name": "ipython",
    "version": 3
   },
   "file_extension": ".py",
   "mimetype": "text/x-python",
   "name": "python",
   "nbconvert_exporter": "python",
   "pygments_lexer": "ipython3",
   "version": "3.9.13"
  }
 },
 "nbformat": 4,
 "nbformat_minor": 5
}
