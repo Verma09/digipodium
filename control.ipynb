{
 "cells": [
  {
   "cell_type": "code",
   "execution_count": 3,
   "id": "b536f858-5a95-49b3-8dff-d0622d7a3e59",
   "metadata": {},
   "outputs": [
    {
     "data": {
      "text/plain": [
       "8"
      ]
     },
     "execution_count": 3,
     "metadata": {},
     "output_type": "execute_result"
    }
   ],
   "source": [
    "word='volkegen'\n",
    "len(word)\n",
    "\n"
   ]
  },
  {
   "cell_type": "code",
   "execution_count": 2,
   "id": "619571a2-0148-4a32-8f6c-2ddb183421fd",
   "metadata": {},
   "outputs": [
    {
     "name": "stdout",
     "output_type": "stream",
     "text": [
      "P\n",
      "Y\n",
      "T\n",
      "H\n",
      "O\n",
      "N\n"
     ]
    }
   ],
   "source": [
    "x=\"PYTHON\"\n",
    "for i in x:\n",
    "  print(i)"
   ]
  },
  {
   "cell_type": "code",
   "execution_count": 5,
   "id": "49120390-5f6f-45b1-9287-69c379705edc",
   "metadata": {},
   "outputs": [
    {
     "name": "stdout",
     "output_type": "stream",
     "text": [
      "i have Apple\n",
      "i have Banana\n",
      "i have Lemon\n"
     ]
    }
   ],
   "source": [
    "fruits=['Apple', 'Banana','Lemon']\n",
    "for item in fruits:\n",
    "    print(f'i have {item}')\n"
   ]
  },
  {
   "cell_type": "markdown",
   "id": "44433f2e-1fa7-48ba-9503-620a7e09e91e",
   "metadata": {},
   "source": [
    "strings settings\n",
    "-r = raw string\n",
    "-f = formatted string \n",
    "-b = byte string"
   ]
  },
  {
   "cell_type": "code",
   "execution_count": 6,
   "id": "2808f30b-d846-442b-aeff-96e7f23713ec",
   "metadata": {},
   "outputs": [
    {
     "name": "stdout",
     "output_type": "stream",
     "text": [
      " I can count 10 Birds  on the roof\n"
     ]
    }
   ],
   "source": [
    "a = 10\n",
    "b = \"Birds\"\n",
    "print (' I can count',a,b,' on the roof')"
   ]
  },
  {
   "cell_type": "code",
   "execution_count": 7,
   "id": "b894b6e1-aaf2-4644-bd18-839ded7c0ec3",
   "metadata": {},
   "outputs": [
    {
     "name": "stdout",
     "output_type": "stream",
     "text": [
      "i have 10 birds\n"
     ]
    }
   ],
   "source": [
    "a = 10\n",
    "b = \"birds\"\n",
    "print (f'i have {a} {b}')"
   ]
  },
  {
   "cell_type": "markdown",
   "id": "025f5094-025d-493f-809c-fb22b524ac0b",
   "metadata": {},
   "source": [
    "<h4>range() function\n",
    "    * to specify the limit\n",
    "    * 3 main optin\n",
    "    * starting value \n",
    "    * stoping value\n",
    "    * step\n",
    "    * example = range(3,20,2)"
   ]
  },
  {
   "cell_type": "code",
   "execution_count": 9,
   "id": "f80e6a1c-498b-4da9-8e06-26c2744e8fbc",
   "metadata": {},
   "outputs": [
    {
     "name": "stdout",
     "output_type": "stream",
     "text": [
      "you got point 0\n",
      "you got point 1\n",
      "you got point 2\n",
      "you got point 3\n",
      "you got point 4\n",
      "you got point 5\n"
     ]
    }
   ],
   "source": [
    "for i in range(6):\n",
    "    print('you got point',i)"
   ]
  },
  {
   "cell_type": "code",
   "execution_count": 10,
   "id": "ec926790-2ec2-4b7c-afa1-19a665dff808",
   "metadata": {},
   "outputs": [
    {
     "name": "stdout",
     "output_type": "stream",
     "text": [
      "level 1\n",
      "level 4\n",
      "level 7\n"
     ]
    }
   ],
   "source": [
    "for num in range(1,10,3):\n",
    "    print('level',num)"
   ]
  },
  {
   "cell_type": "code",
   "execution_count": 11,
   "id": "34875c21-a539-42cf-a2e4-8c73ca537e10",
   "metadata": {},
   "outputs": [
    {
     "name": "stdout",
     "output_type": "stream",
     "text": [
      "sheep 2\n",
      "sheep 3\n",
      "sheep 4\n",
      "sheep 5\n",
      "sheep 6\n",
      "sheep 7\n",
      "sheep 8\n",
      "sheep 9\n",
      "sheep 10\n"
     ]
    }
   ],
   "source": [
    "for num in range(2,11):\n",
    "    print('sheep',num)"
   ]
  },
  {
   "cell_type": "code",
   "execution_count": 12,
   "id": "56505fc9-47b7-41a1-83f6-83c07c141549",
   "metadata": {},
   "outputs": [
    {
     "name": "stdout",
     "output_type": "stream",
     "text": [
      "10\n",
      "9\n",
      "8\n",
      "7\n",
      "6\n"
     ]
    }
   ],
   "source": [
    "# Reverse loop\n",
    "for num in range(10,5,-1):\n",
    "    print (num)"
   ]
  },
  {
   "cell_type": "code",
   "execution_count": 13,
   "id": "6a29acf2-b370-47de-9e54-e283251d2acb",
   "metadata": {},
   "outputs": [
    {
     "name": "stdout",
     "output_type": "stream",
     "text": [
      "\n",
      "Na\n",
      "NaNa\n",
      "NaNaNa\n",
      "NaNaNaNa\n",
      "NaNaNaNaNa\n",
      "NaNaNaNaNaNa\n",
      "NaNaNaNaNaNaNa\n",
      "NaNaNaNaNaNaNaNa\n",
      "NaNaNaNaNaNaNaNaNa\n"
     ]
    }
   ],
   "source": [
    "# Pattren loop\n",
    "for i in range(10):\n",
    "    print(i * 'Na')"
   ]
  },
  {
   "cell_type": "markdown",
   "id": "70eb67a1-1f9d-47d4-8722-3b0b418c0b35",
   "metadata": {},
   "source": [
    "Extra functional setting for for loop\n",
    "* enumerate\n",
    "* zip"
   ]
  },
  {
   "cell_type": "code",
   "execution_count": 1,
   "id": "b6d810a7-b77e-4505-a09a-c1d2ca812d4b",
   "metadata": {},
   "outputs": [
    {
     "name": "stdout",
     "output_type": "stream",
     "text": [
      "Apple\n",
      "Banana\n",
      "Cherry\n",
      "Orange\n",
      "Kiwi\n",
      "Mango\n"
     ]
    }
   ],
   "source": [
    "fruits = [ 'Apple','Banana', 'Cherry','Orange', 'Kiwi','Mango']\n",
    "for fruit in fruits:\n",
    "    print(fruit)\n"
   ]
  },
  {
   "cell_type": "code",
   "execution_count": 4,
   "id": "965d0459-9016-4896-ba49-ecfaa436df77",
   "metadata": {},
   "outputs": [
    {
     "name": "stdout",
     "output_type": "stream",
     "text": [
      "0 Apple\n",
      "1 Banana\n",
      "2 Cherry\n",
      "3 Orange\n",
      "4 Kiwi\n",
      "5 Mango\n"
     ]
    }
   ],
   "source": [
    "for i,fruit in enumerate(fruits):\n",
    "    print(i,fruit)"
   ]
  },
  {
   "cell_type": "code",
   "execution_count": 5,
   "id": "c0db6d78-14a5-4de4-9b1b-057829fa9c17",
   "metadata": {},
   "outputs": [],
   "source": [
    "prices = [100,40,200,50,240,60]"
   ]
  },
  {
   "cell_type": "code",
   "execution_count": 6,
   "id": "abb4a5b8-ac5a-4814-9599-468197a77b19",
   "metadata": {},
   "outputs": [
    {
     "name": "stdout",
     "output_type": "stream",
     "text": [
      "Apple => 100\n",
      "Banana => 40\n",
      "Cherry => 200\n",
      "Orange => 50\n",
      "Kiwi => 240\n",
      "Mango => 60\n"
     ]
    }
   ],
   "source": [
    "for f,p in zip(fruits,prices):\n",
    "    print(f,'=>',p)"
   ]
  },
  {
   "cell_type": "code",
   "execution_count": 8,
   "id": "75c140b0-97ad-4d5f-a7e0-a87dfcab0dfa",
   "metadata": {},
   "outputs": [],
   "source": [
    "qty = ['2 Kg','2 Dozens','1 Kg','1/2 Kg','5 Kg']"
   ]
  },
  {
   "cell_type": "code",
   "execution_count": 9,
   "id": "e65c34bb-981f-488f-833c-2668aa7e9094",
   "metadata": {},
   "outputs": [
    {
     "name": "stdout",
     "output_type": "stream",
     "text": [
      "Apple => 2 Kg for 100\n",
      "Banana => 2 Dozens for 40\n",
      "Cherry => 1 Kg for 200\n",
      "Orange => 1/2 Kg for 50\n",
      "Kiwi => 5 Kg for 240\n"
     ]
    }
   ],
   "source": [
    "for f,p,q in zip(fruits,prices,qty):\n",
    "    print(f,'=>',q,'for',p)"
   ]
  }
 ],
 "metadata": {
  "kernelspec": {
   "display_name": "Python 3 (ipykernel)",
   "language": "python",
   "name": "python3"
  },
  "language_info": {
   "codemirror_mode": {
    "name": "ipython",
    "version": 3
   },
   "file_extension": ".py",
   "mimetype": "text/x-python",
   "name": "python",
   "nbconvert_exporter": "python",
   "pygments_lexer": "ipython3",
   "version": "3.9.12"
  }
 },
 "nbformat": 4,
 "nbformat_minor": 5
}
